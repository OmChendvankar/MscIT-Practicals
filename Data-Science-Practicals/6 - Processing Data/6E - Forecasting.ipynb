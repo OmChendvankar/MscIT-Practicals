{
 "cells": [
  {
   "cell_type": "code",
   "execution_count": 1,
   "metadata": {},
   "outputs": [
    {
     "name": "stdout",
     "output_type": "stream",
     "text": [
      "Requirement already satisfied: quandl in c:\\programdata\\anaconda3\\lib\\site-packages (3.7.0)\n",
      "Requirement already satisfied: more-itertools in c:\\programdata\\anaconda3\\lib\\site-packages (from quandl) (7.0.0)\n",
      "Requirement already satisfied: requests>=2.7.0 in c:\\programdata\\anaconda3\\lib\\site-packages (from quandl) (2.22.0)\n",
      "Requirement already satisfied: numpy>=1.8 in c:\\programdata\\anaconda3\\lib\\site-packages (from quandl) (1.16.4)\n",
      "Requirement already satisfied: six in c:\\programdata\\anaconda3\\lib\\site-packages (from quandl) (1.12.0)\n",
      "Requirement already satisfied: pandas>=0.14 in c:\\programdata\\anaconda3\\lib\\site-packages (from quandl) (0.24.2)\n",
      "Requirement already satisfied: python-dateutil in c:\\programdata\\anaconda3\\lib\\site-packages (from quandl) (2.8.0)\n",
      "Requirement already satisfied: inflection>=0.3.1 in c:\\programdata\\anaconda3\\lib\\site-packages (from quandl) (0.5.1)\n",
      "Requirement already satisfied: certifi>=2017.4.17 in c:\\programdata\\anaconda3\\lib\\site-packages (from requests>=2.7.0->quandl) (2019.6.16)\n",
      "Requirement already satisfied: urllib3!=1.25.0,!=1.25.1,<1.26,>=1.21.1 in c:\\programdata\\anaconda3\\lib\\site-packages (from requests>=2.7.0->quandl) (1.24.2)\n",
      "Requirement already satisfied: idna<2.9,>=2.5 in c:\\programdata\\anaconda3\\lib\\site-packages (from requests>=2.7.0->quandl) (2.8)\n",
      "Requirement already satisfied: chardet<3.1.0,>=3.0.2 in c:\\programdata\\anaconda3\\lib\\site-packages (from requests>=2.7.0->quandl) (3.0.4)\n",
      "Requirement already satisfied: pytz>=2011k in c:\\programdata\\anaconda3\\lib\\site-packages (from pandas>=0.14->quandl) (2019.1)\n",
      "Note: you may need to restart the kernel to use updated packages.\n"
     ]
    }
   ],
   "source": [
    "pip install quandl"
   ]
  },
  {
   "cell_type": "code",
   "execution_count": 2,
   "metadata": {},
   "outputs": [],
   "source": [
    "import sys\n",
    "import os\n",
    "import sqlite3 as sq\n",
    "import quandl\n",
    "import pandas as pd"
   ]
  },
  {
   "cell_type": "code",
   "execution_count": 3,
   "metadata": {},
   "outputs": [],
   "source": [
    "sInputFileName='C:/VKHCG/04-Clark/00-RawData/VKHCG_Shares.csv'\n",
    "sOutputFileName='Shares.csv'"
   ]
  },
  {
   "cell_type": "code",
   "execution_count": 4,
   "metadata": {},
   "outputs": [],
   "source": [
    "sDataBaseDir='C:/VKHCG/04-Clark/03-Process/SQLite'\n",
    "if not os.path.exists(sDataBaseDir):\n",
    "    os.makedirs(sDataBaseDir) "
   ]
  },
  {
   "cell_type": "code",
   "execution_count": 5,
   "metadata": {},
   "outputs": [],
   "source": [
    "sFileDir1='C:/VKHCG/04-Clark/01-Retrieve/01-EDS/02-Python'\n",
    "if not os.path.exists(sFileDir1):\n",
    "    os.makedirs(sFileDir1) \n",
    "sFileDir2='C:/VKHCG/04-Clark/02-Assess/01-EDS/02-Python'\n",
    "if not os.path.exists(sFileDir2):\n",
    "    os.makedirs(sFileDir2) \n",
    "sFileDir3='C:/VKHCG/04-Clark/03-Process/01-EDS/02-Python'\n",
    "if not os.path.exists(sFileDir3):\n",
    "    os.makedirs(sFileDir3) "
   ]
  },
  {
   "cell_type": "code",
   "execution_count": 6,
   "metadata": {},
   "outputs": [
    {
     "name": "stdout",
     "output_type": "stream",
     "text": [
      "################################\n",
      "Loading : C:/VKHCG/04-Clark/00-RawData/VKHCG_Shares.csv\n",
      "################################\n",
      "Rows : 10\n",
      "Columns: 3\n"
     ]
    }
   ],
   "source": [
    "sDatabaseName=sDataBaseDir + '/clark.db'\n",
    "conn = sq.connect(sDatabaseName)\n",
    "sFileName=sInputFileName\n",
    "print('################################')\n",
    "print('Loading :',sFileName)\n",
    "print('################################')\n",
    "RawData=pd.read_csv(sFileName,header=0,low_memory=False, encoding=\"latin-1\")\n",
    "RawData.drop_duplicates(subset=None, keep='first', inplace=True)\n",
    "print('Rows :',RawData.shape[0])\n",
    "print('Columns:',RawData.shape[1])"
   ]
  },
  {
   "cell_type": "code",
   "execution_count": 7,
   "metadata": {},
   "outputs": [
    {
     "name": "stdout",
     "output_type": "stream",
     "text": [
      "Storing : C:/VKHCG/04-Clark/01-Retrieve/01-EDS/02-Python/Retrieve_Shares.csv\n"
     ]
    }
   ],
   "source": [
    "sFileName=sFileDir1 + '/Retrieve_' + sOutputFileName\n",
    "print('Storing :', sFileName)\n",
    "RawData.to_csv(sFileName, index = False) "
   ]
  },
  {
   "cell_type": "code",
   "execution_count": 8,
   "metadata": {},
   "outputs": [
    {
     "name": "stdout",
     "output_type": "stream",
     "text": [
      "Storing : C:/VKHCG/04-Clark/02-Assess/01-EDS/02-Python/Assess_Shares.csv\n"
     ]
    }
   ],
   "source": [
    "sFileName=sFileDir2 + '/Assess_' + sOutputFileName\n",
    "print('Storing :', sFileName)\n",
    "RawData.to_csv(sFileName, index = False)"
   ]
  },
  {
   "cell_type": "code",
   "execution_count": 9,
   "metadata": {},
   "outputs": [
    {
     "name": "stdout",
     "output_type": "stream",
     "text": [
      "Storing : C:/VKHCG/04-Clark/03-Process/01-EDS/02-Python/Process_Shares.csv\n"
     ]
    }
   ],
   "source": [
    "sFileName=sFileDir3 + '/Process_' + sOutputFileName\n",
    "print('Storing :', sFileName)\n",
    "RawData.to_csv(sFileName, index = False)"
   ]
  },
  {
   "cell_type": "code",
   "execution_count": 10,
   "metadata": {},
   "outputs": [
    {
     "name": "stdout",
     "output_type": "stream",
     "text": [
      "################\n",
      "Share : WIKI/GOOGL\n",
      "Rows : 3424\n",
      "Columns: 14\n",
      "################\n",
      "################\n",
      "Share : WIKI/MSFT\n",
      "Rows : 8076\n",
      "Columns: 14\n",
      "################\n",
      "################\n",
      "Share : WIKI/UPS\n",
      "Rows : 4622\n",
      "Columns: 14\n",
      "################\n",
      "################\n",
      "Share : WIKI/AMZN\n",
      "Rows : 5248\n",
      "Columns: 14\n",
      "################\n",
      "################\n",
      "Share : LOCALBTC/USD\n",
      "Rows : 2388\n",
      "Columns: 6\n",
      "################\n",
      "################\n",
      "Share : PERTH/AUD_USD_M\n",
      "Rows : 359\n",
      "Columns: 8\n",
      "################\n",
      "################\n",
      "Share : PERTH/AUD_USD_D\n",
      "Rows : 8401\n",
      "Columns: 8\n",
      "################\n",
      "################\n",
      "Share : FRED/GDP\n",
      "Rows : 300\n",
      "Columns: 3\n",
      "################\n",
      "################\n",
      "Share : FED/RXI_US_N_A_UK\n",
      "Rows : 52\n",
      "Columns: 3\n",
      "################\n",
      "################\n",
      "Share : FED/RXI_N_A_CA\n",
      "Rows : 52\n",
      "Columns: 3\n",
      "################\n"
     ]
    }
   ],
   "source": [
    "nShares=RawData.shape[0]\n",
    "#nShares=6\n",
    "for sShare in range(nShares):\n",
    "    sShareName=str(RawData['Shares'][sShare])\n",
    "    ShareData = quandl.get(sShareName)\n",
    "    UnitsOwn=RawData['Units'][sShare]\n",
    "    ShareData['UnitsOwn']=ShareData.apply(lambda row:(UnitsOwn),axis=1)\n",
    "    ShareData['ShareCode']=ShareData.apply(lambda row:(sShareName),axis=1)\n",
    "    print('################') \n",
    "    print('Share :',sShareName) \n",
    "    print('Rows :',ShareData.shape[0])\n",
    "    print('Columns:',ShareData.shape[1])\n",
    "    print('################') "
   ]
  },
  {
   "cell_type": "code",
   "execution_count": 11,
   "metadata": {},
   "outputs": [
    {
     "name": "stdout",
     "output_type": "stream",
     "text": [
      "Storing : C:/VKHCG/04-Clark/03-Process/SQLite/clark.db  Table: FED_RXI_N_A_CA\n",
      "Storing : C:/VKHCG/04-Clark/01-Retrieve/01-EDS/02-Python/Retrieve_FED_RXI_N_A_CA.csv\n"
     ]
    }
   ],
   "source": [
    "    sTable=str(RawData['sTable'][sShare])\n",
    "    print('Storing :',sDatabaseName,' Table:',sTable)\n",
    "    ShareData.to_sql(sTable, conn, if_exists=\"replace\")\n",
    "    sOutputFileName = sTable.replace(\"/\",\"-\") + '.csv'\n",
    "    sFileName=sFileDir1 + '/Retrieve_' + sOutputFileName\n",
    "    print('Storing :', sFileName)\n",
    "    ShareData.to_csv(sFileName, index = False)\n",
    "    "
   ]
  },
  {
   "cell_type": "code",
   "execution_count": 12,
   "metadata": {},
   "outputs": [
    {
     "name": "stdout",
     "output_type": "stream",
     "text": [
      "################################\n",
      "Storing : C:/VKHCG/04-Clark/02-Assess/01-EDS/02-Python/Assess_FED_RXI_N_A_CA.csv\n",
      "################################\n",
      "################################\n"
     ]
    }
   ],
   "source": [
    "    sOutputFileName = sTable.replace(\"/\",\"-\") + '.csv'\n",
    "    sFileName=sFileDir2 + '/Assess_' + sOutputFileName\n",
    "    print('################################')\n",
    "    print('Storing :', sFileName)\n",
    "    print('################################')\n",
    "    ShareData.to_csv(sFileName, index = False)\n",
    "    print('################################')"
   ]
  },
  {
   "cell_type": "code",
   "execution_count": 13,
   "metadata": {},
   "outputs": [
    {
     "name": "stdout",
     "output_type": "stream",
     "text": [
      "################################\n",
      "Storing : C:/VKHCG/04-Clark/03-Process/01-EDS/02-Python/Process_FED_RXI_N_A_CA.csv\n",
      "### Done!! ############################################\n"
     ]
    }
   ],
   "source": [
    "    sOutputFileName = sTable.replace(\"/\",\"-\") + '.csv'\n",
    "    sFileName=sFileDir3 + '/Process_' + sOutputFileName\n",
    "    print('################################')\n",
    "    print('Storing :', sFileName)\n",
    "    ShareData.to_csv(sFileName, index = False)\n",
    "print('### Done!! ############################################')"
   ]
  }
 ],
 "metadata": {
  "kernelspec": {
   "display_name": "Python 3",
   "language": "python",
   "name": "python3"
  },
  "language_info": {
   "codemirror_mode": {
    "name": "ipython",
    "version": 3
   },
   "file_extension": ".py",
   "mimetype": "text/x-python",
   "name": "python",
   "nbconvert_exporter": "python",
   "pygments_lexer": "ipython3",
   "version": "3.7.3"
  }
 },
 "nbformat": 4,
 "nbformat_minor": 2
}
