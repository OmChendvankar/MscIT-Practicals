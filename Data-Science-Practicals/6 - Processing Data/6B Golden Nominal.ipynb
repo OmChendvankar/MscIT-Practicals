{
 "cells": [
  {
   "cell_type": "code",
   "execution_count": 55,
   "metadata": {},
   "outputs": [],
   "source": [
    "import sys\n",
    "import os\n",
    "import sqlite3 as sq\n",
    "import pandas as pd\n",
    "from pandas.io import sql\n",
    "from datetime import datetime, timedelta\n",
    "from pytz import timezone, all_timezones\n",
    "from random import randint\n",
    "import uuid"
   ]
  },
  {
   "cell_type": "code",
   "execution_count": 56,
   "metadata": {},
   "outputs": [],
   "source": [
    "if sys.platform == 'linux': \n",
    "    Base=os.path.expanduser('~') + '/VKHCG'\n",
    "else:\n",
    "    Base='C:/VKHCG'"
   ]
  },
  {
   "cell_type": "code",
   "execution_count": 57,
   "metadata": {},
   "outputs": [],
   "source": [
    "sInputFileName='C:/VKHCG/04-Clark/02-Assess/01-EDS/02-Python/Assess_People.csv'\n",
    "sDataBaseDir='C:/VKHCG/04-Clark/03-Process/SQLite'\n",
    "if not os.path.exists(sDataBaseDir):\n",
    "    os.makedirs(sDataBaseDir)\n",
    "sDatabaseName=sDataBaseDir + '/clark.db'\n",
    "conn1 = sq.connect(sDatabaseName)\n",
    "sDataVaultDir=Base + '/88-DV'\n",
    "if not os.path.exists(sDataBaseDir):\n",
    "    os.makedirs(sDataBaseDir)\n",
    "sDatabaseName=sDataVaultDir + '/datavault.db'\n",
    "conn2 = sq.connect(sDatabaseName)"
   ]
  },
  {
   "cell_type": "code",
   "execution_count": 58,
   "metadata": {},
   "outputs": [
    {
     "name": "stdout",
     "output_type": "stream",
     "text": [
      "################################\n",
      "Loading : C:/VKHCG/04-Clark/02-Assess/01-EDS/02-Python/Assess_People.csv\n",
      "################################\n",
      "C:/VKHCG/04-Clark/02-Assess/01-EDS/02-Python/Assess_People.csv\n",
      "(20000, 4)\n"
     ]
    },
    {
     "data": {
      "text/html": [
       "<div>\n",
       "<style scoped>\n",
       "    .dataframe tbody tr th:only-of-type {\n",
       "        vertical-align: middle;\n",
       "    }\n",
       "\n",
       "    .dataframe tbody tr th {\n",
       "        vertical-align: top;\n",
       "    }\n",
       "\n",
       "    .dataframe thead th {\n",
       "        text-align: right;\n",
       "    }\n",
       "</style>\n",
       "<table border=\"1\" class=\"dataframe\">\n",
       "  <thead>\n",
       "    <tr style=\"text-align: right;\">\n",
       "      <th></th>\n",
       "      <th>FirstName</th>\n",
       "      <th>SecondName</th>\n",
       "      <th>LastName</th>\n",
       "      <th>Gender</th>\n",
       "    </tr>\n",
       "  </thead>\n",
       "  <tbody>\n",
       "    <tr>\n",
       "      <th>0</th>\n",
       "      <td>Rheba</td>\n",
       "      <td>Darcie</td>\n",
       "      <td>Kong</td>\n",
       "      <td>Female</td>\n",
       "    </tr>\n",
       "    <tr>\n",
       "      <th>1</th>\n",
       "      <td>Norris</td>\n",
       "      <td>Solomon</td>\n",
       "      <td>Layne</td>\n",
       "      <td>Male</td>\n",
       "    </tr>\n",
       "    <tr>\n",
       "      <th>2</th>\n",
       "      <td>Alva</td>\n",
       "      <td>Fausto</td>\n",
       "      <td>Russo</td>\n",
       "      <td>Male</td>\n",
       "    </tr>\n",
       "    <tr>\n",
       "      <th>3</th>\n",
       "      <td>Barbara</td>\n",
       "      <td>Victoria</td>\n",
       "      <td>Dayton</td>\n",
       "      <td>Female</td>\n",
       "    </tr>\n",
       "    <tr>\n",
       "      <th>4</th>\n",
       "      <td>Antwan</td>\n",
       "      <td>Martin</td>\n",
       "      <td>Shin</td>\n",
       "      <td>Male</td>\n",
       "    </tr>\n",
       "  </tbody>\n",
       "</table>\n",
       "</div>"
      ],
      "text/plain": [
       "  FirstName SecondName LastName  Gender\n",
       "0     Rheba     Darcie     Kong  Female\n",
       "1    Norris    Solomon    Layne    Male\n",
       "2      Alva     Fausto    Russo    Male\n",
       "3   Barbara   Victoria   Dayton  Female\n",
       "4    Antwan     Martin     Shin    Male"
      ]
     },
     "execution_count": 58,
     "metadata": {},
     "output_type": "execute_result"
    }
   ],
   "source": [
    "sFileName=sInputFileName\n",
    "print('################################')\n",
    "print('Loading :',sFileName)\n",
    "print('################################')\n",
    "print(sFileName)\n",
    "RawData=pd.read_csv(sFileName,header=0,low_memory=False, encoding=\"latin-1\") \n",
    "print(RawData.shape)\n",
    "RawData.head()"
   ]
  },
  {
   "cell_type": "code",
   "execution_count": 59,
   "metadata": {},
   "outputs": [],
   "source": [
    "RawData.drop_duplicates(subset=None, keep='first', inplace=True)\n",
    "start_date = datetime(1900,1,1,0,0,0)\n",
    "start_date_utc=start_date.replace(tzinfo=timezone('UTC'))\n",
    "HoursBirth=100*365*24\n",
    "RawData['BirthDateUTC']=RawData.apply(lambda row:\n",
    " (start_date_utc + timedelta(hours=randint(0, HoursBirth)))\n",
    " ,axis=1)\n",
    "zonemax=len(all_timezones)-1\n",
    "RawData['TimeZone']=RawData.apply(lambda row:\n",
    " (all_timezones[randint(0, zonemax)])\n",
    " ,axis=1)\n",
    "RawData['BirthDateISO']=RawData.apply(lambda row:\n",
    " row[\"BirthDateUTC\"].astimezone(timezone(row['TimeZone']))\n",
    " ,axis=1)\n",
    "RawData['BirthDateKey']=RawData.apply(lambda row:\n",
    " row[\"BirthDateUTC\"].strftime(\"%Y-%m-%d %H:%M:%S\")\n",
    " ,axis=1)\n",
    "RawData['BirthDate']=RawData.apply(lambda row:\n",
    " row[\"BirthDateISO\"].strftime(\"%Y-%m-%d %H:%M:%S\")\n",
    " ,axis=1)\n",
    "RawData['PersonID']=RawData.apply(lambda row:\n",
    " str(uuid.uuid4())\n",
    " ,axis=1)"
   ]
  },
  {
   "cell_type": "code",
   "execution_count": 60,
   "metadata": {},
   "outputs": [
    {
     "name": "stdout",
     "output_type": "stream",
     "text": [
      "################\n",
      "Storing : C:/VKHCG/88-DV/datavault.db  Table: Process_Person\n",
      "################\n",
      "Storing : C:/VKHCG/88-DV/datavault.db  Table: Hub-Person\n"
     ]
    },
    {
     "name": "stderr",
     "output_type": "stream",
     "text": [
      "C:\\ProgramData\\Anaconda3\\lib\\site-packages\\ipykernel_launcher.py:13: SettingWithCopyWarning: \n",
      "A value is trying to be set on a copy of a slice from a DataFrame.\n",
      "Try using .loc[row_indexer,col_indexer] = value instead\n",
      "\n",
      "See the caveats in the documentation: http://pandas.pydata.org/pandas-docs/stable/indexing.html#indexing-view-versus-copy\n",
      "  del sys.path[0]\n"
     ]
    }
   ],
   "source": [
    "Data=RawData.copy()\n",
    "Data.drop('BirthDateUTC', axis=1,inplace=True) \n",
    "Data.drop('BirthDateISO', axis=1,inplace=True)\n",
    "indexed_data = Data.set_index(['PersonID'])\n",
    "print('################') \n",
    "sTable='Process_Person'\n",
    "print('Storing :',sDatabaseName,' Table:',sTable)\n",
    "indexed_data.to_sql(sTable, conn1, if_exists=\"replace\")\n",
    "print('################') \n",
    "PersonHubRaw=Data[['PersonID','FirstName','SecondName','LastName','BirthDateKey']]\n",
    "PersonHubRaw['PersonHubID']=RawData.apply(lambda row:\n",
    " str(uuid.uuid4())\n",
    " ,axis=1)\n",
    "PersonHub=PersonHubRaw.drop_duplicates(subset=None, \\\n",
    " keep='first',\\\n",
    "inplace=False)\n",
    "indexed_PersonHub = PersonHub.set_index(['PersonHubID'])\n",
    "sTable = 'Hub-Person'\n",
    "print('Storing :',sDatabaseName,' Table:',sTable)\n",
    "indexed_PersonHub.to_sql(sTable, conn2, if_exists=\"replace\")"
   ]
  },
  {
   "cell_type": "code",
   "execution_count": 61,
   "metadata": {},
   "outputs": [
    {
     "name": "stdout",
     "output_type": "stream",
     "text": [
      "Storing : C:/VKHCG/88-DV/datavault.db  Table: Satellite-Person-Gender\n"
     ]
    },
    {
     "name": "stderr",
     "output_type": "stream",
     "text": [
      "C:\\ProgramData\\Anaconda3\\lib\\site-packages\\ipykernel_launcher.py:5: SettingWithCopyWarning: \n",
      "A value is trying to be set on a copy of a slice from a DataFrame.\n",
      "Try using .loc[row_indexer,col_indexer] = value instead\n",
      "\n",
      "See the caveats in the documentation: http://pandas.pydata.org/pandas-docs/stable/indexing.html#indexing-view-versus-copy\n",
      "  \"\"\"\n"
     ]
    }
   ],
   "source": [
    "PersonSatelliteGenderRaw=Data[['PersonID','FirstName','SecondName','LastName'\\\n",
    " ,'BirthDateKey','Gender']]\n",
    "PersonSatelliteGenderRaw['PersonSatelliteID']=RawData.apply(lambda row:\n",
    " str(uuid.uuid4())\n",
    " ,axis=1)\n",
    "PersonSatelliteGender=PersonSatelliteGenderRaw.drop_duplicates(subset=None, \\\n",
    " keep='first', \\\n",
    "inplace=False)\n",
    "indexed_PersonSatelliteGender = PersonSatelliteGender.set_index(['PersonSatelliteID'])\n",
    "sTable = 'Satellite-Person-Gender'\n",
    "print('Storing :',sDatabaseName,' Table:',sTable)\n",
    "indexed_PersonSatelliteGender.to_sql(sTable, conn2, if_exists=\"replace\") "
   ]
  },
  {
   "cell_type": "code",
   "execution_count": 62,
   "metadata": {},
   "outputs": [
    {
     "name": "stdout",
     "output_type": "stream",
     "text": [
      "Storing : C:/VKHCG/88-DV/datavault.db  Table: Satellite-Person-Names\n"
     ]
    }
   ],
   "source": [
    "PersonSatelliteBirthdayRaw=Data[['PersonID','FirstName','SecondName','LastName',\\\n",
    " 'BirthDateKey','TimeZone','BirthDate']]\n",
    "PersonSatelliteBirthdayRaw['PersonSatelliteID']=RawData.apply(lambda row:\n",
    " str(uuid.uuid4())\n",
    " ,axis=1)\n",
    "PersonSatelliteBirthday=PersonSatelliteBirthdayRaw.drop_duplicates(subset=None, \\\n",
    " keep='first',\\\n",
    " inplace=False)\n",
    "indexed_PersonSatelliteBirthday = PersonSatelliteBirthday.set_index(['PersonSatelliteID'])\n",
    "sTable = 'Satellite-Person-Names'\n",
    "print('Storing :',sDatabaseName,' Table:',sTable)\n",
    "indexed_PersonSatelliteBirthday.to_sql(sTable, conn2, if_exists=\"replace\")"
   ]
  },
  {
   "cell_type": "code",
   "execution_count": 63,
   "metadata": {},
   "outputs": [
    {
     "name": "stdout",
     "output_type": "stream",
     "text": [
      "################################\n",
      "Storing : C:/VKHCG/04-Clark/03-Process/01-EDS/02-Python/Satellite-Person-Names.csv\n",
      "################################\n",
      "Vacuum Databases\n",
      "### Done!! ############################################\n"
     ]
    }
   ],
   "source": [
    "sFileDir='C:/VKHCG/04-Clark/03-Process/01-EDS/02-Python'\n",
    "if not os.path.exists(sFileDir):\n",
    "    os.makedirs(sFileDir)\n",
    "    sOutputFileName = sTable + '.csv'\n",
    "sFileName=sFileDir + '/' + sOutputFileName\n",
    "print('################################')\n",
    "print('Storing :', sFileName)\n",
    "print('################################')\n",
    "RawData.to_csv(sFileName, index = False)\n",
    "print('Vacuum Databases')\n",
    "sSQL=\"VACUUM;\"\n",
    "sql.execute(sSQL,conn1)\n",
    "sql.execute(sSQL,conn2)\n",
    "#################################################################\n",
    "print('### Done!! ############################################')"
   ]
  },
  {
   "cell_type": "code",
   "execution_count": null,
   "metadata": {},
   "outputs": [],
   "source": []
  }
 ],
 "metadata": {
  "kernelspec": {
   "display_name": "Python 3",
   "language": "python",
   "name": "python3"
  },
  "language_info": {
   "codemirror_mode": {
    "name": "ipython",
    "version": 3
   },
   "file_extension": ".py",
   "mimetype": "text/x-python",
   "name": "python",
   "nbconvert_exporter": "python",
   "pygments_lexer": "ipython3",
   "version": "3.7.3"
  }
 },
 "nbformat": 4,
 "nbformat_minor": 2
}
