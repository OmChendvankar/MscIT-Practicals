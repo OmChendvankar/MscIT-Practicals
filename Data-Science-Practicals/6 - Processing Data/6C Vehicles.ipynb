{
 "cells": [
  {
   "cell_type": "code",
   "execution_count": 164,
   "metadata": {},
   "outputs": [],
   "source": [
    "import sys\n",
    "import os\n",
    "import pandas as pd\n",
    "import sqlite3 as sq\n",
    "from pandas.io import sql\n",
    "import uuid\n",
    "pd.options.mode.chained_assignment = None\n"
   ]
  },
  {
   "cell_type": "code",
   "execution_count": 174,
   "metadata": {},
   "outputs": [],
   "source": [
    "if sys.platform == 'linux': \n",
    "    Base=os.path.expanduser('~') + '/VKHCG'\n",
    "else:\n",
    "    Base='C:/VKHCG'\n"
   ]
  },
  {
   "cell_type": "code",
   "execution_count": 166,
   "metadata": {},
   "outputs": [],
   "source": [
    "InputDir='00-RawData'\n",
    "InputFileName='C:/VKHCG/03-Hillman/00-RawData/VehicleData.csv'"
   ]
  },
  {
   "cell_type": "code",
   "execution_count": 167,
   "metadata": {},
   "outputs": [],
   "source": [
    "sDataBaseDir='C:/VKHCG/03-Hillman/03-Process/SQLite'\n",
    "if not os.path.exists(sDataBaseDir):\n",
    "    os.makedirs(sDataBaseDir)\n",
    "sDatabaseName=sDataBaseDir + '/Hillman.db'\n",
    "conn1 = sq.connect(sDatabaseName)\n"
   ]
  },
  {
   "cell_type": "code",
   "execution_count": 168,
   "metadata": {},
   "outputs": [
    {
     "name": "stdout",
     "output_type": "stream",
     "text": [
      "Loading : C:/VKHCG/03-Hillman/00-RawData/VehicleData.csv\n"
     ]
    }
   ],
   "source": [
    "sDataVaultDir=Base + '/88-DV'\n",
    "if not os.path.exists(sDataBaseDir):\n",
    "    os.makedirs(sDataBaseDir)\n",
    "sDatabaseName=sDataVaultDir + '/datavault.db'\n",
    "conn2 = sq.connect(sDatabaseName)\n",
    "sFileName=InputFileName\n",
    "print('Loading :',sFileName)\n",
    "VehicleRaw=pd.read_csv(sFileName,header=0,low_memory=False, encoding=\"latin-1\")\n"
   ]
  },
  {
   "cell_type": "code",
   "execution_count": 169,
   "metadata": {},
   "outputs": [
    {
     "name": "stdout",
     "output_type": "stream",
     "text": [
      "Storing : C:/VKHCG/88-DV/datavault.db  Table: Process_Vehicles\n"
     ]
    }
   ],
   "source": [
    "sTable='Process_Vehicles'\n",
    "print('Storing :',sDatabaseName,' Table:',sTable)\n",
    "VehicleRaw.to_sql(sTable, conn1, if_exists=\"replace\")\n"
   ]
  },
  {
   "cell_type": "code",
   "execution_count": 170,
   "metadata": {},
   "outputs": [
    {
     "name": "stdout",
     "output_type": "stream",
     "text": [
      "Storing : C:/VKHCG/88-DV/datavault.db  Table: Hub-Object-Vehicle\n"
     ]
    }
   ],
   "source": [
    "VehicleRawKey=VehicleRaw[['Make','Model']].copy()\n",
    "VehicleKey=VehicleRawKey.drop_duplicates()\n",
    "VehicleKey['ObjectKey']=VehicleKey.apply(lambda row: \n",
    " str('('+ str(row['Make']).strip().replace(' ', '-').replace('/', '-').lower() + \n",
    " ')-(' + (str(row['Model']).strip().replace(' ', '-').replace(' ', '-').lower())\n",
    " +')')\n",
    " ,axis=1)\n",
    "VehicleKey['ObjectType']=VehicleKey.apply(lambda row: \n",
    " 'vehicle'\n",
    " ,axis=1)\n",
    "VehicleKey['ObjectUUID']=VehicleKey.apply(lambda row: \n",
    " str(uuid.uuid4())\n",
    " ,axis=1)\n",
    "VehicleHub=VehicleKey[['ObjectType','ObjectKey','ObjectUUID']].copy()\n",
    "VehicleHub.index.name='ObjectHubID'\n",
    "sTable = 'Hub-Object-Vehicle'\n",
    "print('Storing :',sDatabaseName,' Table:',sTable)\n",
    "VehicleHub.to_sql(sTable, conn2, if_exists=\"replace\")\n"
   ]
  },
  {
   "cell_type": "code",
   "execution_count": 171,
   "metadata": {},
   "outputs": [
    {
     "name": "stdout",
     "output_type": "stream",
     "text": [
      "Storing : C:/VKHCG/88-DV/datavault.db  Table: Satellite-Object-Make-Model\n"
     ]
    }
   ],
   "source": [
    "VehicleSatellite=VehicleKey[['ObjectType','ObjectKey','ObjectUUID','Make','Model']].copy()\n",
    "VehicleSatellite.index.name='ObjectSatelliteID'\n",
    "sTable = 'Satellite-Object-Make-Model'\n",
    "print('Storing :',sDatabaseName,' Table:',sTable)\n",
    "VehicleSatellite.to_sql(sTable, conn2, if_exists=\"replace\")"
   ]
  },
  {
   "cell_type": "code",
   "execution_count": 172,
   "metadata": {},
   "outputs": [
    {
     "name": "stdout",
     "output_type": "stream",
     "text": [
      "Storing : C:/VKHCG/88-DV/datavault.db  View: Dim-Object\n",
      "################\n",
      "Loading : C:/VKHCG/88-DV/datavault.db  Table: Dim-Object\n",
      "################\n",
      "(3885, 2)\n"
     ]
    },
    {
     "data": {
      "text/html": [
       "<div>\n",
       "<style scoped>\n",
       "    .dataframe tbody tr th:only-of-type {\n",
       "        vertical-align: middle;\n",
       "    }\n",
       "\n",
       "    .dataframe tbody tr th {\n",
       "        vertical-align: top;\n",
       "    }\n",
       "\n",
       "    .dataframe thead th {\n",
       "        text-align: right;\n",
       "    }\n",
       "</style>\n",
       "<table border=\"1\" class=\"dataframe\">\n",
       "  <thead>\n",
       "    <tr style=\"text-align: right;\">\n",
       "      <th></th>\n",
       "      <th>VehicleMake</th>\n",
       "      <th>VehicleModel</th>\n",
       "    </tr>\n",
       "    <tr>\n",
       "      <th>ObjectDimID</th>\n",
       "      <th></th>\n",
       "      <th></th>\n",
       "    </tr>\n",
       "  </thead>\n",
       "  <tbody>\n",
       "    <tr>\n",
       "      <th>2213</th>\n",
       "      <td>AM General</td>\n",
       "      <td>DJ Po Vehicle 2WD</td>\n",
       "    </tr>\n",
       "    <tr>\n",
       "      <th>2212</th>\n",
       "      <td>AM General</td>\n",
       "      <td>FJ8c Post Office</td>\n",
       "    </tr>\n",
       "    <tr>\n",
       "      <th>129</th>\n",
       "      <td>AM General</td>\n",
       "      <td>Post Office DJ5 2WD</td>\n",
       "    </tr>\n",
       "    <tr>\n",
       "      <th>131</th>\n",
       "      <td>AM General</td>\n",
       "      <td>Post Office DJ8 2WD</td>\n",
       "    </tr>\n",
       "    <tr>\n",
       "      <th>2869</th>\n",
       "      <td>ASC Incorporated</td>\n",
       "      <td>GNX</td>\n",
       "    </tr>\n",
       "  </tbody>\n",
       "</table>\n",
       "</div>"
      ],
      "text/plain": [
       "                  VehicleMake         VehicleModel\n",
       "ObjectDimID                                       \n",
       "2213               AM General    DJ Po Vehicle 2WD\n",
       "2212               AM General     FJ8c Post Office\n",
       "129                AM General  Post Office DJ5 2WD\n",
       "131                AM General  Post Office DJ8 2WD\n",
       "2869         ASC Incorporated                  GNX"
      ]
     },
     "execution_count": 172,
     "metadata": {},
     "output_type": "execute_result"
    }
   ],
   "source": [
    "sView='Dim-Object'\n",
    "print('Storing :',sDatabaseName,' View:',sView)\n",
    "sSQL=\"CREATE VIEW IF NOT EXISTS [\" + sView + \"] AS\"\n",
    "sSQL=sSQL+ \" SELECT DISTINCT\"\n",
    "sSQL=sSQL+ \" H.ObjectType,\"\n",
    "sSQL=sSQL+ \" H.ObjectKey AS VehicleKey,\"\n",
    "sSQL=sSQL+ \" TRIM(S.Make) AS VehicleMake,\"\n",
    "sSQL=sSQL+ \" TRIM(S.Model) AS VehicleModel\"\n",
    "sSQL=sSQL+ \" FROM\"\n",
    "sSQL=sSQL+ \" [Hub-Object-Vehicle] AS H\"\n",
    "sSQL=sSQL+ \" JOIN\"\n",
    "sSQL=sSQL+ \" [Satellite-Object-Make-Model] AS S\"\n",
    "sSQL=sSQL+ \" ON\"\n",
    "sSQL=sSQL+ \" H.ObjectType=S.ObjectType\"\n",
    "sSQL=sSQL+ \" AND\"\n",
    "sSQL=sSQL+ \" H.ObjectUUID=S.ObjectUUID;\"\n",
    "sql.execute(sSQL,conn2)\n",
    "print('################') \n",
    "print('Loading :',sDatabaseName,' Table:',sView)\n",
    "sSQL=\" SELECT DISTINCT\"\n",
    "sSQL=sSQL+ \" VehicleMake,\"\n",
    "sSQL=sSQL+ \" VehicleModel\"\n",
    "sSQL=sSQL+ \" FROM\"\n",
    "sSQL=sSQL+ \" [\" + sView + \"]\"\n",
    "sSQL=sSQL+ \" ORDER BY\"\n",
    "sSQL=sSQL+ \" VehicleMake\"\n",
    "sSQL=sSQL+ \" AND\"\n",
    "sSQL=sSQL+ \" VehicleMake;\"\n",
    "DimObjectData=pd.read_sql_query(sSQL, conn2)\n",
    "DimObjectData.index.name='ObjectDimID'\n",
    "DimObjectData.sort_values(['VehicleMake','VehicleModel'],inplace=True, ascending=True)\n",
    "print('################') \n",
    "print(DimObjectData.shape)\n",
    "DimObjectData.head()"
   ]
  },
  {
   "cell_type": "code",
   "execution_count": 173,
   "metadata": {},
   "outputs": [
    {
     "name": "stdout",
     "output_type": "stream",
     "text": [
      "################\n",
      "Vacuum Databases\n",
      "################\n",
      "### Done!! ############################################\n"
     ]
    }
   ],
   "source": [
    "print('################') \n",
    "print('Vacuum Databases')\n",
    "sSQL=\"VACUUM;\"\n",
    "sql.execute(sSQL,conn1)\n",
    "sql.execute(sSQL,conn2)\n",
    "print('################') \n",
    "conn1.close()\n",
    "conn2.close()\n",
    "print('### Done!! ############################################')\n"
   ]
  },
  {
   "cell_type": "code",
   "execution_count": null,
   "metadata": {},
   "outputs": [],
   "source": []
  }
 ],
 "metadata": {
  "kernelspec": {
   "display_name": "Python 3",
   "language": "python",
   "name": "python3"
  },
  "language_info": {
   "codemirror_mode": {
    "name": "ipython",
    "version": 3
   },
   "file_extension": ".py",
   "mimetype": "text/x-python",
   "name": "python",
   "nbconvert_exporter": "python",
   "pygments_lexer": "ipython3",
   "version": "3.7.3"
  }
 },
 "nbformat": 4,
 "nbformat_minor": 2
}
