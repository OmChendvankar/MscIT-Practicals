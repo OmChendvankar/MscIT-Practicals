{
 "cells": [
  {
   "cell_type": "code",
   "execution_count": null,
   "metadata": {},
   "outputs": [],
   "source": [
    "# Write Python / R program to create the network routing diagram from the given data on routers"
   ]
  },
  {
   "cell_type": "code",
   "execution_count": 49,
   "metadata": {},
   "outputs": [],
   "source": [
    "import sys\n",
    "import os\n",
    "import pandas as pd"
   ]
  },
  {
   "cell_type": "code",
   "execution_count": 50,
   "metadata": {},
   "outputs": [],
   "source": [
    "sInputFileName1='C:/VKHCG/01-Vermeulen/01-Retrieve/01-EDS/01-R/Retrieve_Country_Code.csv'\n",
    "sInputFileName2='C:/VKHCG/01-Vermeulen/01-Retrieve/01-EDS/02-Python/Retrieve_Router_Location.csv'\n",
    "sInputFileName3='C:/VKHCG/01-Vermeulen/01-Retrieve/01-EDS/01-R/Retrieve_IP_DATA.csv'\n",
    "OutputFileName='Assess-Network-Routing-Company.csv'\n",
    "#InputFileDir ='C:/VKHCG/01-Vermeulen/01-Retrieve/01-EDS/01-R'\n",
    "OutputFileDir = 'C:/VKHCG/01-Vermeulen/02-Assess/01-EDS/02-Python'"
   ]
  },
  {
   "cell_type": "code",
   "execution_count": 51,
   "metadata": {},
   "outputs": [
    {
     "name": "stdout",
     "output_type": "stream",
     "text": [
      "Loading : C:/VKHCG/01-Vermeulen/01-Retrieve/01-EDS/01-R/Retrieve_Country_Code.csv\n"
     ]
    }
   ],
   "source": [
    "### Import Country Data\n",
    "print('Loading :',sInputFileName1)"
   ]
  },
  {
   "cell_type": "code",
   "execution_count": 52,
   "metadata": {},
   "outputs": [
    {
     "name": "stdout",
     "output_type": "stream",
     "text": [
      "Loaded Country: ['RowID' 'Country' 'ISO-2-CODE' 'ISO-3-Code' 'ISO-M49']\n"
     ]
    }
   ],
   "source": [
    "CountryData=pd.read_csv(sInputFileName1,header=0,low_memory=False, encoding=\"latin-1\")\n",
    "print('Loaded Country:',CountryData.columns.values)"
   ]
  },
  {
   "cell_type": "code",
   "execution_count": 53,
   "metadata": {},
   "outputs": [
    {
     "name": "stdout",
     "output_type": "stream",
     "text": [
      "Changed : ['RowID' 'Country' 'ISO-2-CODE' 'ISO-3-Code' 'ISO-M49']\n"
     ]
    }
   ],
   "source": [
    "## Assess Country Data\n",
    "print('Changed :',CountryData.columns.values)"
   ]
  },
  {
   "cell_type": "code",
   "execution_count": 54,
   "metadata": {},
   "outputs": [
    {
     "name": "stdout",
     "output_type": "stream",
     "text": [
      "To : ['Country_Name' 'Country_Code']\n"
     ]
    }
   ],
   "source": [
    "CountryData.rename(columns={'Country': 'Country_Name'}, inplace=True)\n",
    "CountryData.rename(columns={'ISO-2-CODE': 'Country_Code'}, inplace=True)\n",
    "CountryData.drop('ISO-M49', axis=1, inplace=True)\n",
    "CountryData.drop('ISO-3-Code', axis=1, inplace=True)\n",
    "CountryData.drop('RowID', axis=1, inplace=True)\n",
    "print('To :',CountryData.columns.values)"
   ]
  },
  {
   "cell_type": "code",
   "execution_count": 55,
   "metadata": {},
   "outputs": [
    {
     "data": {
      "text/html": [
       "<div>\n",
       "<style scoped>\n",
       "    .dataframe tbody tr th:only-of-type {\n",
       "        vertical-align: middle;\n",
       "    }\n",
       "\n",
       "    .dataframe tbody tr th {\n",
       "        vertical-align: top;\n",
       "    }\n",
       "\n",
       "    .dataframe thead th {\n",
       "        text-align: right;\n",
       "    }\n",
       "</style>\n",
       "<table border=\"1\" class=\"dataframe\">\n",
       "  <thead>\n",
       "    <tr style=\"text-align: right;\">\n",
       "      <th></th>\n",
       "      <th>Country_Name</th>\n",
       "      <th>Country_Code</th>\n",
       "    </tr>\n",
       "  </thead>\n",
       "  <tbody>\n",
       "    <tr>\n",
       "      <td>0</td>\n",
       "      <td>Andorra</td>\n",
       "      <td>AD</td>\n",
       "    </tr>\n",
       "    <tr>\n",
       "      <td>1</td>\n",
       "      <td>United Arab Emirates</td>\n",
       "      <td>AE</td>\n",
       "    </tr>\n",
       "    <tr>\n",
       "      <td>2</td>\n",
       "      <td>Afghanistan</td>\n",
       "      <td>AF</td>\n",
       "    </tr>\n",
       "    <tr>\n",
       "      <td>3</td>\n",
       "      <td>Antigua and Barbuda</td>\n",
       "      <td>AG</td>\n",
       "    </tr>\n",
       "    <tr>\n",
       "      <td>4</td>\n",
       "      <td>Anguilla</td>\n",
       "      <td>AI</td>\n",
       "    </tr>\n",
       "  </tbody>\n",
       "</table>\n",
       "</div>"
      ],
      "text/plain": [
       "           Country_Name Country_Code\n",
       "0               Andorra           AD\n",
       "1  United Arab Emirates           AE\n",
       "2           Afghanistan           AF\n",
       "3   Antigua and Barbuda           AG\n",
       "4              Anguilla           AI"
      ]
     },
     "execution_count": 55,
     "metadata": {},
     "output_type": "execute_result"
    }
   ],
   "source": [
    "CountryData.head()"
   ]
  },
  {
   "cell_type": "code",
   "execution_count": 56,
   "metadata": {},
   "outputs": [
    {
     "name": "stdout",
     "output_type": "stream",
     "text": [
      "Loading : C:/VKHCG/01-Vermeulen/01-Retrieve/01-EDS/02-Python/Retrieve_Router_Location.csv\n"
     ]
    }
   ],
   "source": [
    "### Import Company Data\n",
    "print('Loading :',sInputFileName2)"
   ]
  },
  {
   "cell_type": "code",
   "execution_count": 57,
   "metadata": {},
   "outputs": [
    {
     "name": "stdout",
     "output_type": "stream",
     "text": [
      "Loaded Company : ['Country' 'Place_Name' 'Latitude' 'Longitude']\n"
     ]
    }
   ],
   "source": [
    "CompanyData=pd.read_csv(sInputFileName2,header=0,low_memory=False, encoding=\"latin-1\")\n",
    "print('Loaded Company :',CompanyData.columns.values)"
   ]
  },
  {
   "cell_type": "code",
   "execution_count": 58,
   "metadata": {},
   "outputs": [
    {
     "name": "stdout",
     "output_type": "stream",
     "text": [
      "Changed : ['Country' 'Place_Name' 'Latitude' 'Longitude']\n",
      "To : ['Country_Code' 'Place_Name' 'Latitude' 'Longitude']\n"
     ]
    }
   ],
   "source": [
    "## Assess Company Data\n",
    "print('Changed :',CompanyData.columns.values)\n",
    "CompanyData.rename(columns={'Country': 'Country_Code'}, inplace=True)\n",
    "print('To :',CompanyData.columns.values)"
   ]
  },
  {
   "cell_type": "code",
   "execution_count": 59,
   "metadata": {},
   "outputs": [
    {
     "data": {
      "text/html": [
       "<div>\n",
       "<style scoped>\n",
       "    .dataframe tbody tr th:only-of-type {\n",
       "        vertical-align: middle;\n",
       "    }\n",
       "\n",
       "    .dataframe tbody tr th {\n",
       "        vertical-align: top;\n",
       "    }\n",
       "\n",
       "    .dataframe thead th {\n",
       "        text-align: right;\n",
       "    }\n",
       "</style>\n",
       "<table border=\"1\" class=\"dataframe\">\n",
       "  <thead>\n",
       "    <tr style=\"text-align: right;\">\n",
       "      <th></th>\n",
       "      <th>Country_Code</th>\n",
       "      <th>Place_Name</th>\n",
       "      <th>Latitude</th>\n",
       "      <th>Longitude</th>\n",
       "    </tr>\n",
       "  </thead>\n",
       "  <tbody>\n",
       "    <tr>\n",
       "      <td>0</td>\n",
       "      <td>US</td>\n",
       "      <td>New York</td>\n",
       "      <td>40.7528</td>\n",
       "      <td>-73.9725</td>\n",
       "    </tr>\n",
       "    <tr>\n",
       "      <td>1</td>\n",
       "      <td>US</td>\n",
       "      <td>New York</td>\n",
       "      <td>40.7214</td>\n",
       "      <td>-74.0052</td>\n",
       "    </tr>\n",
       "    <tr>\n",
       "      <td>2</td>\n",
       "      <td>US</td>\n",
       "      <td>New York</td>\n",
       "      <td>40.7662</td>\n",
       "      <td>-73.9862</td>\n",
       "    </tr>\n",
       "    <tr>\n",
       "      <td>3</td>\n",
       "      <td>US</td>\n",
       "      <td>New York</td>\n",
       "      <td>40.7449</td>\n",
       "      <td>-73.9782</td>\n",
       "    </tr>\n",
       "    <tr>\n",
       "      <td>4</td>\n",
       "      <td>US</td>\n",
       "      <td>New York</td>\n",
       "      <td>40.7605</td>\n",
       "      <td>-73.9933</td>\n",
       "    </tr>\n",
       "  </tbody>\n",
       "</table>\n",
       "</div>"
      ],
      "text/plain": [
       "  Country_Code Place_Name  Latitude  Longitude\n",
       "0           US   New York   40.7528   -73.9725\n",
       "1           US   New York   40.7214   -74.0052\n",
       "2           US   New York   40.7662   -73.9862\n",
       "3           US   New York   40.7449   -73.9782\n",
       "4           US   New York   40.7605   -73.9933"
      ]
     },
     "execution_count": 59,
     "metadata": {},
     "output_type": "execute_result"
    }
   ],
   "source": [
    "CompanyData.head()"
   ]
  },
  {
   "cell_type": "code",
   "execution_count": 60,
   "metadata": {},
   "outputs": [
    {
     "name": "stdout",
     "output_type": "stream",
     "text": [
      "Loading : C:/VKHCG/01-Vermeulen/01-Retrieve/01-EDS/01-R/Retrieve_IP_DATA.csv\n"
     ]
    }
   ],
   "source": [
    "### Import Customer Data\n",
    "print('Loading :',sInputFileName3)"
   ]
  },
  {
   "cell_type": "code",
   "execution_count": 61,
   "metadata": {},
   "outputs": [
    {
     "name": "stdout",
     "output_type": "stream",
     "text": [
      "Loaded Customer : ['RowID' 'Country' 'Place.Name' 'Post.Code' 'Latitude' 'Longitude']\n"
     ]
    }
   ],
   "source": [
    "CustomerRawData=pd.read_csv(sInputFileName3,header=0,low_memory=False, encoding=\"latin-1\")\n",
    "print('Loaded Customer :',CustomerRawData.columns.values)"
   ]
  },
  {
   "cell_type": "code",
   "execution_count": 62,
   "metadata": {},
   "outputs": [
    {
     "name": "stdout",
     "output_type": "stream",
     "text": [
      "Remove Blank Country Code\n",
      "Reduce Rows from 1247502  to  1150326\n",
      "Changed : ['RowID' 'Country' 'Place.Name' 'Post.Code' 'Latitude' 'Longitude']\n"
     ]
    }
   ],
   "source": [
    "CustomerData=CustomerRawData.dropna(axis=0, how='any')\n",
    "print('Remove Blank Country Code')\n",
    "print('Reduce Rows from', CustomerRawData.shape[0],' to ', CustomerData.shape[0])\n",
    "print('Changed :',CustomerData.columns.values)"
   ]
  },
  {
   "cell_type": "code",
   "execution_count": 63,
   "metadata": {},
   "outputs": [
    {
     "name": "stdout",
     "output_type": "stream",
     "text": [
      "To : ['RowID' 'Country_Code' 'Place.Name' 'Post.Code' 'Latitude' 'Longitude']\n"
     ]
    }
   ],
   "source": [
    "CustomerData.rename(columns={'Country': 'Country_Code'}, inplace=True)\n",
    "print('To :',CustomerData.columns.values)"
   ]
  },
  {
   "cell_type": "code",
   "execution_count": 64,
   "metadata": {},
   "outputs": [
    {
     "data": {
      "text/html": [
       "<div>\n",
       "<style scoped>\n",
       "    .dataframe tbody tr th:only-of-type {\n",
       "        vertical-align: middle;\n",
       "    }\n",
       "\n",
       "    .dataframe tbody tr th {\n",
       "        vertical-align: top;\n",
       "    }\n",
       "\n",
       "    .dataframe thead th {\n",
       "        text-align: right;\n",
       "    }\n",
       "</style>\n",
       "<table border=\"1\" class=\"dataframe\">\n",
       "  <thead>\n",
       "    <tr style=\"text-align: right;\">\n",
       "      <th></th>\n",
       "      <th>RowID</th>\n",
       "      <th>Country_Code</th>\n",
       "      <th>Place.Name</th>\n",
       "      <th>Post.Code</th>\n",
       "      <th>Latitude</th>\n",
       "      <th>Longitude</th>\n",
       "    </tr>\n",
       "  </thead>\n",
       "  <tbody>\n",
       "    <tr>\n",
       "      <td>2311</td>\n",
       "      <td>2312</td>\n",
       "      <td>US</td>\n",
       "      <td>Pittsburgh</td>\n",
       "      <td>15222</td>\n",
       "      <td>40.4495</td>\n",
       "      <td>-79.988</td>\n",
       "    </tr>\n",
       "    <tr>\n",
       "      <td>2312</td>\n",
       "      <td>2313</td>\n",
       "      <td>US</td>\n",
       "      <td>Pittsburgh</td>\n",
       "      <td>15222</td>\n",
       "      <td>40.4495</td>\n",
       "      <td>-79.988</td>\n",
       "    </tr>\n",
       "    <tr>\n",
       "      <td>2313</td>\n",
       "      <td>2314</td>\n",
       "      <td>US</td>\n",
       "      <td>Pittsburgh</td>\n",
       "      <td>15222</td>\n",
       "      <td>40.4495</td>\n",
       "      <td>-79.988</td>\n",
       "    </tr>\n",
       "    <tr>\n",
       "      <td>2314</td>\n",
       "      <td>2315</td>\n",
       "      <td>US</td>\n",
       "      <td>Pittsburgh</td>\n",
       "      <td>15222</td>\n",
       "      <td>40.4495</td>\n",
       "      <td>-79.988</td>\n",
       "    </tr>\n",
       "    <tr>\n",
       "      <td>2315</td>\n",
       "      <td>2316</td>\n",
       "      <td>US</td>\n",
       "      <td>Pittsburgh</td>\n",
       "      <td>15222</td>\n",
       "      <td>40.4495</td>\n",
       "      <td>-79.988</td>\n",
       "    </tr>\n",
       "  </tbody>\n",
       "</table>\n",
       "</div>"
      ],
      "text/plain": [
       "      RowID Country_Code  Place.Name Post.Code  Latitude  Longitude\n",
       "2311   2312           US  Pittsburgh     15222   40.4495    -79.988\n",
       "2312   2313           US  Pittsburgh     15222   40.4495    -79.988\n",
       "2313   2314           US  Pittsburgh     15222   40.4495    -79.988\n",
       "2314   2315           US  Pittsburgh     15222   40.4495    -79.988\n",
       "2315   2316           US  Pittsburgh     15222   40.4495    -79.988"
      ]
     },
     "execution_count": 64,
     "metadata": {},
     "output_type": "execute_result"
    }
   ],
   "source": [
    "CustomerData.head()"
   ]
  },
  {
   "cell_type": "code",
   "execution_count": 70,
   "metadata": {},
   "outputs": [],
   "source": [
    "### Merge Company and Country Data\n",
    "CompanyNetworkData=pd.merge(\n",
    "        CompanyData, \n",
    "        CountryData, \n",
    "        how='inner', \n",
    "        on='Country_Code'\n",
    "        )"
   ]
  },
  {
   "cell_type": "code",
   "execution_count": 71,
   "metadata": {},
   "outputs": [
    {
     "data": {
      "text/html": [
       "<div>\n",
       "<style scoped>\n",
       "    .dataframe tbody tr th:only-of-type {\n",
       "        vertical-align: middle;\n",
       "    }\n",
       "\n",
       "    .dataframe tbody tr th {\n",
       "        vertical-align: top;\n",
       "    }\n",
       "\n",
       "    .dataframe thead th {\n",
       "        text-align: right;\n",
       "    }\n",
       "</style>\n",
       "<table border=\"1\" class=\"dataframe\">\n",
       "  <thead>\n",
       "    <tr style=\"text-align: right;\">\n",
       "      <th></th>\n",
       "      <th>Country_Code</th>\n",
       "      <th>Place_Name</th>\n",
       "      <th>Latitude</th>\n",
       "      <th>Longitude</th>\n",
       "      <th>Country_Name</th>\n",
       "    </tr>\n",
       "  </thead>\n",
       "  <tbody>\n",
       "    <tr>\n",
       "      <td>0</td>\n",
       "      <td>US</td>\n",
       "      <td>New York</td>\n",
       "      <td>40.7528</td>\n",
       "      <td>-73.9725</td>\n",
       "      <td>United States of America</td>\n",
       "    </tr>\n",
       "    <tr>\n",
       "      <td>1</td>\n",
       "      <td>US</td>\n",
       "      <td>New York</td>\n",
       "      <td>40.7214</td>\n",
       "      <td>-74.0052</td>\n",
       "      <td>United States of America</td>\n",
       "    </tr>\n",
       "    <tr>\n",
       "      <td>2</td>\n",
       "      <td>US</td>\n",
       "      <td>New York</td>\n",
       "      <td>40.7662</td>\n",
       "      <td>-73.9862</td>\n",
       "      <td>United States of America</td>\n",
       "    </tr>\n",
       "    <tr>\n",
       "      <td>3</td>\n",
       "      <td>US</td>\n",
       "      <td>New York</td>\n",
       "      <td>40.7449</td>\n",
       "      <td>-73.9782</td>\n",
       "      <td>United States of America</td>\n",
       "    </tr>\n",
       "    <tr>\n",
       "      <td>4</td>\n",
       "      <td>US</td>\n",
       "      <td>New York</td>\n",
       "      <td>40.7605</td>\n",
       "      <td>-73.9933</td>\n",
       "      <td>United States of America</td>\n",
       "    </tr>\n",
       "  </tbody>\n",
       "</table>\n",
       "</div>"
      ],
      "text/plain": [
       "  Country_Code Place_Name  Latitude  Longitude              Country_Name\n",
       "0           US   New York   40.7528   -73.9725  United States of America\n",
       "1           US   New York   40.7214   -74.0052  United States of America\n",
       "2           US   New York   40.7662   -73.9862  United States of America\n",
       "3           US   New York   40.7449   -73.9782  United States of America\n",
       "4           US   New York   40.7605   -73.9933  United States of America"
      ]
     },
     "execution_count": 71,
     "metadata": {},
     "output_type": "execute_result"
    }
   ],
   "source": [
    "CompanyNetworkData.head()"
   ]
  },
  {
   "cell_type": "code",
   "execution_count": 72,
   "metadata": {},
   "outputs": [
    {
     "data": {
      "text/plain": [
       "(150, 5)"
      ]
     },
     "execution_count": 72,
     "metadata": {},
     "output_type": "execute_result"
    }
   ],
   "source": [
    "CompanyNetworkData.shape"
   ]
  },
  {
   "cell_type": "code",
   "execution_count": 73,
   "metadata": {},
   "outputs": [
    {
     "name": "stdout",
     "output_type": "stream",
     "text": [
      "Change  ['Country_Code' 'Place_Name' 'Latitude' 'Longitude' 'Country_Name']\n"
     ]
    }
   ],
   "source": [
    "print('Change ',CompanyNetworkData.columns.values)"
   ]
  },
  {
   "cell_type": "code",
   "execution_count": 74,
   "metadata": {},
   "outputs": [
    {
     "name": "stdout",
     "output_type": "stream",
     "text": [
      "To  ['Company_Country_Code' 'Company_Place_Name' 'Company_Latitude'\n",
      " 'Company_Longitude' 'Company_Country_Name']\n"
     ]
    }
   ],
   "source": [
    "for i in CompanyNetworkData.columns.values:\n",
    "    j='Company_'+i\n",
    "    CompanyNetworkData.rename(columns={i: j}, inplace=True)\n",
    "print('To ', CompanyNetworkData.columns.values)"
   ]
  },
  {
   "cell_type": "code",
   "execution_count": 81,
   "metadata": {},
   "outputs": [
    {
     "data": {
      "text/html": [
       "<div>\n",
       "<style scoped>\n",
       "    .dataframe tbody tr th:only-of-type {\n",
       "        vertical-align: middle;\n",
       "    }\n",
       "\n",
       "    .dataframe tbody tr th {\n",
       "        vertical-align: top;\n",
       "    }\n",
       "\n",
       "    .dataframe thead th {\n",
       "        text-align: right;\n",
       "    }\n",
       "</style>\n",
       "<table border=\"1\" class=\"dataframe\">\n",
       "  <thead>\n",
       "    <tr style=\"text-align: right;\">\n",
       "      <th></th>\n",
       "      <th>Company_Country_Code</th>\n",
       "      <th>Company_Place_Name</th>\n",
       "      <th>Company_Latitude</th>\n",
       "      <th>Company_Longitude</th>\n",
       "      <th>Company_Country_Name</th>\n",
       "    </tr>\n",
       "  </thead>\n",
       "  <tbody>\n",
       "    <tr>\n",
       "      <td>0</td>\n",
       "      <td>US</td>\n",
       "      <td>New York</td>\n",
       "      <td>40.7528</td>\n",
       "      <td>-73.9725</td>\n",
       "      <td>United States of America</td>\n",
       "    </tr>\n",
       "    <tr>\n",
       "      <td>1</td>\n",
       "      <td>US</td>\n",
       "      <td>New York</td>\n",
       "      <td>40.7214</td>\n",
       "      <td>-74.0052</td>\n",
       "      <td>United States of America</td>\n",
       "    </tr>\n",
       "    <tr>\n",
       "      <td>2</td>\n",
       "      <td>US</td>\n",
       "      <td>New York</td>\n",
       "      <td>40.7662</td>\n",
       "      <td>-73.9862</td>\n",
       "      <td>United States of America</td>\n",
       "    </tr>\n",
       "    <tr>\n",
       "      <td>3</td>\n",
       "      <td>US</td>\n",
       "      <td>New York</td>\n",
       "      <td>40.7449</td>\n",
       "      <td>-73.9782</td>\n",
       "      <td>United States of America</td>\n",
       "    </tr>\n",
       "    <tr>\n",
       "      <td>4</td>\n",
       "      <td>US</td>\n",
       "      <td>New York</td>\n",
       "      <td>40.7605</td>\n",
       "      <td>-73.9933</td>\n",
       "      <td>United States of America</td>\n",
       "    </tr>\n",
       "  </tbody>\n",
       "</table>\n",
       "</div>"
      ],
      "text/plain": [
       "  Company_Country_Code Company_Place_Name  Company_Latitude  \\\n",
       "0                   US           New York           40.7528   \n",
       "1                   US           New York           40.7214   \n",
       "2                   US           New York           40.7662   \n",
       "3                   US           New York           40.7449   \n",
       "4                   US           New York           40.7605   \n",
       "\n",
       "   Company_Longitude      Company_Country_Name  \n",
       "0           -73.9725  United States of America  \n",
       "1           -74.0052  United States of America  \n",
       "2           -73.9862  United States of America  \n",
       "3           -73.9782  United States of America  \n",
       "4           -73.9933  United States of America  "
      ]
     },
     "execution_count": 81,
     "metadata": {},
     "output_type": "execute_result"
    }
   ],
   "source": [
    "CompanyNetworkData.head()"
   ]
  },
  {
   "cell_type": "code",
   "execution_count": 82,
   "metadata": {},
   "outputs": [
    {
     "data": {
      "text/plain": [
       "(150, 5)"
      ]
     },
     "execution_count": 82,
     "metadata": {},
     "output_type": "execute_result"
    }
   ],
   "source": [
    "CompanyNetworkData.shape"
   ]
  },
  {
   "cell_type": "code",
   "execution_count": 78,
   "metadata": {},
   "outputs": [
    {
     "name": "stdout",
     "output_type": "stream",
     "text": [
      "Storing : C:/VKHCG/01-Vermeulen/02-Assess/01-EDS/02-Python/Assess-Network-Routing-Company.csv\n"
     ]
    }
   ],
   "source": [
    "# Output\n",
    "OutputFileName=OutputFileDir + '/' + OutputFileName\n",
    "print('Storing :', OutputFileName)"
   ]
  },
  {
   "cell_type": "code",
   "execution_count": 80,
   "metadata": {},
   "outputs": [],
   "source": [
    "CompanyNetworkData.to_csv(OutputFileName, index = False, encoding=\"latin-1\")"
   ]
  }
 ],
 "metadata": {
  "kernelspec": {
   "display_name": "Python 3",
   "language": "python",
   "name": "python3"
  },
  "language_info": {
   "codemirror_mode": {
    "name": "ipython",
    "version": 3
   },
   "file_extension": ".py",
   "mimetype": "text/x-python",
   "name": "python",
   "nbconvert_exporter": "python",
   "pygments_lexer": "ipython3",
   "version": "3.7.4"
  }
 },
 "nbformat": 4,
 "nbformat_minor": 2
}
