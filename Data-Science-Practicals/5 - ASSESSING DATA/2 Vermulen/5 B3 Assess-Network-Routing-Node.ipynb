{
 "cells": [
  {
   "cell_type": "code",
   "execution_count": 1,
   "metadata": {},
   "outputs": [],
   "source": [
    "import sys\n",
    "import os\n",
    "import pandas as pd"
   ]
  },
  {
   "cell_type": "code",
   "execution_count": 2,
   "metadata": {},
   "outputs": [],
   "source": [
    "InputFileName='C:/VKHCG/01-Vermeulen/01-Retrieve/01-EDS/01-R/Retrieve_IP_DATA.csv'\n",
    "OutputFileName='Assess-Network-Routing-Node.csv'\n",
    "OutputFileDir = 'C:/VKHCG/01-Vermeulen/02-Assess/01-EDS/02-Python'"
   ]
  },
  {
   "cell_type": "code",
   "execution_count": 3,
   "metadata": {},
   "outputs": [
    {
     "name": "stdout",
     "output_type": "stream",
     "text": [
      "Loading : C:/VKHCG/01-Vermeulen/01-Retrieve/01-EDS/01-R/Retrieve_IP_DATA.csv\n"
     ]
    }
   ],
   "source": [
    "print('Loading :',InputFileName)"
   ]
  },
  {
   "cell_type": "code",
   "execution_count": 4,
   "metadata": {},
   "outputs": [
    {
     "name": "stdout",
     "output_type": "stream",
     "text": [
      "Loaded IP : ['RowID' 'Country' 'Place.Name' 'Post.Code' 'Latitude' 'Longitude']\n"
     ]
    }
   ],
   "source": [
    "IPData=pd.read_csv(InputFileName,header=0,low_memory=False, encoding=\"latin-1\")\n",
    "print('Loaded IP :', IPData.columns.values)"
   ]
  },
  {
   "cell_type": "code",
   "execution_count": 5,
   "metadata": {},
   "outputs": [
    {
     "name": "stdout",
     "output_type": "stream",
     "text": [
      "Changed From: ['RowID' 'Country' 'Place.Name' 'Post.Code' 'Latitude' 'Longitude']\n"
     ]
    }
   ],
   "source": [
    "print('Changed From:',IPData.columns.values)"
   ]
  },
  {
   "cell_type": "code",
   "execution_count": 9,
   "metadata": {},
   "outputs": [
    {
     "name": "stdout",
     "output_type": "stream",
     "text": [
      "To : ['Country_Code' 'Place_Name' 'Post_Code' 'Latitude' 'Longitude']\n"
     ]
    }
   ],
   "source": [
    "IPData.drop('RowID', axis=1, inplace=True)\n",
    "IPData.drop('ID', axis=1, inplace=True)\n",
    "IPData.rename(columns={'Country': 'Country_Code'}, inplace=True)\n",
    "IPData.rename(columns={'Place.Name': 'Place_Name'}, inplace=True)\n",
    "IPData.rename(columns={'Post.Code': 'Post_Code'}, inplace=True)\n",
    "IPData.rename(columns={'First.IP.Number': 'First_IP_Number'}, inplace=True)\n",
    "IPData.rename(columns={'Last.IP.Number': 'Last_IP_Number'}, inplace=True)\n",
    "print('To :',IPData.columns.values)"
   ]
  },
  {
   "cell_type": "code",
   "execution_count": 10,
   "metadata": {},
   "outputs": [
    {
     "data": {
      "text/html": [
       "<div>\n",
       "<style scoped>\n",
       "    .dataframe tbody tr th:only-of-type {\n",
       "        vertical-align: middle;\n",
       "    }\n",
       "\n",
       "    .dataframe tbody tr th {\n",
       "        vertical-align: top;\n",
       "    }\n",
       "\n",
       "    .dataframe thead th {\n",
       "        text-align: right;\n",
       "    }\n",
       "</style>\n",
       "<table border=\"1\" class=\"dataframe\">\n",
       "  <thead>\n",
       "    <tr style=\"text-align: right;\">\n",
       "      <th></th>\n",
       "      <th>Country_Code</th>\n",
       "      <th>Place_Name</th>\n",
       "      <th>Post_Code</th>\n",
       "      <th>Latitude</th>\n",
       "      <th>Longitude</th>\n",
       "    </tr>\n",
       "  </thead>\n",
       "  <tbody>\n",
       "    <tr>\n",
       "      <td>0</td>\n",
       "      <td>BW</td>\n",
       "      <td>Gaborone</td>\n",
       "      <td>NaN</td>\n",
       "      <td>-24.6464</td>\n",
       "      <td>25.9119</td>\n",
       "    </tr>\n",
       "    <tr>\n",
       "      <td>1</td>\n",
       "      <td>BW</td>\n",
       "      <td>Gaborone</td>\n",
       "      <td>NaN</td>\n",
       "      <td>-24.6464</td>\n",
       "      <td>25.9119</td>\n",
       "    </tr>\n",
       "    <tr>\n",
       "      <td>2</td>\n",
       "      <td>BW</td>\n",
       "      <td>Gaborone</td>\n",
       "      <td>NaN</td>\n",
       "      <td>-24.6464</td>\n",
       "      <td>25.9119</td>\n",
       "    </tr>\n",
       "    <tr>\n",
       "      <td>3</td>\n",
       "      <td>BW</td>\n",
       "      <td>Gaborone</td>\n",
       "      <td>NaN</td>\n",
       "      <td>-24.6464</td>\n",
       "      <td>25.9119</td>\n",
       "    </tr>\n",
       "    <tr>\n",
       "      <td>4</td>\n",
       "      <td>BW</td>\n",
       "      <td>Gaborone</td>\n",
       "      <td>NaN</td>\n",
       "      <td>-24.6464</td>\n",
       "      <td>25.9119</td>\n",
       "    </tr>\n",
       "  </tbody>\n",
       "</table>\n",
       "</div>"
      ],
      "text/plain": [
       "  Country_Code Place_Name Post_Code  Latitude  Longitude\n",
       "0           BW   Gaborone       NaN  -24.6464    25.9119\n",
       "1           BW   Gaborone       NaN  -24.6464    25.9119\n",
       "2           BW   Gaborone       NaN  -24.6464    25.9119\n",
       "3           BW   Gaborone       NaN  -24.6464    25.9119\n",
       "4           BW   Gaborone       NaN  -24.6464    25.9119"
      ]
     },
     "execution_count": 10,
     "metadata": {},
     "output_type": "execute_result"
    }
   ],
   "source": [
    "IPData.head()"
   ]
  },
  {
   "cell_type": "code",
   "execution_count": 11,
   "metadata": {},
   "outputs": [
    {
     "name": "stdout",
     "output_type": "stream",
     "text": [
      "Change  From ['Country_Code' 'Place_Name' 'Post_Code' 'Latitude' 'Longitude']\n",
      "To  ['Node_Country_Code' 'Node_Place_Name' 'Node_Post_Code' 'Node_Latitude'\n",
      " 'Node_Longitude']\n"
     ]
    }
   ],
   "source": [
    "print('Change  From',IPData.columns.values)\n",
    "for i in IPData.columns.values:\n",
    "    j='Node_'+i\n",
    "    IPData.rename(columns={i: j}, inplace=True)\n",
    "print('To ', IPData.columns.values)"
   ]
  },
  {
   "cell_type": "code",
   "execution_count": 12,
   "metadata": {},
   "outputs": [
    {
     "name": "stdout",
     "output_type": "stream",
     "text": [
      "Storing : C:/VKHCG/01-Vermeulen/02-Assess/01-EDS/02-Python/Assess-Network-Routing-Node.csv\n"
     ]
    }
   ],
   "source": [
    "OutputFileName=OutputFileDir + '/' + OutputFileName\n",
    "print('Storing :', OutputFileName)"
   ]
  },
  {
   "cell_type": "code",
   "execution_count": 14,
   "metadata": {},
   "outputs": [
    {
     "name": "stdout",
     "output_type": "stream",
     "text": [
      "Storing : C:/VKHCG/01-Vermeulen/02-Assess/01-EDS/02-Python/Assess-Network-Routing-Node.csv\n"
     ]
    }
   ],
   "source": [
    "print('Storing :', OutputFileName)\n",
    "IPData.to_csv(OutputFileName, index = False, encoding=\"latin-1\")"
   ]
  }
 ],
 "metadata": {
  "kernelspec": {
   "display_name": "Python 3",
   "language": "python",
   "name": "python3"
  },
  "language_info": {
   "codemirror_mode": {
    "name": "ipython",
    "version": 3
   },
   "file_extension": ".py",
   "mimetype": "text/x-python",
   "name": "python",
   "nbconvert_exporter": "python",
   "pygments_lexer": "ipython3",
   "version": "3.7.4"
  }
 },
 "nbformat": 4,
 "nbformat_minor": 2
}
