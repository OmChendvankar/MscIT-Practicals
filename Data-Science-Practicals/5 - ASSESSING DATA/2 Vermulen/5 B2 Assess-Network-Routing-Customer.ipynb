{
 "cells": [
  {
   "cell_type": "code",
   "execution_count": null,
   "metadata": {},
   "outputs": [],
   "source": [
    "# Write Python / R program to create the network routing diagram from the given data on routers"
   ]
  },
  {
   "cell_type": "code",
   "execution_count": 2,
   "metadata": {},
   "outputs": [],
   "source": [
    "import sys\n",
    "import os\n",
    "import pandas as pd"
   ]
  },
  {
   "cell_type": "code",
   "execution_count": 4,
   "metadata": {},
   "outputs": [],
   "source": [
    "sInputFileName1='C:/VKHCG/01-Vermeulen/01-Retrieve/01-EDS/01-R/Retrieve_Country_Code.csv'\n",
    "sInputFileName2='C:/VKHCG/01-Vermeulen/01-Retrieve/01-EDS/02-Python/Retrieve_All_Router_Location.csv' \n",
    "\n",
    "OutputFileName='Assess-Network-Routing-Customer.csv'\n",
    "#InputFileDir ='C:/VKHCG/01-Vermeulen/01-Retrieve/01-EDS/01-R'\n",
    "OutputFileDir = 'C:/VKHCG/01-Vermeulen/02-Assess/01-EDS/02-Python'"
   ]
  },
  {
   "cell_type": "code",
   "execution_count": 3,
   "metadata": {},
   "outputs": [
    {
     "name": "stdout",
     "output_type": "stream",
     "text": [
      "Loading : C:/VKHCG/01-Vermeulen/01-Retrieve/01-EDS/01-R/Retrieve_Country_Code.csv\n"
     ]
    }
   ],
   "source": [
    "### Import Country Data\n",
    "print('Loading :',sInputFileName1)"
   ]
  },
  {
   "cell_type": "code",
   "execution_count": 5,
   "metadata": {},
   "outputs": [
    {
     "name": "stdout",
     "output_type": "stream",
     "text": [
      "Loaded Country: ['RowID' 'Country' 'ISO-2-CODE' 'ISO-3-Code' 'ISO-M49']\n"
     ]
    }
   ],
   "source": [
    "CountryData=pd.read_csv(sInputFileName1,header=0,low_memory=False, encoding=\"latin-1\")\n",
    "print('Loaded Country:',CountryData.columns.values)"
   ]
  },
  {
   "cell_type": "code",
   "execution_count": 6,
   "metadata": {},
   "outputs": [
    {
     "name": "stdout",
     "output_type": "stream",
     "text": [
      "Change From : ['RowID' 'Country' 'ISO-2-CODE' 'ISO-3-Code' 'ISO-M49']\n"
     ]
    }
   ],
   "source": [
    "## Assess Country Data\n",
    "print('Change From :',CountryData.columns.values)"
   ]
  },
  {
   "cell_type": "code",
   "execution_count": 7,
   "metadata": {},
   "outputs": [
    {
     "name": "stdout",
     "output_type": "stream",
     "text": [
      "To : ['Country_Name' 'Country_Code']\n"
     ]
    }
   ],
   "source": [
    "CountryData.rename(columns={'Country': 'Country_Name'}, inplace=True)\n",
    "CountryData.rename(columns={'ISO-2-CODE': 'Country_Code'}, inplace=True)\n",
    "CountryData.drop('ISO-M49', axis=1, inplace=True)\n",
    "CountryData.drop('ISO-3-Code', axis=1, inplace=True)\n",
    "CountryData.drop('RowID', axis=1, inplace=True)\n",
    "print('To :',CountryData.columns.values)"
   ]
  },
  {
   "cell_type": "code",
   "execution_count": 8,
   "metadata": {},
   "outputs": [
    {
     "data": {
      "text/html": [
       "<div>\n",
       "<style scoped>\n",
       "    .dataframe tbody tr th:only-of-type {\n",
       "        vertical-align: middle;\n",
       "    }\n",
       "\n",
       "    .dataframe tbody tr th {\n",
       "        vertical-align: top;\n",
       "    }\n",
       "\n",
       "    .dataframe thead th {\n",
       "        text-align: right;\n",
       "    }\n",
       "</style>\n",
       "<table border=\"1\" class=\"dataframe\">\n",
       "  <thead>\n",
       "    <tr style=\"text-align: right;\">\n",
       "      <th></th>\n",
       "      <th>Country_Name</th>\n",
       "      <th>Country_Code</th>\n",
       "    </tr>\n",
       "  </thead>\n",
       "  <tbody>\n",
       "    <tr>\n",
       "      <td>0</td>\n",
       "      <td>Andorra</td>\n",
       "      <td>AD</td>\n",
       "    </tr>\n",
       "    <tr>\n",
       "      <td>1</td>\n",
       "      <td>United Arab Emirates</td>\n",
       "      <td>AE</td>\n",
       "    </tr>\n",
       "    <tr>\n",
       "      <td>2</td>\n",
       "      <td>Afghanistan</td>\n",
       "      <td>AF</td>\n",
       "    </tr>\n",
       "    <tr>\n",
       "      <td>3</td>\n",
       "      <td>Antigua and Barbuda</td>\n",
       "      <td>AG</td>\n",
       "    </tr>\n",
       "    <tr>\n",
       "      <td>4</td>\n",
       "      <td>Anguilla</td>\n",
       "      <td>AI</td>\n",
       "    </tr>\n",
       "  </tbody>\n",
       "</table>\n",
       "</div>"
      ],
      "text/plain": [
       "           Country_Name Country_Code\n",
       "0               Andorra           AD\n",
       "1  United Arab Emirates           AE\n",
       "2           Afghanistan           AF\n",
       "3   Antigua and Barbuda           AG\n",
       "4              Anguilla           AI"
      ]
     },
     "execution_count": 8,
     "metadata": {},
     "output_type": "execute_result"
    }
   ],
   "source": [
    "CountryData.head()"
   ]
  },
  {
   "cell_type": "code",
   "execution_count": 9,
   "metadata": {},
   "outputs": [
    {
     "name": "stdout",
     "output_type": "stream",
     "text": [
      "Loading : C:/VKHCG/01-Vermeulen/01-Retrieve/01-EDS/02-Python/Retrieve_All_Router_Location.csv\n"
     ]
    }
   ],
   "source": [
    "### Import Customer Data\n",
    "print('Loading :',sInputFileName2)"
   ]
  },
  {
   "cell_type": "code",
   "execution_count": 10,
   "metadata": {},
   "outputs": [
    {
     "name": "stdout",
     "output_type": "stream",
     "text": [
      "Loaded Customer : ['Country' 'Place_Name' 'Latitude' 'Longitude']\n"
     ]
    }
   ],
   "source": [
    "CustomerRawData=pd.read_csv(sInputFileName2,header=0,low_memory=False, encoding=\"latin-1\")\n",
    "print('Loaded Customer :',CustomerRawData.columns.values)"
   ]
  },
  {
   "cell_type": "code",
   "execution_count": 11,
   "metadata": {},
   "outputs": [
    {
     "name": "stdout",
     "output_type": "stream",
     "text": [
      "Remove Blank Country Code\n",
      "Reduce Rows from 101376  to  101357\n",
      "Changed : ['Country' 'Place_Name' 'Latitude' 'Longitude']\n"
     ]
    }
   ],
   "source": [
    "CustomerData=CustomerRawData.dropna(axis=0, how='any')\n",
    "print('Remove Blank Country Code')\n",
    "print('Reduce Rows from', CustomerRawData.shape[0],' to ', CustomerData.shape[0])\n",
    "print('Changed :',CustomerData.columns.values)"
   ]
  },
  {
   "cell_type": "code",
   "execution_count": 12,
   "metadata": {},
   "outputs": [
    {
     "name": "stdout",
     "output_type": "stream",
     "text": [
      "To : ['Country_Code' 'Place_Name' 'Latitude' 'Longitude']\n"
     ]
    },
    {
     "name": "stderr",
     "output_type": "stream",
     "text": [
      "c:\\users\\ngt\\appdata\\local\\programs\\python\\python37\\lib\\site-packages\\pandas\\core\\frame.py:4223: SettingWithCopyWarning: \n",
      "A value is trying to be set on a copy of a slice from a DataFrame\n",
      "\n",
      "See the caveats in the documentation: http://pandas.pydata.org/pandas-docs/stable/user_guide/indexing.html#returning-a-view-versus-a-copy\n",
      "  return super().rename(**kwargs)\n"
     ]
    }
   ],
   "source": [
    "CustomerData.rename(columns={'Country': 'Country_Code'}, inplace=True)\n",
    "print('To :',CustomerData.columns.values)"
   ]
  },
  {
   "cell_type": "code",
   "execution_count": 13,
   "metadata": {},
   "outputs": [
    {
     "data": {
      "text/html": [
       "<div>\n",
       "<style scoped>\n",
       "    .dataframe tbody tr th:only-of-type {\n",
       "        vertical-align: middle;\n",
       "    }\n",
       "\n",
       "    .dataframe tbody tr th {\n",
       "        vertical-align: top;\n",
       "    }\n",
       "\n",
       "    .dataframe thead th {\n",
       "        text-align: right;\n",
       "    }\n",
       "</style>\n",
       "<table border=\"1\" class=\"dataframe\">\n",
       "  <thead>\n",
       "    <tr style=\"text-align: right;\">\n",
       "      <th></th>\n",
       "      <th>Country_Code</th>\n",
       "      <th>Place_Name</th>\n",
       "      <th>Latitude</th>\n",
       "      <th>Longitude</th>\n",
       "    </tr>\n",
       "  </thead>\n",
       "  <tbody>\n",
       "    <tr>\n",
       "      <td>0</td>\n",
       "      <td>BW</td>\n",
       "      <td>Gaborone</td>\n",
       "      <td>-24.6464</td>\n",
       "      <td>25.9119</td>\n",
       "    </tr>\n",
       "    <tr>\n",
       "      <td>1</td>\n",
       "      <td>NE</td>\n",
       "      <td>Niamey</td>\n",
       "      <td>13.5167</td>\n",
       "      <td>2.1167</td>\n",
       "    </tr>\n",
       "    <tr>\n",
       "      <td>2</td>\n",
       "      <td>MZ</td>\n",
       "      <td>Maputo</td>\n",
       "      <td>-25.9653</td>\n",
       "      <td>32.5892</td>\n",
       "    </tr>\n",
       "    <tr>\n",
       "      <td>3</td>\n",
       "      <td>GH</td>\n",
       "      <td>Tema</td>\n",
       "      <td>5.6167</td>\n",
       "      <td>-0.0167</td>\n",
       "    </tr>\n",
       "    <tr>\n",
       "      <td>4</td>\n",
       "      <td>GH</td>\n",
       "      <td>Kumasi</td>\n",
       "      <td>6.6833</td>\n",
       "      <td>-1.6167</td>\n",
       "    </tr>\n",
       "  </tbody>\n",
       "</table>\n",
       "</div>"
      ],
      "text/plain": [
       "  Country_Code Place_Name  Latitude  Longitude\n",
       "0           BW   Gaborone  -24.6464    25.9119\n",
       "1           NE     Niamey   13.5167     2.1167\n",
       "2           MZ     Maputo  -25.9653    32.5892\n",
       "3           GH       Tema    5.6167    -0.0167\n",
       "4           GH     Kumasi    6.6833    -1.6167"
      ]
     },
     "execution_count": 13,
     "metadata": {},
     "output_type": "execute_result"
    }
   ],
   "source": [
    "CustomerData.head()"
   ]
  },
  {
   "cell_type": "code",
   "execution_count": 15,
   "metadata": {},
   "outputs": [],
   "source": [
    "### Merge Company and Country Data\n",
    "CustomerNetworkData=pd.merge(\n",
    "        CustomerData, \n",
    "        CountryData, \n",
    "        how='inner', \n",
    "        on='Country_Code'\n",
    "        )"
   ]
  },
  {
   "cell_type": "code",
   "execution_count": 16,
   "metadata": {},
   "outputs": [
    {
     "data": {
      "text/html": [
       "<div>\n",
       "<style scoped>\n",
       "    .dataframe tbody tr th:only-of-type {\n",
       "        vertical-align: middle;\n",
       "    }\n",
       "\n",
       "    .dataframe tbody tr th {\n",
       "        vertical-align: top;\n",
       "    }\n",
       "\n",
       "    .dataframe thead th {\n",
       "        text-align: right;\n",
       "    }\n",
       "</style>\n",
       "<table border=\"1\" class=\"dataframe\">\n",
       "  <thead>\n",
       "    <tr style=\"text-align: right;\">\n",
       "      <th></th>\n",
       "      <th>Country_Code</th>\n",
       "      <th>Place_Name</th>\n",
       "      <th>Latitude</th>\n",
       "      <th>Longitude</th>\n",
       "      <th>Country_Name</th>\n",
       "    </tr>\n",
       "  </thead>\n",
       "  <tbody>\n",
       "    <tr>\n",
       "      <td>0</td>\n",
       "      <td>BW</td>\n",
       "      <td>Gaborone</td>\n",
       "      <td>-24.6464</td>\n",
       "      <td>25.9119</td>\n",
       "      <td>Botswana</td>\n",
       "    </tr>\n",
       "    <tr>\n",
       "      <td>1</td>\n",
       "      <td>BW</td>\n",
       "      <td>Francistown</td>\n",
       "      <td>-21.1667</td>\n",
       "      <td>27.5167</td>\n",
       "      <td>Botswana</td>\n",
       "    </tr>\n",
       "    <tr>\n",
       "      <td>2</td>\n",
       "      <td>BW</td>\n",
       "      <td>Maun</td>\n",
       "      <td>-19.9833</td>\n",
       "      <td>23.4167</td>\n",
       "      <td>Botswana</td>\n",
       "    </tr>\n",
       "    <tr>\n",
       "      <td>3</td>\n",
       "      <td>BW</td>\n",
       "      <td>Molepolole</td>\n",
       "      <td>-24.4167</td>\n",
       "      <td>25.5333</td>\n",
       "      <td>Botswana</td>\n",
       "    </tr>\n",
       "    <tr>\n",
       "      <td>4</td>\n",
       "      <td>NE</td>\n",
       "      <td>Niamey</td>\n",
       "      <td>13.5167</td>\n",
       "      <td>2.1167</td>\n",
       "      <td>Niger</td>\n",
       "    </tr>\n",
       "  </tbody>\n",
       "</table>\n",
       "</div>"
      ],
      "text/plain": [
       "  Country_Code   Place_Name  Latitude  Longitude Country_Name\n",
       "0           BW     Gaborone  -24.6464    25.9119     Botswana\n",
       "1           BW  Francistown  -21.1667    27.5167     Botswana\n",
       "2           BW         Maun  -19.9833    23.4167     Botswana\n",
       "3           BW   Molepolole  -24.4167    25.5333     Botswana\n",
       "4           NE       Niamey   13.5167     2.1167        Niger"
      ]
     },
     "execution_count": 16,
     "metadata": {},
     "output_type": "execute_result"
    }
   ],
   "source": [
    "CustomerNetworkData.head()"
   ]
  },
  {
   "cell_type": "code",
   "execution_count": 22,
   "metadata": {},
   "outputs": [
    {
     "data": {
      "text/plain": [
       "(101354, 5)"
      ]
     },
     "execution_count": 22,
     "metadata": {},
     "output_type": "execute_result"
    }
   ],
   "source": [
    "CustomerNetworkData.shape"
   ]
  },
  {
   "cell_type": "code",
   "execution_count": 23,
   "metadata": {},
   "outputs": [
    {
     "name": "stdout",
     "output_type": "stream",
     "text": [
      "Change From  ['Country_Code' 'Place_Name' 'Latitude' 'Longitude' 'Country_Name']\n"
     ]
    }
   ],
   "source": [
    "print('Change From ',CustomerNetworkData.columns.values)"
   ]
  },
  {
   "cell_type": "code",
   "execution_count": 24,
   "metadata": {},
   "outputs": [
    {
     "name": "stdout",
     "output_type": "stream",
     "text": [
      "To  ['Company_Country_Code' 'Company_Place_Name' 'Company_Latitude'\n",
      " 'Company_Longitude' 'Company_Country_Name']\n"
     ]
    }
   ],
   "source": [
    "for i in CustomerNetworkData.columns.values:\n",
    "    j='Company_'+i\n",
    "    CustomerNetworkData.rename(columns={i: j}, inplace=True)\n",
    "print('To ', CustomerNetworkData.columns.values)"
   ]
  },
  {
   "cell_type": "code",
   "execution_count": 25,
   "metadata": {},
   "outputs": [
    {
     "data": {
      "text/html": [
       "<div>\n",
       "<style scoped>\n",
       "    .dataframe tbody tr th:only-of-type {\n",
       "        vertical-align: middle;\n",
       "    }\n",
       "\n",
       "    .dataframe tbody tr th {\n",
       "        vertical-align: top;\n",
       "    }\n",
       "\n",
       "    .dataframe thead th {\n",
       "        text-align: right;\n",
       "    }\n",
       "</style>\n",
       "<table border=\"1\" class=\"dataframe\">\n",
       "  <thead>\n",
       "    <tr style=\"text-align: right;\">\n",
       "      <th></th>\n",
       "      <th>Company_Country_Code</th>\n",
       "      <th>Company_Place_Name</th>\n",
       "      <th>Company_Latitude</th>\n",
       "      <th>Company_Longitude</th>\n",
       "      <th>Company_Country_Name</th>\n",
       "    </tr>\n",
       "  </thead>\n",
       "  <tbody>\n",
       "    <tr>\n",
       "      <td>0</td>\n",
       "      <td>BW</td>\n",
       "      <td>Gaborone</td>\n",
       "      <td>-24.6464</td>\n",
       "      <td>25.9119</td>\n",
       "      <td>Botswana</td>\n",
       "    </tr>\n",
       "    <tr>\n",
       "      <td>1</td>\n",
       "      <td>BW</td>\n",
       "      <td>Francistown</td>\n",
       "      <td>-21.1667</td>\n",
       "      <td>27.5167</td>\n",
       "      <td>Botswana</td>\n",
       "    </tr>\n",
       "    <tr>\n",
       "      <td>2</td>\n",
       "      <td>BW</td>\n",
       "      <td>Maun</td>\n",
       "      <td>-19.9833</td>\n",
       "      <td>23.4167</td>\n",
       "      <td>Botswana</td>\n",
       "    </tr>\n",
       "    <tr>\n",
       "      <td>3</td>\n",
       "      <td>BW</td>\n",
       "      <td>Molepolole</td>\n",
       "      <td>-24.4167</td>\n",
       "      <td>25.5333</td>\n",
       "      <td>Botswana</td>\n",
       "    </tr>\n",
       "    <tr>\n",
       "      <td>4</td>\n",
       "      <td>NE</td>\n",
       "      <td>Niamey</td>\n",
       "      <td>13.5167</td>\n",
       "      <td>2.1167</td>\n",
       "      <td>Niger</td>\n",
       "    </tr>\n",
       "  </tbody>\n",
       "</table>\n",
       "</div>"
      ],
      "text/plain": [
       "  Company_Country_Code Company_Place_Name  Company_Latitude  \\\n",
       "0                   BW           Gaborone          -24.6464   \n",
       "1                   BW        Francistown          -21.1667   \n",
       "2                   BW               Maun          -19.9833   \n",
       "3                   BW         Molepolole          -24.4167   \n",
       "4                   NE             Niamey           13.5167   \n",
       "\n",
       "   Company_Longitude Company_Country_Name  \n",
       "0            25.9119             Botswana  \n",
       "1            27.5167             Botswana  \n",
       "2            23.4167             Botswana  \n",
       "3            25.5333             Botswana  \n",
       "4             2.1167                Niger  "
      ]
     },
     "execution_count": 25,
     "metadata": {},
     "output_type": "execute_result"
    }
   ],
   "source": [
    "CustomerNetworkData.head()"
   ]
  },
  {
   "cell_type": "code",
   "execution_count": 26,
   "metadata": {},
   "outputs": [
    {
     "data": {
      "text/plain": [
       "(101354, 5)"
      ]
     },
     "execution_count": 26,
     "metadata": {},
     "output_type": "execute_result"
    }
   ],
   "source": [
    "CustomerNetworkData.shape"
   ]
  },
  {
   "cell_type": "code",
   "execution_count": 27,
   "metadata": {},
   "outputs": [
    {
     "name": "stdout",
     "output_type": "stream",
     "text": [
      "Storing : C:/VKHCG/01-Vermeulen/02-Assess/01-EDS/02-Python/Assess-Network-Routing-Customer.csv\n"
     ]
    }
   ],
   "source": [
    "# Output\n",
    "OutputFileName=OutputFileDir + '/' + OutputFileName\n",
    "print('Storing :', OutputFileName)"
   ]
  },
  {
   "cell_type": "code",
   "execution_count": 28,
   "metadata": {},
   "outputs": [],
   "source": [
    "CustomerNetworkData.to_csv(OutputFileName, index = False, encoding=\"latin-1\")"
   ]
  }
 ],
 "metadata": {
  "kernelspec": {
   "display_name": "Python 3",
   "language": "python",
   "name": "python3"
  },
  "language_info": {
   "codemirror_mode": {
    "name": "ipython",
    "version": 3
   },
   "file_extension": ".py",
   "mimetype": "text/x-python",
   "name": "python",
   "nbconvert_exporter": "python",
   "pygments_lexer": "ipython3",
   "version": "3.7.4"
  }
 },
 "nbformat": 4,
 "nbformat_minor": 2
}
