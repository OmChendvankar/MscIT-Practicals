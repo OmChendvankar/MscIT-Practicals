{
 "cells": [
  {
   "cell_type": "code",
   "execution_count": 1,
   "metadata": {},
   "outputs": [],
   "source": [
    "import networkx as nx\n",
    "import matplotlib.pyplot as plt\n",
    "import sys\n",
    "import os\n",
    "import pandas as pd"
   ]
  },
  {
   "cell_type": "code",
   "execution_count": 2,
   "metadata": {},
   "outputs": [],
   "source": [
    "InputFileName='Retrieve_Router_Location.csv'\n",
    "InputFileDir = 'C:/VKHCG/01-Vermeulen/01-Retrieve/01-EDS/02-Python'\n",
    "OutputFileDir = 'C:/VKHCG/01-Vermeulen/02-Assess/01-EDS/02-Python'\n",
    "OutputFileName1='Assess-DAG-Company-Country.png'\n",
    "OutputFileName2='Assess-DAG-Company-Country-Place.png'"
   ]
  },
  {
   "cell_type": "code",
   "execution_count": 3,
   "metadata": {},
   "outputs": [
    {
     "name": "stdout",
     "output_type": "stream",
     "text": [
      "Loading : C:/VKHCG/01-Vermeulen/01-Retrieve/01-EDS/02-Python/Retrieve_Router_Location.csv\n"
     ]
    }
   ],
   "source": [
    "sFileName= InputFileDir + '/' + InputFileName\n",
    "print('Loading :',sFileName)"
   ]
  },
  {
   "cell_type": "code",
   "execution_count": 4,
   "metadata": {},
   "outputs": [
    {
     "name": "stdout",
     "output_type": "stream",
     "text": [
      "Loaded Company : ['Country' 'Place_Name' 'Latitude' 'Longitude']\n"
     ]
    }
   ],
   "source": [
    "CompanyData=pd.read_csv(sFileName,header=0,low_memory=False, encoding=\"latin-1\")\n",
    "print('Loaded Company :',CompanyData.columns.values)"
   ]
  },
  {
   "cell_type": "code",
   "execution_count": 5,
   "metadata": {},
   "outputs": [
    {
     "data": {
      "text/plain": [
       "(150, 4)"
      ]
     },
     "execution_count": 5,
     "metadata": {},
     "output_type": "execute_result"
    }
   ],
   "source": [
    "CompanyData.shape"
   ]
  },
  {
   "cell_type": "code",
   "execution_count": 6,
   "metadata": {},
   "outputs": [],
   "source": [
    "G1=nx.DiGraph()\n",
    "G2=nx.DiGraph()"
   ]
  },
  {
   "cell_type": "code",
   "execution_count": 8,
   "metadata": {},
   "outputs": [],
   "source": [
    "for i in range(CompanyData.shape[0]):\n",
    "    G1.add_node(CompanyData['Country'][i])\n",
    "    sPlaceName= CompanyData['Place_Name'][i] + '-' + CompanyData['Country'][i]\n",
    "    G2.add_node(sPlaceName)"
   ]
  },
  {
   "cell_type": "code",
   "execution_count": 9,
   "metadata": {},
   "outputs": [
    {
     "name": "stdout",
     "output_type": "stream",
     "text": [
      "Link : US  to  DE\n",
      "Link : US  to  GB\n",
      "Link : DE  to  US\n",
      "Link : DE  to  GB\n",
      "Link : GB  to  US\n",
      "Link : GB  to  DE\n"
     ]
    }
   ],
   "source": [
    "for n1 in G1.nodes():\n",
    "    for n2 in G1.nodes():\n",
    "        if n1 != n2:\n",
    "            print('Link :',n1,' to ', n2)\n",
    "            G1.add_edge(n1,n2)"
   ]
  },
  {
   "cell_type": "code",
   "execution_count": 10,
   "metadata": {},
   "outputs": [
    {
     "name": "stdout",
     "output_type": "stream",
     "text": [
      "Nodes of graph: \n",
      "['US', 'DE', 'GB']\n",
      "Edges of graph: \n",
      "[('US', 'DE'), ('US', 'GB'), ('DE', 'US'), ('DE', 'GB'), ('GB', 'US'), ('GB', 'DE')]\n"
     ]
    }
   ],
   "source": [
    "print(\"Nodes of graph: \")\n",
    "print(G1.nodes())\n",
    "print(\"Edges of graph: \")\n",
    "print(G1.edges())"
   ]
  },
  {
   "cell_type": "code",
   "execution_count": 11,
   "metadata": {},
   "outputs": [
    {
     "name": "stdout",
     "output_type": "stream",
     "text": [
      "Storing : C:/VKHCG/01-Vermeulen/02-Assess/01-EDS/02-Python/Assess-DAG-Company-Country.png\n"
     ]
    }
   ],
   "source": [
    "sFileName=OutputFileDir + '/' + OutputFileName1\n",
    "print('Storing :', sFileName)"
   ]
  },
  {
   "cell_type": "code",
   "execution_count": 13,
   "metadata": {},
   "outputs": [
    {
     "data": {
      "image/png": "[encoded data removed]",
      "text/plain": [
       "<Figure size 432x288 with 1 Axes>"
      ]
     },
     "metadata": {},
     "output_type": "display_data"
    }
   ],
   "source": [
    "nx.draw(G1,pos=nx.spectral_layout(G1), \n",
    "        nodecolor='r',edge_color='g',\n",
    "        with_labels=True,node_size=5000,\n",
    "        font_size=12)\n",
    "plt.savefig(sFileName) # save as png\n",
    "plt.show() # display"
   ]
  },
  {
   "cell_type": "code",
   "execution_count": 14,
   "metadata": {},
   "outputs": [
    {
     "name": "stdout",
     "output_type": "stream",
     "text": [
      "Link : New York-US  to  Munich-DE\n",
      "Link : New York-US  to  London-GB\n",
      "Link : Munich-DE  to  New York-US\n",
      "Link : Munich-DE  to  London-GB\n",
      "Link : London-GB  to  New York-US\n",
      "Link : London-GB  to  Munich-DE\n"
     ]
    }
   ],
   "source": [
    "for n1 in G2.nodes():\n",
    "    for n2 in G2.nodes():\n",
    "        if n1 != n2:\n",
    "            print('Link :',n1,' to ', n2)\n",
    "            G2.add_edge(n1,n2)\n",
    "            \n",
    "            "
   ]
  },
  {
   "cell_type": "code",
   "execution_count": 15,
   "metadata": {},
   "outputs": [
    {
     "name": "stdout",
     "output_type": "stream",
     "text": [
      "Nodes of graph: \n",
      "['New York-US', 'Munich-DE', 'London-GB']\n",
      "Edges of graph: \n",
      "[('New York-US', 'Munich-DE'), ('New York-US', 'London-GB'), ('Munich-DE', 'New York-US'), ('Munich-DE', 'London-GB'), ('London-GB', 'New York-US'), ('London-GB', 'Munich-DE')]\n"
     ]
    }
   ],
   "source": [
    "print(\"Nodes of graph: \")\n",
    "print(G2.nodes())\n",
    "print(\"Edges of graph: \")\n",
    "print(G2.edges())"
   ]
  },
  {
   "cell_type": "code",
   "execution_count": 16,
   "metadata": {},
   "outputs": [
    {
     "name": "stdout",
     "output_type": "stream",
     "text": [
      "Storing : C:/VKHCG/01-Vermeulen/02-Assess/01-EDS/02-Python/Assess-DAG-Company-Country-Place.png\n"
     ]
    }
   ],
   "source": [
    "sFileName=OutputFileDir + '/' + OutputFileName2\n",
    "print('Storing :', sFileName)"
   ]
  },
  {
   "cell_type": "code",
   "execution_count": 20,
   "metadata": {},
   "outputs": [
    {
     "data": {
      "image/png": "[encoded data removed]",
      "text/plain": [
       "<Figure size 432x288 with 1 Axes>"
      ]
     },
     "metadata": {},
     "output_type": "display_data"
    }
   ],
   "source": [
    "nx.draw(G2,pos=nx.spectral_layout(G2), \n",
    "        nodecolor='r',edge_color='g',\n",
    "        with_labels=True,node_size=8000,\n",
    "        font_size=12)\n",
    "plt.savefig(sFileName) # save as png\n",
    "plt.show() # display"
   ]
  },
  {
   "cell_type": "code",
   "execution_count": null,
   "metadata": {},
   "outputs": [],
   "source": []
  }
 ],
 "metadata": {
  "kernelspec": {
   "display_name": "Python 3",
   "language": "python",
   "name": "python3"
  },
  "language_info": {
   "codemirror_mode": {
    "name": "ipython",
    "version": 3
   },
   "file_extension": ".py",
   "mimetype": "text/x-python",
   "name": "python",
   "nbconvert_exporter": "python",
   "pygments_lexer": "ipython3",
   "version": "3.7.4"
  }
 },
 "nbformat": 4,
 "nbformat_minor": 2
}
