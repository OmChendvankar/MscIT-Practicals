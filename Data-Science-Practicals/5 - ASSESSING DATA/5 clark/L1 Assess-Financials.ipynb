{
 "cells": [
  {
   "cell_type": "code",
   "execution_count": 15,
   "metadata": {},
   "outputs": [],
   "source": [
    "import sys\n",
    "import os\n",
    "import sqlite3 as sq\n",
    "import pandas as pd"
   ]
  },
  {
   "cell_type": "code",
   "execution_count": 16,
   "metadata": {},
   "outputs": [],
   "source": [
    "InputFileName1='Retrieve_Profit_And_Loss.csv'\n",
    "InputFileDir1='C:/VKHCG/04-Clark/01-Retrieve/01-EDS/01-R'\n",
    "\n",
    "#OutputFileName=\n",
    "#OutputFileDir = 'C:/VKHCG/04-Clark/02-Assess/01-EDS/02-Python'\n",
    "\n",
    "DataBaseName='clark.db'\n",
    "DataBaseDir = 'C:/VKHCG/04-Clark/02-Assess/SQLite'"
   ]
  },
  {
   "cell_type": "code",
   "execution_count": 17,
   "metadata": {},
   "outputs": [],
   "source": [
    "sDatabaseName=DataBaseDir + '/' + DataBaseName\n",
    "conn = sq.connect(sDatabaseName)"
   ]
  },
  {
   "cell_type": "code",
   "execution_count": 18,
   "metadata": {},
   "outputs": [
    {
     "name": "stdout",
     "output_type": "stream",
     "text": [
      "################################\n",
      "Loading : C:/VKHCG/04-Clark/01-Retrieve/01-EDS/01-R/Retrieve_Profit_And_Loss.csv\n"
     ]
    }
   ],
   "source": [
    "### Import Financial Data\n",
    "sFileName1=InputFileDir1 + '/' + InputFileName1\n",
    "print('################################')\n",
    "print('Loading :',sFileName1)"
   ]
  },
  {
   "cell_type": "code",
   "execution_count": 19,
   "metadata": {},
   "outputs": [
    {
     "name": "stdout",
     "output_type": "stream",
     "text": [
      "Loaded Company : ['QTR' 'TypeOfEntry' 'ProductClass1' 'ProductClass2' 'ProductClass3'\n",
      " 'Amount' 'QTY']\n"
     ]
    }
   ],
   "source": [
    "FinancialRawData=pd.read_csv(sFileName1,header=0,low_memory=False, encoding=\"latin-1\")\n",
    "FinancialData=FinancialRawData\n",
    "print('Loaded Company :',FinancialData.columns.values)"
   ]
  },
  {
   "cell_type": "code",
   "execution_count": 20,
   "metadata": {},
   "outputs": [
    {
     "data": {
      "text/html": [
       "<div>\n",
       "<style scoped>\n",
       "    .dataframe tbody tr th:only-of-type {\n",
       "        vertical-align: middle;\n",
       "    }\n",
       "\n",
       "    .dataframe tbody tr th {\n",
       "        vertical-align: top;\n",
       "    }\n",
       "\n",
       "    .dataframe thead th {\n",
       "        text-align: right;\n",
       "    }\n",
       "</style>\n",
       "<table border=\"1\" class=\"dataframe\">\n",
       "  <thead>\n",
       "    <tr style=\"text-align: right;\">\n",
       "      <th></th>\n",
       "      <th>QTR</th>\n",
       "      <th>TypeOfEntry</th>\n",
       "      <th>ProductClass1</th>\n",
       "      <th>ProductClass2</th>\n",
       "      <th>ProductClass3</th>\n",
       "      <th>Amount</th>\n",
       "      <th>QTY</th>\n",
       "    </tr>\n",
       "  </thead>\n",
       "  <tbody>\n",
       "    <tr>\n",
       "      <td>0</td>\n",
       "      <td>2017Q02</td>\n",
       "      <td>Cost of Sales</td>\n",
       "      <td>Hot Blanket</td>\n",
       "      <td>NaN</td>\n",
       "      <td>NaN</td>\n",
       "      <td>2989.20</td>\n",
       "      <td>12000.0</td>\n",
       "    </tr>\n",
       "    <tr>\n",
       "      <td>1</td>\n",
       "      <td>2017Q02</td>\n",
       "      <td>Cost of Sales</td>\n",
       "      <td>Kitty Box</td>\n",
       "      <td>NaN</td>\n",
       "      <td>NaN</td>\n",
       "      <td>19928.00</td>\n",
       "      <td>30000.0</td>\n",
       "    </tr>\n",
       "    <tr>\n",
       "      <td>2</td>\n",
       "      <td>2017Q02</td>\n",
       "      <td>Cost of Sales</td>\n",
       "      <td>Maxi Dog</td>\n",
       "      <td>NaN</td>\n",
       "      <td>NaN</td>\n",
       "      <td>34874.00</td>\n",
       "      <td>15000.0</td>\n",
       "    </tr>\n",
       "    <tr>\n",
       "      <td>3</td>\n",
       "      <td>2017Q02</td>\n",
       "      <td>Cost of Sales</td>\n",
       "      <td>Muis Huis</td>\n",
       "      <td>NaN</td>\n",
       "      <td>NaN</td>\n",
       "      <td>29892.00</td>\n",
       "      <td>4000.0</td>\n",
       "    </tr>\n",
       "    <tr>\n",
       "      <td>4</td>\n",
       "      <td>2017Q02</td>\n",
       "      <td>Cost of Sales</td>\n",
       "      <td>Water Jug</td>\n",
       "      <td>NaN</td>\n",
       "      <td>NaN</td>\n",
       "      <td>199.28</td>\n",
       "      <td>180000.0</td>\n",
       "    </tr>\n",
       "  </tbody>\n",
       "</table>\n",
       "</div>"
      ],
      "text/plain": [
       "       QTR    TypeOfEntry ProductClass1 ProductClass2 ProductClass3    Amount  \\\n",
       "0  2017Q02  Cost of Sales   Hot Blanket           NaN           NaN   2989.20   \n",
       "1  2017Q02  Cost of Sales     Kitty Box           NaN           NaN  19928.00   \n",
       "2  2017Q02  Cost of Sales      Maxi Dog           NaN           NaN  34874.00   \n",
       "3  2017Q02  Cost of Sales     Muis Huis           NaN           NaN  29892.00   \n",
       "4  2017Q02  Cost of Sales     Water Jug           NaN           NaN    199.28   \n",
       "\n",
       "        QTY  \n",
       "0   12000.0  \n",
       "1   30000.0  \n",
       "2   15000.0  \n",
       "3    4000.0  \n",
       "4  180000.0  "
      ]
     },
     "execution_count": 20,
     "metadata": {},
     "output_type": "execute_result"
    }
   ],
   "source": [
    "FinancialData.head()"
   ]
  },
  {
   "cell_type": "code",
   "execution_count": 21,
   "metadata": {},
   "outputs": [
    {
     "data": {
      "text/plain": [
       "(2442, 7)"
      ]
     },
     "execution_count": 21,
     "metadata": {},
     "output_type": "execute_result"
    }
   ],
   "source": [
    "FinancialData.shape"
   ]
  },
  {
   "cell_type": "code",
   "execution_count": 22,
   "metadata": {},
   "outputs": [
    {
     "name": "stdout",
     "output_type": "stream",
     "text": [
      "Storing : C:/VKHCG/04-Clark/02-Assess/SQLite/clark.db  Table: Assess-Financials\n"
     ]
    }
   ],
   "source": [
    "sTable='Assess-Financials'\n",
    "print('Storing :',sDatabaseName,' Table:',sTable)\n",
    "FinancialData.to_sql(sTable, conn, if_exists=\"replace\")"
   ]
  },
  {
   "cell_type": "code",
   "execution_count": 23,
   "metadata": {},
   "outputs": [
    {
     "name": "stdout",
     "output_type": "stream",
     "text": [
      "       QTR    TypeOfEntry ProductClass1 ProductClass2 ProductClass3    Amount  \\\n",
      "0  2017Q02  Cost of Sales   Hot Blanket           NaN           NaN   2989.20   \n",
      "1  2017Q02  Cost of Sales     Kitty Box           NaN           NaN  19928.00   \n",
      "2  2017Q02  Cost of Sales      Maxi Dog           NaN           NaN  34874.00   \n",
      "3  2017Q02  Cost of Sales     Muis Huis           NaN           NaN  29892.00   \n",
      "4  2017Q02  Cost of Sales     Water Jug           NaN           NaN    199.28   \n",
      "\n",
      "        QTY  \n",
      "0   12000.0  \n",
      "1   30000.0  \n",
      "2   15000.0  \n",
      "3    4000.0  \n",
      "4  180000.0  \n",
      "Rows :  2442\n"
     ]
    }
   ],
   "source": [
    "print(FinancialData.head())\n",
    "print('Rows : ',FinancialData.shape[0])"
   ]
  }
 ],
 "metadata": {
  "kernelspec": {
   "display_name": "Python 3",
   "language": "python",
   "name": "python3"
  },
  "language_info": {
   "codemirror_mode": {
    "name": "ipython",
    "version": 3
   },
   "file_extension": ".py",
   "mimetype": "text/x-python",
   "name": "python",
   "nbconvert_exporter": "python",
   "pygments_lexer": "ipython3",
   "version": "3.7.4"
  }
 },
 "nbformat": 4,
 "nbformat_minor": 2
}
