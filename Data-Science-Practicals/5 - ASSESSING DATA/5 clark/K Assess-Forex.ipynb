{
 "cells": [
  {
   "cell_type": "code",
   "execution_count": 1,
   "metadata": {},
   "outputs": [],
   "source": [
    "import sys\n",
    "import os\n",
    "import sqlite3 as sq\n",
    "import pandas as pd"
   ]
  },
  {
   "cell_type": "code",
   "execution_count": 20,
   "metadata": {},
   "outputs": [],
   "source": [
    "InputFileName1='Retrieve-Country-Currency.csv'\n",
    "InputFileName2='Retrieve_Euro_EchangeRates.csv'\n",
    "\n",
    "InputFileDir1='C:/VKHCG/01-Vermeulen/01-Retrieve/01-EDS/02-Python'\n",
    "InputFileDir2='C:/VKHCG/04-Clark/01-Retrieve/01-EDS/01-R'\n",
    "\n",
    "#OutputFileName=\n",
    "OutputFileDir = 'C:/VKHCG/04-Clark/02-Assess/01-EDS/02-Python'\n",
    "\n",
    "DataBaseName='clark.db'\n",
    "DataBaseDir = 'C:/VKHCG/02-Krennwallner/02-Assess/SQLite'"
   ]
  },
  {
   "cell_type": "code",
   "execution_count": 11,
   "metadata": {},
   "outputs": [],
   "source": [
    "sDatabaseName=DataBaseDir + '/' + DataBaseName\n",
    "conn = sq.connect(sDatabaseName)"
   ]
  },
  {
   "cell_type": "code",
   "execution_count": 21,
   "metadata": {},
   "outputs": [
    {
     "name": "stdout",
     "output_type": "stream",
     "text": [
      "################################\n",
      "Loading : C:/VKHCG/01-Vermeulen/01-Retrieve/01-EDS/02-Python/Retrieve-Country-Currency.csv\n"
     ]
    }
   ],
   "source": [
    "sFileName1=InputFileDir1 + '/' + InputFileName1\n",
    "print('################################')\n",
    "print('Loading :',sFileName1)"
   ]
  },
  {
   "cell_type": "code",
   "execution_count": 22,
   "metadata": {},
   "outputs": [
    {
     "name": "stdout",
     "output_type": "stream",
     "text": [
      "Loaded Company : ['Country' 'Currency' 'CurrencyCode']\n"
     ]
    }
   ],
   "source": [
    "CountryRawData=pd.read_csv(sFileName1,header=0,low_memory=False, encoding=\"latin-1\")\n",
    "CountryRawData.drop_duplicates(subset=None, keep='first', inplace=True)\n",
    "CountryData=CountryRawData\n",
    "print('Loaded Company :',CountryData.columns.values)"
   ]
  },
  {
   "cell_type": "code",
   "execution_count": 23,
   "metadata": {},
   "outputs": [
    {
     "name": "stdout",
     "output_type": "stream",
     "text": [
      "Storing : C:/VKHCG/04-Clark/01-Retrieve/01-EDS/02-Python/clark.db  Table: Assess_Country\n"
     ]
    }
   ],
   "source": [
    "sTable='Assess_Country'\n",
    "print('Storing :',sDatabaseName,' Table:',sTable)\n",
    "CountryData.to_sql(sTable, conn, if_exists=\"replace\")"
   ]
  },
  {
   "cell_type": "code",
   "execution_count": 24,
   "metadata": {},
   "outputs": [
    {
     "name": "stdout",
     "output_type": "stream",
     "text": [
      "                      Country        Currency CurrencyCode\n",
      "0                 Afghanistan  Afghan afghani          AFN\n",
      "1  Akrotiri and Dhekelia (UK)   European euro          EUR\n",
      "2     Aland Islands (Finland)   European euro          EUR\n",
      "3                     Albania    Albanian lek          ALL\n",
      "4                     Algeria  Algerian dinar          DZD\n",
      "Rows :  253\n"
     ]
    }
   ],
   "source": [
    "print(CountryData.head())\n",
    "print('Rows : ',CountryData.shape[0])"
   ]
  },
  {
   "cell_type": "code",
   "execution_count": 25,
   "metadata": {},
   "outputs": [
    {
     "name": "stdout",
     "output_type": "stream",
     "text": [
      "################################\n",
      "Loading : C:/VKHCG/04-Clark/01-Retrieve/01-EDS/01-R/Retrieve_Euro_EchangeRates.csv\n"
     ]
    }
   ],
   "source": [
    "### Import Forex Data\n",
    "sFileName2=InputFileDir2 + '/' + InputFileName2\n",
    "print('################################')\n",
    "print('Loading :',sFileName2)"
   ]
  },
  {
   "cell_type": "code",
   "execution_count": 28,
   "metadata": {},
   "outputs": [],
   "source": [
    "ForexRawData=pd.read_csv(sFileName2,header=0,low_memory=False, encoding=\"latin-1\")\n",
    "ForexRawData.drop_duplicates(subset=None, keep='first', inplace=True)\n",
    "ForexData=ForexRawData.head(5)"
   ]
  },
  {
   "cell_type": "code",
   "execution_count": 29,
   "metadata": {},
   "outputs": [
    {
     "name": "stdout",
     "output_type": "stream",
     "text": [
      "Rows :  5\n",
      "Loaded Company : ['Date' 'CodeIn' 'CodeOut' 'Rate']\n"
     ]
    }
   ],
   "source": [
    "print('Rows : ',ForexData.shape[0])\n",
    "print('Loaded Company :',ForexData.columns.values)"
   ]
  },
  {
   "cell_type": "code",
   "execution_count": 30,
   "metadata": {},
   "outputs": [
    {
     "name": "stdout",
     "output_type": "stream",
     "text": [
      "Storing : C:/VKHCG/04-Clark/01-Retrieve/01-EDS/02-Python/clark.db  Table: Assess_Forex\n"
     ]
    }
   ],
   "source": [
    "sTable='Assess_Forex'\n",
    "print('Storing :',sDatabaseName,' Table:',sTable)\n",
    "ForexData.to_sql(sTable, conn, if_exists=\"replace\")"
   ]
  },
  {
   "cell_type": "code",
   "execution_count": 31,
   "metadata": {},
   "outputs": [
    {
     "name": "stdout",
     "output_type": "stream",
     "text": [
      "         Date CodeIn CodeOut      Rate\n",
      "0  2017-05-05    AUD     AUD  1.000000\n",
      "1  2017-05-05    AUD     BGN  1.318635\n",
      "2  2017-05-05    AUD     BRL  2.354167\n",
      "3  2017-05-05    AUD     CAD  1.017665\n",
      "4  2017-05-05    AUD     CHF  0.730785\n",
      "Rows :  5\n"
     ]
    }
   ],
   "source": [
    "print(ForexData.head())\n",
    "print('Rows : ',ForexData.shape[0])"
   ]
  },
  {
   "cell_type": "code",
   "execution_count": 32,
   "metadata": {},
   "outputs": [
    {
     "name": "stdout",
     "output_type": "stream",
     "text": [
      "Loading : C:/VKHCG/04-Clark/01-Retrieve/01-EDS/02-Python/clark.db  Table: Assess_Forex\n"
     ]
    }
   ],
   "source": [
    "sTable='Assess_Forex'\n",
    "print('Loading :',sDatabaseName,' Table:',sTable)\n",
    "sSQL=\"select distinct\"\n",
    "sSQL=sSQL+ \" A.CodeIn\"\n",
    "sSQL=sSQL+ \" from\"\n",
    "sSQL=sSQL+ \" Assess_Forex as A;\"\n",
    "CodeData=pd.read_sql_query(sSQL, conn)"
   ]
  },
  {
   "cell_type": "code",
   "execution_count": 33,
   "metadata": {},
   "outputs": [
    {
     "data": {
      "text/plain": [
       "'select distinct A.CodeIn from Assess_Forex as A;'"
      ]
     },
     "execution_count": 33,
     "metadata": {},
     "output_type": "execute_result"
    }
   ],
   "source": [
    "sSQL"
   ]
  },
  {
   "cell_type": "code",
   "execution_count": 36,
   "metadata": {},
   "outputs": [
    {
     "name": "stdout",
     "output_type": "stream",
     "text": [
      "################\n",
      "Loading : C:/VKHCG/04-Clark/01-Retrieve/01-EDS/02-Python/clark.db  Table: Assess_Forex & 2x Country > AUD\n",
      "################\n",
      "          Date CodeIn                   CountryIn     CurrencyNameIn CodeOut  \\\n",
      "0   2017-05-05    AUD                   Australia  Australian dollar     AUD   \n",
      "1   2017-05-05    AUD                   Australia  Australian dollar     AUD   \n",
      "2   2017-05-05    AUD                   Australia  Australian dollar     AUD   \n",
      "3   2017-05-05    AUD                   Australia  Australian dollar     AUD   \n",
      "4   2017-05-05    AUD                   Australia  Australian dollar     AUD   \n",
      "..         ...    ...                         ...                ...     ...   \n",
      "79  2017-05-05    AUD                       Nauru  Australian dollar     CHF   \n",
      "80  2017-05-05    AUD  Norfolk Island (Australia)  Australian dollar     CHF   \n",
      "81  2017-05-05    AUD  Norfolk Island (Australia)  Australian dollar     CHF   \n",
      "82  2017-05-05    AUD                      Tuvalu  Australian dollar     CHF   \n",
      "83  2017-05-05    AUD                      Tuvalu  Australian dollar     CHF   \n",
      "\n",
      "                             CountryOut    CurrencyNameOut      Rate  \n",
      "0                             Australia  Australian dollar  1.000000  \n",
      "1          Christmas Island (Australia)  Australian dollar  1.000000  \n",
      "2   Cocos (Keeling) Islands (Australia)  Australian dollar  1.000000  \n",
      "3                              Kiribati  Australian dollar  1.000000  \n",
      "4                                 Nauru  Australian dollar  1.000000  \n",
      "..                                  ...                ...       ...  \n",
      "79                          Switzerland        Swiss franc  0.730785  \n",
      "80                        Liechtenstein        Swiss franc  0.730785  \n",
      "81                          Switzerland        Swiss franc  0.730785  \n",
      "82                        Liechtenstein        Swiss franc  0.730785  \n",
      "83                          Switzerland        Swiss franc  0.730785  \n",
      "\n",
      "[84 rows x 8 columns]\n",
      "################\n",
      "Storing : C:/VKHCG/04-Clark/01-Retrieve/01-EDS/02-Python/clark.db  Table: Assess_Forex_AUD\n",
      "################\n",
      "################################\n",
      "Rows :  84\n"
     ]
    }
   ],
   "source": [
    "for c in range(CodeData.shape[0]):\n",
    "    print('################')  \n",
    "    sTable='Assess_Forex & 2x Country > ' + CodeData['CodeIn'][c]\n",
    "    print('Loading :',sDatabaseName,' Table:',sTable)\n",
    "    sSQL=\"select distinct\"\n",
    "    sSQL=sSQL+ \" A.Date,\"\n",
    "    sSQL=sSQL+ \" A.CodeIn,\"\n",
    "    sSQL=sSQL+ \" B.Country as CountryIn,\"\n",
    "    sSQL=sSQL+ \" B.Currency as CurrencyNameIn,\"\n",
    "    sSQL=sSQL+ \" A.CodeOut,\"\n",
    "    sSQL=sSQL+ \" C.Country as CountryOut,\"\n",
    "    sSQL=sSQL+ \" C.Currency as CurrencyNameOut,\"\n",
    "    sSQL=sSQL+ \" A.Rate\"\n",
    "    sSQL=sSQL+ \" from\"\n",
    "    sSQL=sSQL+ \" Assess_Forex as A\"\n",
    "    sSQL=sSQL+ \" JOIN\"\n",
    "    sSQL=sSQL+ \" Assess_Country as B\"\n",
    "    sSQL=sSQL+ \" ON A.CodeIn = B.CurrencyCode\"\n",
    "    sSQL=sSQL+ \" JOIN\"\n",
    "    sSQL=sSQL+ \" Assess_Country as C\"\n",
    "    sSQL=sSQL+ \" ON A.CodeOut = C.CurrencyCode\"\n",
    "    sSQL=sSQL+ \" WHERE\"\n",
    "    sSQL=sSQL+ \" A.CodeIn ='\" + CodeData['CodeIn'][c] + \"';\"\n",
    "    \n",
    "    "
   ]
  },
  {
   "cell_type": "code",
   "execution_count": 35,
   "metadata": {},
   "outputs": [
    {
     "name": "stdout",
     "output_type": "stream",
     "text": [
      "################\n",
      "          Date CodeIn                   CountryIn     CurrencyNameIn CodeOut  \\\n",
      "0   2017-05-05    AUD                   Australia  Australian dollar     AUD   \n",
      "1   2017-05-05    AUD                   Australia  Australian dollar     AUD   \n",
      "2   2017-05-05    AUD                   Australia  Australian dollar     AUD   \n",
      "3   2017-05-05    AUD                   Australia  Australian dollar     AUD   \n",
      "4   2017-05-05    AUD                   Australia  Australian dollar     AUD   \n",
      "..         ...    ...                         ...                ...     ...   \n",
      "79  2017-05-05    AUD                       Nauru  Australian dollar     CHF   \n",
      "80  2017-05-05    AUD  Norfolk Island (Australia)  Australian dollar     CHF   \n",
      "81  2017-05-05    AUD  Norfolk Island (Australia)  Australian dollar     CHF   \n",
      "82  2017-05-05    AUD                      Tuvalu  Australian dollar     CHF   \n",
      "83  2017-05-05    AUD                      Tuvalu  Australian dollar     CHF   \n",
      "\n",
      "                             CountryOut    CurrencyNameOut      Rate  \n",
      "0                             Australia  Australian dollar  1.000000  \n",
      "1          Christmas Island (Australia)  Australian dollar  1.000000  \n",
      "2   Cocos (Keeling) Islands (Australia)  Australian dollar  1.000000  \n",
      "3                              Kiribati  Australian dollar  1.000000  \n",
      "4                                 Nauru  Australian dollar  1.000000  \n",
      "..                                  ...                ...       ...  \n",
      "79                          Switzerland        Swiss franc  0.730785  \n",
      "80                        Liechtenstein        Swiss franc  0.730785  \n",
      "81                          Switzerland        Swiss franc  0.730785  \n",
      "82                        Liechtenstein        Swiss franc  0.730785  \n",
      "83                          Switzerland        Swiss franc  0.730785  \n",
      "\n",
      "[84 rows x 8 columns]\n",
      "################\n",
      "Storing : C:/VKHCG/04-Clark/01-Retrieve/01-EDS/02-Python/clark.db  Table: Assess_Forex_AUD\n",
      "################\n",
      "################################\n",
      "Rows :  84\n"
     ]
    }
   ],
   "source": [
    "    ForexData=pd.read_sql_query(sSQL, conn).head(1000)\n",
    "    print('################')  \n",
    "    print(ForexData)\n",
    "    print('################')  \n",
    "    sTable='Assess_Forex_' + CodeData['CodeIn'][c] \n",
    "    print('Storing :',sDatabaseName,' Table:',sTable)\n",
    "    ForexData.to_sql(sTable, conn, if_exists=\"replace\")\n",
    "    print('################')  \n",
    "    print('################################')\n",
    "    print('Rows : ',ForexData.shape[0])"
   ]
  },
  {
   "cell_type": "code",
   "execution_count": null,
   "metadata": {},
   "outputs": [],
   "source": []
  }
 ],
 "metadata": {
  "kernelspec": {
   "display_name": "Python 3",
   "language": "python",
   "name": "python3"
  },
  "language_info": {
   "codemirror_mode": {
    "name": "ipython",
    "version": 3
   },
   "file_extension": ".py",
   "mimetype": "text/x-python",
   "name": "python",
   "nbconvert_exporter": "python",
   "pygments_lexer": "ipython3",
   "version": "3.7.4"
  }
 },
 "nbformat": 4,
 "nbformat_minor": 2
}
