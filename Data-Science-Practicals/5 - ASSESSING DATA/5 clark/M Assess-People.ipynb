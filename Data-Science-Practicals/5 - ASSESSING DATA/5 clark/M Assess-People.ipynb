{
 "cells": [
  {
   "cell_type": "code",
   "execution_count": 10,
   "metadata": {},
   "outputs": [],
   "source": [
    "import sys\n",
    "import os\n",
    "import sqlite3 as sq\n",
    "import pandas as pd"
   ]
  },
  {
   "cell_type": "code",
   "execution_count": 16,
   "metadata": {},
   "outputs": [],
   "source": [
    "sInputFileName1='Retrieve-Data_female-names.csv'\n",
    "sInputFileName2='Retrieve-Data_male-names.csv'\n",
    "sInputFileName3='Retrieve-Data_last-names.csv'\n",
    "sOutputFileName1='Assess-Staff.csv'\n",
    "sOutputFileName2='Assess-Customers.csv'\n",
    "InputFileDir='C:/VKHCG/04-Clark/01-Retrieve/01-EDS/02-Python/'\n",
    "OutputFileDir = 'C:/VKHCG/04-Clark/02-Assess/01-EDS/02-Python'\n",
    "DataBaseName='clark.db'\n",
    "DataBaseDir = 'C:/VKHCG/04-Clark/02-Assess/SQLite'"
   ]
  },
  {
   "cell_type": "code",
   "execution_count": 12,
   "metadata": {},
   "outputs": [
    {
     "name": "stdout",
     "output_type": "stream",
     "text": [
      "Loading : C:/VKHCG/04-Clark/02-Assess/SQLite/clark.db\n"
     ]
    }
   ],
   "source": [
    "sDatabaseName=DataBaseDir + '/' + DataBaseName\n",
    "print('Loading :',sDatabaseName)\n",
    "conn = sq.connect(sDatabaseName)"
   ]
  },
  {
   "cell_type": "code",
   "execution_count": 17,
   "metadata": {},
   "outputs": [
    {
     "name": "stdout",
     "output_type": "stream",
     "text": [
      "################################\n",
      "Loading : C:/VKHCG/04-Clark/01-Retrieve/01-EDS/02-Python//Retrieve-Data_female-names.csv\n"
     ]
    }
   ],
   "source": [
    "### Import Female Data\n",
    "sFileName1=InputFileDir + '/' + sInputFileName1\n",
    "print('################################')\n",
    "print('Loading :',sFileName1)"
   ]
  },
  {
   "cell_type": "code",
   "execution_count": 18,
   "metadata": {},
   "outputs": [],
   "source": [
    "FemaleRawData=pd.read_csv(sFileName1,header=0,low_memory=False, encoding=\"latin-1\")\n",
    "FemaleRawData.rename(columns={'NameValues' : 'FirstName'},inplace=True)"
   ]
  },
  {
   "cell_type": "code",
   "execution_count": 20,
   "metadata": {},
   "outputs": [
    {
     "name": "stdout",
     "output_type": "stream",
     "text": [
      "(4275, 1)\n"
     ]
    },
    {
     "data": {
      "text/html": [
       "<div>\n",
       "<style scoped>\n",
       "    .dataframe tbody tr th:only-of-type {\n",
       "        vertical-align: middle;\n",
       "    }\n",
       "\n",
       "    .dataframe tbody tr th {\n",
       "        vertical-align: top;\n",
       "    }\n",
       "\n",
       "    .dataframe thead th {\n",
       "        text-align: right;\n",
       "    }\n",
       "</style>\n",
       "<table border=\"1\" class=\"dataframe\">\n",
       "  <thead>\n",
       "    <tr style=\"text-align: right;\">\n",
       "      <th></th>\n",
       "      <th>FirstName</th>\n",
       "    </tr>\n",
       "  </thead>\n",
       "  <tbody>\n",
       "    <tr>\n",
       "      <td>0</td>\n",
       "      <td>Aaron</td>\n",
       "    </tr>\n",
       "    <tr>\n",
       "      <td>1</td>\n",
       "      <td>Abbey</td>\n",
       "    </tr>\n",
       "    <tr>\n",
       "      <td>2</td>\n",
       "      <td>Abbie</td>\n",
       "    </tr>\n",
       "    <tr>\n",
       "      <td>3</td>\n",
       "      <td>Abby</td>\n",
       "    </tr>\n",
       "    <tr>\n",
       "      <td>4</td>\n",
       "      <td>Abigail</td>\n",
       "    </tr>\n",
       "  </tbody>\n",
       "</table>\n",
       "</div>"
      ],
      "text/plain": [
       "  FirstName\n",
       "0     Aaron\n",
       "1     Abbey\n",
       "2     Abbie\n",
       "3      Abby\n",
       "4   Abigail"
      ]
     },
     "execution_count": 20,
     "metadata": {},
     "output_type": "execute_result"
    }
   ],
   "source": [
    "print(FemaleRawData.shape)\n",
    "FemaleRawData.head()"
   ]
  },
  {
   "cell_type": "code",
   "execution_count": 21,
   "metadata": {},
   "outputs": [],
   "source": [
    "FemaleRawData.drop_duplicates(subset=None, keep='first', inplace=True)\n",
    "FemaleData=FemaleRawData.sample(100)"
   ]
  },
  {
   "cell_type": "code",
   "execution_count": 22,
   "metadata": {},
   "outputs": [
    {
     "name": "stdout",
     "output_type": "stream",
     "text": [
      "Storing : C:/VKHCG/04-Clark/02-Assess/SQLite/clark.db  Table: Assess_FemaleName\n"
     ]
    }
   ],
   "source": [
    "sTable='Assess_FemaleName'\n",
    "print('Storing :',sDatabaseName,' Table:',sTable)\n",
    "FemaleData.to_sql(sTable, conn, if_exists=\"replace\")"
   ]
  },
  {
   "cell_type": "code",
   "execution_count": 23,
   "metadata": {},
   "outputs": [
    {
     "name": "stdout",
     "output_type": "stream",
     "text": [
      "Rows :  100  records\n"
     ]
    }
   ],
   "source": [
    "print('Rows : ',FemaleData.shape[0], ' records')"
   ]
  },
  {
   "cell_type": "code",
   "execution_count": 24,
   "metadata": {},
   "outputs": [
    {
     "name": "stdout",
     "output_type": "stream",
     "text": [
      "################################\n",
      "Loading : C:/VKHCG/04-Clark/01-Retrieve/01-EDS/02-Python//Retrieve-Data_male-names.csv\n"
     ]
    }
   ],
   "source": [
    "### Import Male Data\n",
    "sFileName2=InputFileDir + '/' + sInputFileName2\n",
    "print('################################')\n",
    "print('Loading :',sFileName2)"
   ]
  },
  {
   "cell_type": "code",
   "execution_count": 25,
   "metadata": {},
   "outputs": [],
   "source": [
    "MaleRawData=pd.read_csv(sFileName2,header=0,low_memory=False, encoding=\"latin-1\")\n",
    "MaleRawData.rename(columns={'NameValues' : 'FirstName'},inplace=True)\n",
    "MaleRawData.drop_duplicates(subset=None, keep='first', inplace=True)\n",
    "MaleData=MaleRawData.sample(100)"
   ]
  },
  {
   "cell_type": "code",
   "execution_count": 26,
   "metadata": {},
   "outputs": [
    {
     "name": "stdout",
     "output_type": "stream",
     "text": [
      "Storing : C:/VKHCG/04-Clark/02-Assess/SQLite/clark.db  Table: Assess_MaleName\n"
     ]
    }
   ],
   "source": [
    "sTable='Assess_MaleName'\n",
    "print('Storing :',sDatabaseName,' Table:',sTable)\n",
    "MaleData.to_sql(sTable, conn, if_exists=\"replace\")"
   ]
  },
  {
   "cell_type": "code",
   "execution_count": 27,
   "metadata": {},
   "outputs": [
    {
     "name": "stdout",
     "output_type": "stream",
     "text": [
      "Rows :  100  records\n"
     ]
    }
   ],
   "source": [
    "print('Rows : ',MaleData.shape[0], ' records')"
   ]
  },
  {
   "cell_type": "code",
   "execution_count": 28,
   "metadata": {},
   "outputs": [
    {
     "name": "stdout",
     "output_type": "stream",
     "text": [
      "################################\n",
      "Loading : C:/VKHCG/04-Clark/01-Retrieve/01-EDS/02-Python//Retrieve-Data_last-names.csv\n"
     ]
    }
   ],
   "source": [
    "### Import Surname Data\n",
    "sFileName3=InputFileDir + '/' + sInputFileName3\n",
    "print('################################')\n",
    "print('Loading :',sFileName3)"
   ]
  },
  {
   "cell_type": "code",
   "execution_count": 30,
   "metadata": {},
   "outputs": [],
   "source": [
    "SurnameRawData=pd.read_csv(sFileName3,header=0,low_memory=False, encoding=\"latin-1\")\n",
    "SurnameRawData.rename(columns={'NameValues' : 'LastName'},inplace=True)\n",
    "SurnameRawData.drop_duplicates(subset=None, keep='first', inplace=True)\n",
    "SurnameData=SurnameRawData.sample(200)"
   ]
  },
  {
   "cell_type": "code",
   "execution_count": 31,
   "metadata": {},
   "outputs": [
    {
     "name": "stdout",
     "output_type": "stream",
     "text": [
      "Storing : C:/VKHCG/04-Clark/02-Assess/SQLite/clark.db  Table: Assess_Surname\n"
     ]
    }
   ],
   "source": [
    "sTable='Assess_Surname'\n",
    "print('Storing :',sDatabaseName,' Table:',sTable)\n",
    "SurnameData.to_sql(sTable, conn, if_exists=\"replace\")"
   ]
  },
  {
   "cell_type": "code",
   "execution_count": 32,
   "metadata": {},
   "outputs": [
    {
     "name": "stdout",
     "output_type": "stream",
     "text": [
      "Rows :  200  records\n"
     ]
    }
   ],
   "source": [
    "print('Rows : ',SurnameData.shape[0], ' records')"
   ]
  },
  {
   "cell_type": "code",
   "execution_count": 33,
   "metadata": {},
   "outputs": [
    {
     "name": "stdout",
     "output_type": "stream",
     "text": [
      "Loading : C:/VKHCG/04-Clark/02-Assess/SQLite/clark.db  Table: Assess_FemaleName & Assess_MaleName\n",
      "select distinct A.FirstName, 'Female' as Gender from Assess_FemaleName as A UNION select distinct A.FirstName, 'Male' as Gender from Assess_MaleName as A;\n"
     ]
    }
   ],
   "source": [
    "sTable='Assess_FemaleName & Assess_MaleName'\n",
    "print('Loading :',sDatabaseName,' Table:',sTable)\n",
    "sSQL=\"select distinct\"\n",
    "sSQL=sSQL+ \" A.FirstName,\"\n",
    "sSQL=sSQL+ \" 'Female' as Gender\"\n",
    "sSQL=sSQL+ \" from\"\n",
    "sSQL=sSQL+ \" Assess_FemaleName as A\"\n",
    "sSQL=sSQL+ \" UNION\"\n",
    "sSQL=sSQL+ \" select distinct\"\n",
    "sSQL=sSQL+ \" A.FirstName,\"\n",
    "sSQL=sSQL+ \" 'Male' as Gender\"\n",
    "sSQL=sSQL+ \" from\"\n",
    "sSQL=sSQL+ \" Assess_MaleName as A;\"\n",
    "print(sSQL)"
   ]
  },
  {
   "cell_type": "code",
   "execution_count": 34,
   "metadata": {},
   "outputs": [],
   "source": [
    "FirstNameData=pd.read_sql_query(sSQL, conn)"
   ]
  },
  {
   "cell_type": "code",
   "execution_count": 35,
   "metadata": {},
   "outputs": [
    {
     "name": "stdout",
     "output_type": "stream",
     "text": [
      "(200, 2)\n"
     ]
    },
    {
     "data": {
      "text/html": [
       "<div>\n",
       "<style scoped>\n",
       "    .dataframe tbody tr th:only-of-type {\n",
       "        vertical-align: middle;\n",
       "    }\n",
       "\n",
       "    .dataframe tbody tr th {\n",
       "        vertical-align: top;\n",
       "    }\n",
       "\n",
       "    .dataframe thead th {\n",
       "        text-align: right;\n",
       "    }\n",
       "</style>\n",
       "<table border=\"1\" class=\"dataframe\">\n",
       "  <thead>\n",
       "    <tr style=\"text-align: right;\">\n",
       "      <th></th>\n",
       "      <th>FirstName</th>\n",
       "      <th>Gender</th>\n",
       "    </tr>\n",
       "  </thead>\n",
       "  <tbody>\n",
       "    <tr>\n",
       "      <td>0</td>\n",
       "      <td>Alex</td>\n",
       "      <td>Male</td>\n",
       "    </tr>\n",
       "    <tr>\n",
       "      <td>1</td>\n",
       "      <td>Alfonzo</td>\n",
       "      <td>Male</td>\n",
       "    </tr>\n",
       "    <tr>\n",
       "      <td>2</td>\n",
       "      <td>Alia</td>\n",
       "      <td>Female</td>\n",
       "    </tr>\n",
       "    <tr>\n",
       "      <td>3</td>\n",
       "      <td>Alonzo</td>\n",
       "      <td>Male</td>\n",
       "    </tr>\n",
       "    <tr>\n",
       "      <td>4</td>\n",
       "      <td>Anita</td>\n",
       "      <td>Female</td>\n",
       "    </tr>\n",
       "  </tbody>\n",
       "</table>\n",
       "</div>"
      ],
      "text/plain": [
       "  FirstName  Gender\n",
       "0      Alex    Male\n",
       "1   Alfonzo    Male\n",
       "2      Alia  Female\n",
       "3    Alonzo    Male\n",
       "4     Anita  Female"
      ]
     },
     "execution_count": 35,
     "metadata": {},
     "output_type": "execute_result"
    }
   ],
   "source": [
    "print(FirstNameData.shape)\n",
    "FirstNameData.head()"
   ]
  },
  {
   "cell_type": "code",
   "execution_count": 36,
   "metadata": {},
   "outputs": [
    {
     "name": "stdout",
     "output_type": "stream",
     "text": [
      "Storing : C:/VKHCG/04-Clark/02-Assess/SQLite/clark.db  Table: Assess_FirstName\n"
     ]
    }
   ],
   "source": [
    "sTable='Assess_FirstName'\n",
    "print('Storing :',sDatabaseName,' Table:',sTable)\n",
    "FirstNameData.to_sql(sTable, conn, if_exists=\"replace\")"
   ]
  },
  {
   "cell_type": "code",
   "execution_count": 37,
   "metadata": {},
   "outputs": [
    {
     "name": "stdout",
     "output_type": "stream",
     "text": [
      "Loading : C:/VKHCG/04-Clark/02-Assess/SQLite/clark.db  Table: Assess_FirstName x2 & Assess_Surname\n"
     ]
    },
    {
     "data": {
      "text/plain": [
       "'select distinct A.FirstName, B.FirstName AS SecondName, C.LastName, A.Gender from Assess_FirstName as A , Assess_FirstName as B , Assess_Surname as C WHERE A.Gender = B.Gender AND A.FirstName <> B.FirstName;'"
      ]
     },
     "execution_count": 37,
     "metadata": {},
     "output_type": "execute_result"
    }
   ],
   "source": [
    "sTable='Assess_FirstName x2 & Assess_Surname'\n",
    "print('Loading :',sDatabaseName,' Table:',sTable)\n",
    "sSQL=\"select distinct\"\n",
    "sSQL=sSQL+ \" A.FirstName,\"\n",
    "sSQL=sSQL+ \" B.FirstName AS SecondName,\"\n",
    "sSQL=sSQL+ \" C.LastName,\"\n",
    "sSQL=sSQL+ \" A.Gender\"\n",
    "sSQL=sSQL+ \" from\"\n",
    "sSQL=sSQL+ \" Assess_FirstName as A\"\n",
    "sSQL=sSQL+ \" ,\"\n",
    "sSQL=sSQL+ \" Assess_FirstName as B\"\n",
    "sSQL=sSQL+ \" ,\"\n",
    "sSQL=sSQL+ \" Assess_Surname as C\"\n",
    "sSQL=sSQL+ \" WHERE\"\n",
    "sSQL=sSQL+ \" A.Gender = B.Gender\"\n",
    "sSQL=sSQL+ \" AND\"\n",
    "sSQL=sSQL+ \" A.FirstName <> B.FirstName;\"\n",
    "sSQL"
   ]
  },
  {
   "cell_type": "code",
   "execution_count": 38,
   "metadata": {},
   "outputs": [],
   "source": [
    "PeopleRawData=pd.read_sql_query(sSQL, conn)\n",
    "People1Data=PeopleRawData.sample(10000)"
   ]
  },
  {
   "cell_type": "code",
   "execution_count": 39,
   "metadata": {},
   "outputs": [
    {
     "name": "stdout",
     "output_type": "stream",
     "text": [
      "(10000, 4)\n"
     ]
    },
    {
     "data": {
      "text/html": [
       "<div>\n",
       "<style scoped>\n",
       "    .dataframe tbody tr th:only-of-type {\n",
       "        vertical-align: middle;\n",
       "    }\n",
       "\n",
       "    .dataframe tbody tr th {\n",
       "        vertical-align: top;\n",
       "    }\n",
       "\n",
       "    .dataframe thead th {\n",
       "        text-align: right;\n",
       "    }\n",
       "</style>\n",
       "<table border=\"1\" class=\"dataframe\">\n",
       "  <thead>\n",
       "    <tr style=\"text-align: right;\">\n",
       "      <th></th>\n",
       "      <th>FirstName</th>\n",
       "      <th>SecondName</th>\n",
       "      <th>LastName</th>\n",
       "      <th>Gender</th>\n",
       "    </tr>\n",
       "  </thead>\n",
       "  <tbody>\n",
       "    <tr>\n",
       "      <td>1968478</td>\n",
       "      <td>Kristopher</td>\n",
       "      <td>Marcel</td>\n",
       "      <td>Hutcherson</td>\n",
       "      <td>Male</td>\n",
       "    </tr>\n",
       "    <tr>\n",
       "      <td>3458906</td>\n",
       "      <td>Sherrell</td>\n",
       "      <td>Kathryn</td>\n",
       "      <td>Thames</td>\n",
       "      <td>Female</td>\n",
       "    </tr>\n",
       "    <tr>\n",
       "      <td>3826454</td>\n",
       "      <td>Vania</td>\n",
       "      <td>Aubrey</td>\n",
       "      <td>Costello</td>\n",
       "      <td>Female</td>\n",
       "    </tr>\n",
       "    <tr>\n",
       "      <td>3117278</td>\n",
       "      <td>Rhett</td>\n",
       "      <td>Mitchel</td>\n",
       "      <td>Nesmith</td>\n",
       "      <td>Male</td>\n",
       "    </tr>\n",
       "    <tr>\n",
       "      <td>632923</td>\n",
       "      <td>Darren</td>\n",
       "      <td>Deangelo</td>\n",
       "      <td>Hess</td>\n",
       "      <td>Male</td>\n",
       "    </tr>\n",
       "  </tbody>\n",
       "</table>\n",
       "</div>"
      ],
      "text/plain": [
       "          FirstName SecondName    LastName  Gender\n",
       "1968478  Kristopher     Marcel  Hutcherson    Male\n",
       "3458906    Sherrell    Kathryn      Thames  Female\n",
       "3826454       Vania     Aubrey    Costello  Female\n",
       "3117278       Rhett    Mitchel     Nesmith    Male\n",
       "632923       Darren   Deangelo        Hess    Male"
      ]
     },
     "execution_count": 39,
     "metadata": {},
     "output_type": "execute_result"
    }
   ],
   "source": [
    "print(People1Data.shape)\n",
    "People1Data.head()"
   ]
  },
  {
   "cell_type": "code",
   "execution_count": 40,
   "metadata": {},
   "outputs": [
    {
     "name": "stdout",
     "output_type": "stream",
     "text": [
      "Loading : C:/VKHCG/04-Clark/02-Assess/SQLite/clark.db  Table: Assess_FirstName & Assess_Surname\n"
     ]
    }
   ],
   "source": [
    "sTable='Assess_FirstName & Assess_Surname'\n",
    "print('Loading :',sDatabaseName,' Table:',sTable)\n",
    "sSQL=\"select distinct\"\n",
    "sSQL=sSQL+ \" A.FirstName,\"\n",
    "sSQL=sSQL+ \" '' AS SecondName,\"\n",
    "sSQL=sSQL+ \" B.LastName,\"\n",
    "sSQL=sSQL+ \" A.Gender\"\n",
    "sSQL=sSQL+ \" from\"\n",
    "sSQL=sSQL+ \" Assess_FirstName as A\"\n",
    "sSQL=sSQL+ \" ,\"\n",
    "sSQL=sSQL+ \" Assess_Surname as B;\"\n",
    "PeopleRawData=pd.read_sql_query(sSQL, conn)"
   ]
  },
  {
   "cell_type": "code",
   "execution_count": 41,
   "metadata": {},
   "outputs": [
    {
     "name": "stdout",
     "output_type": "stream",
     "text": [
      "(40000, 4)\n"
     ]
    },
    {
     "data": {
      "text/html": [
       "<div>\n",
       "<style scoped>\n",
       "    .dataframe tbody tr th:only-of-type {\n",
       "        vertical-align: middle;\n",
       "    }\n",
       "\n",
       "    .dataframe tbody tr th {\n",
       "        vertical-align: top;\n",
       "    }\n",
       "\n",
       "    .dataframe thead th {\n",
       "        text-align: right;\n",
       "    }\n",
       "</style>\n",
       "<table border=\"1\" class=\"dataframe\">\n",
       "  <thead>\n",
       "    <tr style=\"text-align: right;\">\n",
       "      <th></th>\n",
       "      <th>FirstName</th>\n",
       "      <th>SecondName</th>\n",
       "      <th>LastName</th>\n",
       "      <th>Gender</th>\n",
       "    </tr>\n",
       "  </thead>\n",
       "  <tbody>\n",
       "    <tr>\n",
       "      <td>0</td>\n",
       "      <td>Alex</td>\n",
       "      <td></td>\n",
       "      <td>Ladd</td>\n",
       "      <td>Male</td>\n",
       "    </tr>\n",
       "    <tr>\n",
       "      <td>1</td>\n",
       "      <td>Alex</td>\n",
       "      <td></td>\n",
       "      <td>Benefield</td>\n",
       "      <td>Male</td>\n",
       "    </tr>\n",
       "    <tr>\n",
       "      <td>2</td>\n",
       "      <td>Alex</td>\n",
       "      <td></td>\n",
       "      <td>Underhill</td>\n",
       "      <td>Male</td>\n",
       "    </tr>\n",
       "    <tr>\n",
       "      <td>3</td>\n",
       "      <td>Alex</td>\n",
       "      <td></td>\n",
       "      <td>Weber</td>\n",
       "      <td>Male</td>\n",
       "    </tr>\n",
       "    <tr>\n",
       "      <td>4</td>\n",
       "      <td>Alex</td>\n",
       "      <td></td>\n",
       "      <td>Sterling</td>\n",
       "      <td>Male</td>\n",
       "    </tr>\n",
       "  </tbody>\n",
       "</table>\n",
       "</div>"
      ],
      "text/plain": [
       "  FirstName SecondName   LastName Gender\n",
       "0      Alex                  Ladd   Male\n",
       "1      Alex             Benefield   Male\n",
       "2      Alex             Underhill   Male\n",
       "3      Alex                 Weber   Male\n",
       "4      Alex              Sterling   Male"
      ]
     },
     "execution_count": 41,
     "metadata": {},
     "output_type": "execute_result"
    }
   ],
   "source": [
    "print(PeopleRawData.shape)\n",
    "PeopleRawData.head()"
   ]
  },
  {
   "cell_type": "code",
   "execution_count": 42,
   "metadata": {},
   "outputs": [],
   "source": [
    "People2Data=PeopleRawData.sample(10000)\n",
    "PeopleData=People1Data.append(People2Data)"
   ]
  },
  {
   "cell_type": "code",
   "execution_count": 44,
   "metadata": {},
   "outputs": [
    {
     "name": "stdout",
     "output_type": "stream",
     "text": [
      "(20000, 4)\n"
     ]
    },
    {
     "data": {
      "text/html": [
       "<div>\n",
       "<style scoped>\n",
       "    .dataframe tbody tr th:only-of-type {\n",
       "        vertical-align: middle;\n",
       "    }\n",
       "\n",
       "    .dataframe tbody tr th {\n",
       "        vertical-align: top;\n",
       "    }\n",
       "\n",
       "    .dataframe thead th {\n",
       "        text-align: right;\n",
       "    }\n",
       "</style>\n",
       "<table border=\"1\" class=\"dataframe\">\n",
       "  <thead>\n",
       "    <tr style=\"text-align: right;\">\n",
       "      <th></th>\n",
       "      <th>FirstName</th>\n",
       "      <th>SecondName</th>\n",
       "      <th>LastName</th>\n",
       "      <th>Gender</th>\n",
       "    </tr>\n",
       "  </thead>\n",
       "  <tbody>\n",
       "    <tr>\n",
       "      <td>1968478</td>\n",
       "      <td>Kristopher</td>\n",
       "      <td>Marcel</td>\n",
       "      <td>Hutcherson</td>\n",
       "      <td>Male</td>\n",
       "    </tr>\n",
       "    <tr>\n",
       "      <td>3458906</td>\n",
       "      <td>Sherrell</td>\n",
       "      <td>Kathryn</td>\n",
       "      <td>Thames</td>\n",
       "      <td>Female</td>\n",
       "    </tr>\n",
       "    <tr>\n",
       "      <td>3826454</td>\n",
       "      <td>Vania</td>\n",
       "      <td>Aubrey</td>\n",
       "      <td>Costello</td>\n",
       "      <td>Female</td>\n",
       "    </tr>\n",
       "    <tr>\n",
       "      <td>3117278</td>\n",
       "      <td>Rhett</td>\n",
       "      <td>Mitchel</td>\n",
       "      <td>Nesmith</td>\n",
       "      <td>Male</td>\n",
       "    </tr>\n",
       "    <tr>\n",
       "      <td>632923</td>\n",
       "      <td>Darren</td>\n",
       "      <td>Deangelo</td>\n",
       "      <td>Hess</td>\n",
       "      <td>Male</td>\n",
       "    </tr>\n",
       "  </tbody>\n",
       "</table>\n",
       "</div>"
      ],
      "text/plain": [
       "          FirstName SecondName    LastName  Gender\n",
       "1968478  Kristopher     Marcel  Hutcherson    Male\n",
       "3458906    Sherrell    Kathryn      Thames  Female\n",
       "3826454       Vania     Aubrey    Costello  Female\n",
       "3117278       Rhett    Mitchel     Nesmith    Male\n",
       "632923       Darren   Deangelo        Hess    Male"
      ]
     },
     "execution_count": 44,
     "metadata": {},
     "output_type": "execute_result"
    }
   ],
   "source": [
    "print(PeopleData.shape)\n",
    "PeopleData.head()"
   ]
  },
  {
   "cell_type": "code",
   "execution_count": 45,
   "metadata": {},
   "outputs": [
    {
     "name": "stdout",
     "output_type": "stream",
     "text": [
      "Storing : C:/VKHCG/04-Clark/02-Assess/SQLite/clark.db  Table: Assess_People\n"
     ]
    }
   ],
   "source": [
    "sTable='Assess_People'\n",
    "print('Storing :',sDatabaseName,' Table:',sTable)\n",
    "PeopleData.to_sql(sTable, conn, if_exists=\"replace\")"
   ]
  },
  {
   "cell_type": "code",
   "execution_count": 46,
   "metadata": {},
   "outputs": [
    {
     "name": "stdout",
     "output_type": "stream",
     "text": [
      "Storing : C:/VKHCG/04-Clark/02-Assess/01-EDS/02-Python/Assess_People.csv\n"
     ]
    }
   ],
   "source": [
    "sOutputFileName = sTable+'.csv'\n",
    "sFileName=OutputFileDir + '/' + sOutputFileName\n",
    "print('Storing :', sFileName)"
   ]
  },
  {
   "cell_type": "code",
   "execution_count": 47,
   "metadata": {},
   "outputs": [],
   "source": [
    "PeopleData.to_csv(sFileName, index = False)"
   ]
  }
 ],
 "metadata": {
  "kernelspec": {
   "display_name": "Python 3",
   "language": "python",
   "name": "python3"
  },
  "language_info": {
   "codemirror_mode": {
    "name": "ipython",
    "version": 3
   },
   "file_extension": ".py",
   "mimetype": "text/x-python",
   "name": "python",
   "nbconvert_exporter": "python",
   "pygments_lexer": "ipython3",
   "version": "3.7.4"
  }
 },
 "nbformat": 4,
 "nbformat_minor": 2
}
