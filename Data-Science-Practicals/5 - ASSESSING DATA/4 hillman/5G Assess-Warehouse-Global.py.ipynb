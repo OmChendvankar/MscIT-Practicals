{
 "cells": [
  {
   "cell_type": "code",
   "execution_count": null,
   "metadata": {},
   "outputs": [],
   "source": [
    "# program to plan the locations of the warehouses from the given data.\n",
    "# Assess-Warehouse-Address.py"
   ]
  },
  {
   "cell_type": "code",
   "execution_count": 1,
   "metadata": {},
   "outputs": [],
   "source": [
    "import sys\n",
    "import os\n",
    "import pandas as pd"
   ]
  },
  {
   "cell_type": "code",
   "execution_count": 2,
   "metadata": {},
   "outputs": [],
   "source": [
    "InputFileName='Retrieve_All_Countries.csv'\n",
    "InputFileDir = 'C:/VKHCG/03-Hillman/01-Retrieve/01-EDS/01-R'\n",
    "OutputFileName='Assess_All_Warehouse.csv'\n",
    "OutputFileDir = 'C:/VKHCG/03-Hillman/02-Assess/01-EDS/02-Python'"
   ]
  },
  {
   "cell_type": "code",
   "execution_count": 3,
   "metadata": {},
   "outputs": [
    {
     "name": "stdout",
     "output_type": "stream",
     "text": [
      "Loading : C:/VKHCG/03-Hillman/01-Retrieve/01-EDS/01-R/Retrieve_All_Countries.csv\n"
     ]
    }
   ],
   "source": [
    "sFileName= InputFileDir + '/' + InputFileName\n",
    "print('Loading :',sFileName)"
   ]
  },
  {
   "cell_type": "code",
   "execution_count": 4,
   "metadata": {},
   "outputs": [
    {
     "data": {
      "text/plain": [
       "array(['Unnamed: 0', 'X1', 'X2', 'X3', 'X4', 'X5', 'X10', 'X11'],\n",
       "      dtype=object)"
      ]
     },
     "execution_count": 4,
     "metadata": {},
     "output_type": "execute_result"
    }
   ],
   "source": [
    "Warehouse=pd.read_csv(sFileName,header=0,low_memory=False, encoding=\"latin-1\")\n",
    "Warehouse.columns.values"
   ]
  },
  {
   "cell_type": "code",
   "execution_count": 5,
   "metadata": {},
   "outputs": [],
   "source": [
    "sColumns={'X1' : 'Country',\n",
    "          'X2' : 'PostCode',\n",
    "          'X3' : 'PlaceName',\n",
    "          'X4' : 'AreaName',\n",
    "          'X5' : 'AreaCode',\n",
    "          'X10' : 'Latitude',\n",
    "          'X11' : 'Longitude'}"
   ]
  },
  {
   "cell_type": "code",
   "execution_count": 7,
   "metadata": {},
   "outputs": [
    {
     "name": "stdout",
     "output_type": "stream",
     "text": [
      "['Unnamed: 0' 'Country' 'PostCode' 'PlaceName' 'AreaName' 'AreaCode'\n",
      " 'Latitude' 'Longitude']\n"
     ]
    }
   ],
   "source": [
    "Warehouse.rename(columns=sColumns,inplace=True)\n",
    "print(Warehouse.columns.values)\n",
    "WarehouseGood=Warehouse"
   ]
  },
  {
   "cell_type": "code",
   "execution_count": 10,
   "metadata": {},
   "outputs": [
    {
     "name": "stdout",
     "output_type": "stream",
     "text": [
      "########### Done #####################\n"
     ]
    }
   ],
   "source": [
    "sFileName=OutputFileDir + '/' + OutputFileName\n",
    "WarehouseGood.to_csv(sFileName, index = False)\n",
    "print('########### Done #####################')"
   ]
  }
 ],
 "metadata": {
  "kernelspec": {
   "display_name": "Python 3",
   "language": "python",
   "name": "python3"
  },
  "language_info": {
   "codemirror_mode": {
    "name": "ipython",
    "version": 3
   },
   "file_extension": ".py",
   "mimetype": "text/x-python",
   "name": "python",
   "nbconvert_exporter": "python",
   "pygments_lexer": "ipython3",
   "version": "3.7.4"
  }
 },
 "nbformat": 4,
 "nbformat_minor": 2
}
