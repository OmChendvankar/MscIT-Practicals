{
 "cells": [
  {
   "cell_type": "code",
   "execution_count": null,
   "metadata": {},
   "outputs": [],
   "source": [
    "# program to plan the locations of the warehouses from the given data.\n",
    "# Assess-Warehouse-Address.py"
   ]
  },
  {
   "cell_type": "code",
   "execution_count": 1,
   "metadata": {},
   "outputs": [],
   "source": [
    "import os\n",
    "import pandas as pd\n",
    "from geopy.geocoders import Nominatim"
   ]
  },
  {
   "cell_type": "code",
   "execution_count": 2,
   "metadata": {},
   "outputs": [
    {
     "name": "stderr",
     "output_type": "stream",
     "text": [
      "c:\\users\\ngt\\appdata\\local\\programs\\python\\python37\\lib\\site-packages\\ipykernel_launcher.py:1: DeprecationWarning: Using Nominatim with the default \"geopy/1.20.0\" `user_agent` is strongly discouraged, as it violates Nominatim's ToS https://operations.osmfoundation.org/policies/nominatim/ and may possibly cause 403 and 429 HTTP errors. Please specify a custom `user_agent` with `Nominatim(user_agent=\"my-application\")` or by overriding the default `user_agent`: `geopy.geocoders.options.default_user_agent = \"my-application\"`. In geopy 2.0 this will become an exception.\n",
      "  \"\"\"Entry point for launching an IPython kernel.\n"
     ]
    }
   ],
   "source": [
    "geolocator = Nominatim()\n",
    "# Nominatim geocoder is a free, open-source address search engine that \n",
    "# you can run on your own computer, even without an Internet connection! \n",
    "# And this is one of few solutions which allows you to do high volume, \n",
    "# batch geocoding for any address on our planet on budget."
   ]
  },
  {
   "cell_type": "code",
   "execution_count": 25,
   "metadata": {},
   "outputs": [],
   "source": [
    "InputFileName='Retrieve_GB_Postcode_Warehouse.csv'\n",
    "InputFileDir = 'C:/VKHCG/03-Hillman/01-Retrieve/01-EDS/01-R'\n",
    "OutputFileName='Assess_GB_Warehouse_Address.csv'\n",
    "OutputFileDir = 'C:/VKHCG/03-Hillman/02-Assess/01-EDS/02-Python'"
   ]
  },
  {
   "cell_type": "code",
   "execution_count": 7,
   "metadata": {},
   "outputs": [
    {
     "name": "stdout",
     "output_type": "stream",
     "text": [
      "Loading : C:/VKHCG/03-Hillman/01-Retrieve/01-EDS/01-R/Retrieve_GB_Postcode_Warehouse.csv\n"
     ]
    }
   ],
   "source": [
    "sFileName= InputFileDir + '/' + InputFileName\n",
    "print('Loading :',sFileName)"
   ]
  },
  {
   "cell_type": "code",
   "execution_count": 16,
   "metadata": {},
   "outputs": [
    {
     "data": {
      "text/html": [
       "<div>\n",
       "<style scoped>\n",
       "    .dataframe tbody tr th:only-of-type {\n",
       "        vertical-align: middle;\n",
       "    }\n",
       "\n",
       "    .dataframe tbody tr th {\n",
       "        vertical-align: top;\n",
       "    }\n",
       "\n",
       "    .dataframe thead th {\n",
       "        text-align: right;\n",
       "    }\n",
       "</style>\n",
       "<table border=\"1\" class=\"dataframe\">\n",
       "  <thead>\n",
       "    <tr style=\"text-align: right;\">\n",
       "      <th></th>\n",
       "      <th>id</th>\n",
       "      <th>postcode</th>\n",
       "      <th>latitude</th>\n",
       "      <th>longitude</th>\n",
       "    </tr>\n",
       "  </thead>\n",
       "  <tbody>\n",
       "    <tr>\n",
       "      <td>0</td>\n",
       "      <td>2</td>\n",
       "      <td>AB10</td>\n",
       "      <td>57.13514</td>\n",
       "      <td>-2.11731</td>\n",
       "    </tr>\n",
       "    <tr>\n",
       "      <td>1</td>\n",
       "      <td>3</td>\n",
       "      <td>AB11</td>\n",
       "      <td>57.13875</td>\n",
       "      <td>-2.09089</td>\n",
       "    </tr>\n",
       "    <tr>\n",
       "      <td>2</td>\n",
       "      <td>4</td>\n",
       "      <td>AB12</td>\n",
       "      <td>57.10100</td>\n",
       "      <td>-2.11060</td>\n",
       "    </tr>\n",
       "    <tr>\n",
       "      <td>3</td>\n",
       "      <td>5</td>\n",
       "      <td>AB13</td>\n",
       "      <td>57.10801</td>\n",
       "      <td>-2.23776</td>\n",
       "    </tr>\n",
       "    <tr>\n",
       "      <td>4</td>\n",
       "      <td>6</td>\n",
       "      <td>AB14</td>\n",
       "      <td>57.10076</td>\n",
       "      <td>-2.27073</td>\n",
       "    </tr>\n",
       "  </tbody>\n",
       "</table>\n",
       "</div>"
      ],
      "text/plain": [
       "   id postcode  latitude  longitude\n",
       "0   2     AB10  57.13514   -2.11731\n",
       "1   3     AB11  57.13875   -2.09089\n",
       "2   4     AB12  57.10100   -2.11060\n",
       "3   5     AB13  57.10801   -2.23776\n",
       "4   6     AB14  57.10076   -2.27073"
      ]
     },
     "execution_count": 16,
     "metadata": {},
     "output_type": "execute_result"
    }
   ],
   "source": [
    "Warehouse=pd.read_csv(sFileName,header=0,low_memory=False)\n",
    "Warehouse.sort_values(by='postcode', ascending=1)\n",
    "Warehouse.head()"
   ]
  },
  {
   "cell_type": "code",
   "execution_count": 17,
   "metadata": {},
   "outputs": [
    {
     "data": {
      "text/plain": [
       "(3003, 4)"
      ]
     },
     "execution_count": 17,
     "metadata": {},
     "output_type": "execute_result"
    }
   ],
   "source": [
    "Warehouse.shape"
   ]
  },
  {
   "cell_type": "code",
   "execution_count": 18,
   "metadata": {},
   "outputs": [],
   "source": [
    "## Limited to 10 due to service limit on Address Service.\n",
    "################################################################\n",
    "WarehouseGoodHead=Warehouse[Warehouse.latitude != 0].head(5)\n",
    "WarehouseGoodTail=Warehouse[Warehouse.latitude != 0].tail(5)"
   ]
  },
  {
   "cell_type": "code",
   "execution_count": 19,
   "metadata": {},
   "outputs": [],
   "source": [
    "WarehouseGoodHead['Warehouse_Point']=WarehouseGoodHead.apply(lambda row:\n",
    "            (str(row['latitude'])+','+str(row['longitude']))\n",
    "            ,axis=1)\n",
    "WarehouseGoodHead['Warehouse_Address']=WarehouseGoodHead.apply(lambda row:\n",
    "            geolocator.reverse(row['Warehouse_Point']).address\n",
    "           ,axis=1)"
   ]
  },
  {
   "cell_type": "code",
   "execution_count": 20,
   "metadata": {},
   "outputs": [
    {
     "data": {
      "text/plain": [
       "array(['id', 'postcode', 'latitude', 'longitude', 'Warehouse_Point',\n",
       "       'Warehouse_Address'], dtype=object)"
      ]
     },
     "execution_count": 20,
     "metadata": {},
     "output_type": "execute_result"
    }
   ],
   "source": [
    "WarehouseGoodHead.columns.values"
   ]
  },
  {
   "cell_type": "code",
   "execution_count": 21,
   "metadata": {},
   "outputs": [],
   "source": [
    "WarehouseGoodHead.drop('Warehouse_Point', axis=1, inplace=True)\n",
    "WarehouseGoodHead.drop('id', axis=1, inplace=True)\n",
    "WarehouseGoodHead.drop('postcode', axis=1, inplace=True)"
   ]
  },
  {
   "cell_type": "code",
   "execution_count": 22,
   "metadata": {},
   "outputs": [
    {
     "data": {
      "text/plain": [
       "array(['latitude', 'longitude', 'Warehouse_Address'], dtype=object)"
      ]
     },
     "execution_count": 22,
     "metadata": {},
     "output_type": "execute_result"
    }
   ],
   "source": [
    "WarehouseGoodHead.columns.values"
   ]
  },
  {
   "cell_type": "code",
   "execution_count": 23,
   "metadata": {},
   "outputs": [
    {
     "data": {
      "text/plain": [
       "array(['latitude', 'longitude', 'Warehouse_Address'], dtype=object)"
      ]
     },
     "execution_count": 23,
     "metadata": {},
     "output_type": "execute_result"
    }
   ],
   "source": [
    "WarehouseGoodTail['Warehouse_Point']=WarehouseGoodTail.apply(lambda row:\n",
    "            (str(row['latitude'])+','+str(row['longitude']))\n",
    "            ,axis=1)\n",
    "WarehouseGoodTail['Warehouse_Address']=WarehouseGoodTail.apply(lambda row:\n",
    "            geolocator.reverse(row['Warehouse_Point']).address\n",
    "           ,axis=1)\n",
    "WarehouseGoodTail.drop('Warehouse_Point', axis=1, inplace=True)\n",
    "WarehouseGoodTail.drop('id', axis=1, inplace=True)\n",
    "WarehouseGoodTail.drop('postcode', axis=1, inplace=True)\n",
    "WarehouseGoodTail.columns.values"
   ]
  },
  {
   "cell_type": "code",
   "execution_count": 24,
   "metadata": {},
   "outputs": [
    {
     "name": "stdout",
     "output_type": "stream",
     "text": [
      "    latitude  longitude                                  Warehouse_Address\n",
      "0  57.135140  -2.117310  35, Broomhill Road, Kaimhill, Broomhill, Aberd...\n",
      "1  57.138750  -2.090890  South Esplanade West, Tullos, Torry, Aberdeen ...\n",
      "2  57.101000  -2.110600  A92, Charlestown, Nigg, Aberdeen City, Alba / ...\n",
      "3  57.108010  -2.237760  Colthill Circle, Cults, Bieldside and Milltimb...\n",
      "4  57.100760  -2.270730  Johnston Gardens East, Culter, Peterculter, Ab...\n",
      "5  53.837717  -1.780013  HM Revenue and Customs, Riverside Estate, Ship...\n",
      "6  53.794470  -1.766539  Listerhills Road Norcroft Street, Listerhills ...\n",
      "7  51.518556  -0.714794  Sorting Office, Stafferton Way, Stafferton Way...\n",
      "8  54.890923  -2.943847  Carlisle Delivery Office, Junction Street, Den...\n",
      "9  57.481338  -4.223951  Inverness Sorting & Delivery Office, Strothers...\n"
     ]
    }
   ],
   "source": [
    "WarehouseGood=WarehouseGoodHead.append(WarehouseGoodTail, ignore_index=True)\n",
    "print(WarehouseGood)"
   ]
  },
  {
   "cell_type": "code",
   "execution_count": 28,
   "metadata": {},
   "outputs": [],
   "source": [
    "sFileName=OutputFileDir + '/' + OutputFileName\n",
    "WarehouseGood.to_csv(sFileName, index = False)"
   ]
  },
  {
   "cell_type": "code",
   "execution_count": 29,
   "metadata": {},
   "outputs": [
    {
     "name": "stdout",
     "output_type": "stream",
     "text": [
      "########### Done #####################\n"
     ]
    }
   ],
   "source": [
    "print('########### Done #####################')"
   ]
  },
  {
   "cell_type": "code",
   "execution_count": null,
   "metadata": {},
   "outputs": [],
   "source": []
  }
 ],
 "metadata": {
  "kernelspec": {
   "display_name": "Python 3",
   "language": "python",
   "name": "python3"
  },
  "language_info": {
   "codemirror_mode": {
    "name": "ipython",
    "version": 3
   },
   "file_extension": ".py",
   "mimetype": "text/x-python",
   "name": "python",
   "nbconvert_exporter": "python",
   "pygments_lexer": "ipython3",
   "version": "3.7.4"
  }
 },
 "nbformat": 4,
 "nbformat_minor": 2
}
