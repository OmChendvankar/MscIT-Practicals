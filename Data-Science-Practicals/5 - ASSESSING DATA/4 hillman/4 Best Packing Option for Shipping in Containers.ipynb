{
 "cells": [
  {
   "cell_type": "code",
   "execution_count": 15,
   "metadata": {},
   "outputs": [
    {
     "name": "stdout",
     "output_type": "stream",
     "text": [
      "################################\n",
      "Working Base : C:/VKHCG  using  win32\n",
      "################################\n"
     ]
    }
   ],
   "source": [
    "import sys\n",
    "import os\n",
    "import pandas as pd\n",
    "ContainerFileName='Retrieve_Container.csv'\n",
    "BoxFileName='Retrieve_Box.csv'\n",
    "ProductFileName='Retrieve_Product.csv'\n",
    "Company='03-Hillman'\n",
    "################################################################\n",
    "Base='C:/VKHCG'\n",
    "################################################################\n",
    "print('################################')\n",
    "print('Working Base :',Base, ' using ', sys.platform)\n",
    "print('################################')"
   ]
  },
  {
   "cell_type": "code",
   "execution_count": 10,
   "metadata": {},
   "outputs": [
    {
     "name": "stdout",
     "output_type": "stream",
     "text": [
      "###########\n",
      "Loading : C:/VKHCG/03-Hillman/00-RawData/GB_Postcode_Warehouse.csv\n"
     ]
    }
   ],
   "source": [
    "sFileDir=Base + '/' + Company + '/01-Retrieve/01-EDS/02-Python'\n",
    "if not os.path.exists(sFileDir):\n",
    "    os.makedirs(sFileDir)\n",
    "\n"
   ]
  },
  {
   "cell_type": "code",
   "execution_count": 18,
   "metadata": {},
   "outputs": [],
   "source": [
    "containerLength=range(1,21)\n",
    "containerWidth=range(1,10)\n",
    "containerHeigth=range(1,6)\n",
    "containerStep=1\n",
    "c=0\n",
    "for l in containerLength:\n",
    "    for w in containerWidth:\n",
    "        for h in containerHeigth:\n",
    "            containerVolume=(l/containerStep)*(w/containerStep)*(h/containerStep)\n",
    "            c=c+1\n",
    "            ContainerLine=[('ShipType', ['Container']), \n",
    "                       ('UnitNumber', ('C'+format(c,\"06d\"))),\n",
    "                       ('Length',(format(round(l,3),\".4f\"))),\n",
    "                       ('Width',(format(round(w,3),\".4f\"))), \n",
    "                       ('Height',(format(round(h,3),\".4f\"))),\n",
    "                       ('ContainerVolume',(format(round(containerVolume,6),\".6f\")))]\n",
    "            if c==1:\n",
    "               ContainerFrame = pd.DataFrame.from_dict(ContainerLine) \n",
    "            else:\n",
    "                ContainerRow = pd.DataFrame.from_dict(ContainerLine)\n",
    "                ContainerFrame = ContainerFrame.append(ContainerRow)\n",
    "            ContainerFrame.index.name = 'IDNumber'\n",
    "                   "
   ]
  },
  {
   "cell_type": "code",
   "execution_count": 19,
   "metadata": {},
   "outputs": [
    {
     "name": "stdout",
     "output_type": "stream",
     "text": [
      "## Container\n",
      "################\n",
      "Rows : 5400\n",
      "Columns : 2\n",
      "################\n"
     ]
    }
   ],
   "source": [
    "print('## Container')\n",
    "print('################')\n",
    "print('Rows :',ContainerFrame.shape[0])\n",
    "print('Columns :',ContainerFrame.shape[1])\n",
    "print('################')\n",
    "################################################################\n",
    "sFileContainerName=sFileDir + '/' + ContainerFileName\n",
    "ContainerFrame.to_csv(sFileContainerName, index = False)\n",
    "################################################################\n",
    "## Create valid Boxes with packing foam\n",
    "################################################################\n",
    "boxLength=range(1,21)\n",
    "boxWidth=range(1,21)\n",
    "boxHeigth=range(1,21)\n",
    "packThick=range(0,6)\n",
    "boxStep=10\n",
    "b=0"
   ]
  },
  {
   "cell_type": "code",
   "execution_count": null,
   "metadata": {},
   "outputs": [],
   "source": [
    "for l in boxLength:\n",
    "    for w in boxWidth:\n",
    "        for h in boxHeigth:\n",
    "            for t in packThick:\n",
    "                boxVolume=round((l/boxStep)*(w/boxStep)*(h/boxStep),6)\n",
    "                productVolume=round(((l-t)/boxStep)*((w-t)/boxStep)*((h-t)/boxStep),6)\n",
    "                if productVolume > 0:\n",
    "                    b=b+1\n",
    "                    BoxLine=[('ShipType', ['Box']), \n",
    "                       ('UnitNumber', ('B'+format(b,\"06d\"))),\n",
    "                       ('Length',(format(round(l/10,6),\".6f\"))),\n",
    "                       ('Width',(format(round(w/10,6),\".6f\"))), \n",
    "                       ('Height',(format(round(h/10,6),\".6f\"))),\n",
    "                       ('Thickness',(format(round(t/5,6),\".6f\"))),\n",
    "                       ('BoxVolume',(format(round(boxVolume,9),\".9f\"))),\n",
    "                       ('ProductVolume',(format(round(productVolume,9),\".9f\")))]\n",
    "                    if b==1:\n",
    "                       BoxFrame = pd.DataFrame.from_dict(BoxLine) \n",
    "                    else:\n",
    "                        BoxRow = pd.DataFrame.from_dict(BoxLine)\n",
    "                        BoxFrame = BoxFrame.append(BoxRow)\n",
    "                    BoxFrame.index.name = 'IDNumber'\n",
    "                    \n",
    "print('#################')  "
   ]
  },
  {
   "cell_type": "code",
   "execution_count": null,
   "metadata": {},
   "outputs": [],
   "source": [
    "print('## Box')\n",
    "print('#################')\n",
    "print('Rows :',BoxFrame.shape[0])\n",
    "print('Columns :',BoxFrame.shape[1])\n",
    "print('#################')\n",
    "################################################################\n",
    "sFileBoxName=sFileDir + '/' + BoxFileName\n",
    "BoxFrame.to_csv(sFileBoxName, index = False)\n",
    "################################################################\n",
    "## Create valid Product\n",
    "################################################################\n",
    "productLength=range(1,21)\n",
    "productWidth=range(1,21)\n",
    "productHeigth=range(1,21)\n",
    "productStep=10\n",
    "p=0"
   ]
  },
  {
   "cell_type": "code",
   "execution_count": null,
   "metadata": {},
   "outputs": [],
   "source": [
    "for l in productLength:\n",
    "    for w in productWidth:\n",
    "        for h in productHeigth:\n",
    "            productVolume=round((l/productStep)*(w/productStep)*(h/productStep),6)\n",
    "            if productVolume > 0:\n",
    "                p=p+1\n",
    "                ProductLine=[('ShipType', ['Product']), \n",
    "                   ('UnitNumber', ('P'+format(p,\"06d\"))),\n",
    "                   ('Length',(format(round(l/10,6),\".6f\"))),\n",
    "                   ('Width',(format(round(w/10,6),\".6f\"))), \n",
    "                   ('Height',(format(round(h/10,6),\".6f\"))),\n",
    "                   ('ProductVolume',(format(round(productVolume,9),\".9f\")))]\n",
    "                if p==1:\n",
    "                   ProductFrame = pd.DataFrame.from_items(ProductLine) \n",
    "                else:\n",
    "                    ProductRow = pd.DataFrame.from_items(ProductLine)\n",
    "                    ProductFrame = ProductFrame.append(ProductRow)\n",
    "                BoxFrame.index.name = 'IDNumber'\n",
    "                    \n",
    "print('#################')   \n",
    "print('## Product')   \n",
    "print('#################')\n",
    "print('Rows :',ProductFrame.shape[0])\n",
    "print('Columns :',ProductFrame.shape[1])\n",
    "print('#################')\n",
    "################################################################\n",
    "sFileProductName=sFileDir + '/' + ProductFileName \n",
    "ProductFrame.to_csv(sFileProductName, index = False) \n",
    "################################################################\n",
    "#################################################################\n",
    "print('### Done!! ############################################')\n",
    "#################################################################"
   ]
  },
  {
   "cell_type": "code",
   "execution_count": null,
   "metadata": {},
   "outputs": [],
   "source": []
  }
 ],
 "metadata": {
  "kernelspec": {
   "display_name": "Python 3",
   "language": "python",
   "name": "python3"
  },
  "language_info": {
   "codemirror_mode": {
    "name": "ipython",
    "version": 3
   },
   "file_extension": ".py",
   "mimetype": "text/x-python",
   "name": "python",
   "nbconvert_exporter": "python",
   "pygments_lexer": "ipython3",
   "version": "3.7.3"
  }
 },
 "nbformat": 4,
 "nbformat_minor": 2
}
