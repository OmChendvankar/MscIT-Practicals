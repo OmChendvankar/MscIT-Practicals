{
 "cells": [
  {
   "cell_type": "code",
   "execution_count": 1,
   "metadata": {},
   "outputs": [
    {
     "name": "stdout",
     "output_type": "stream",
     "text": [
      "################################\n",
      "Working Base : C:/VKHCG  using  win32\n",
      "################################\n"
     ]
    }
   ],
   "source": [
    "import sys\n",
    "import os\n",
    "import pandas as pd\n",
    "\n",
    "Base='C:/VKHCG'\n",
    "################################################################\n",
    "print('################################')\n",
    "print('Working Base :',Base, ' using ', sys.platform)\n",
    "print('################################')\n",
    "################################################################\n",
    "Company='03-Hillman'\n",
    "InputDir='01-Retrieve/01-EDS/01-R'\n",
    "InputFileName='Retrieve_All_Countries.csv'\n",
    "EDSDir='02-Assess/01-EDS'\n",
    "OutputDir=EDSDir + '/02-Python'\n",
    "OutputFileName='Assess_All_Warehouse.csv'"
   ]
  },
  {
   "cell_type": "code",
   "execution_count": 2,
   "metadata": {},
   "outputs": [
    {
     "name": "stdout",
     "output_type": "stream",
     "text": [
      "###########\n",
      "Loading : C:/VKHCG/03-Hillman/01-Retrieve/01-EDS/01-R/Retrieve_All_Countries.csv\n"
     ]
    }
   ],
   "source": [
    "sFileDir=Base + '/' + Company + '/' + EDSDir\n",
    "if not os.path.exists(sFileDir):\n",
    "    os.makedirs(sFileDir)\n",
    "################################################################\n",
    "sFileDir=Base + '/' + Company + '/' + OutputDir\n",
    "if not os.path.exists(sFileDir):\n",
    "    os.makedirs(sFileDir)\n",
    "################################################################\n",
    "sFileName=Base + '/' + Company + '/' + InputDir + '/' + InputFileName\n",
    "print('###########')\n",
    "print('Loading :',sFileName)\n",
    "Warehouse=pd.read_csv(sFileName,header=0,low_memory=False, encoding=\"latin-1\")"
   ]
  },
  {
   "cell_type": "code",
   "execution_count": 3,
   "metadata": {},
   "outputs": [],
   "source": [
    "sColumns={'X1' : 'Country',\n",
    "          'X2' : 'PostCode',\n",
    "          'X3' : 'PlaceName',\n",
    "          'X4' : 'AreaName',\n",
    "          'X5' : 'AreaCode',\n",
    "          'X10' : 'Latitude',\n",
    "          'X11' : 'Longitude'}\n",
    "Warehouse.rename(columns=sColumns,inplace=True)\n",
    "WarehouseGood=Warehouse\n",
    "################################################################\n",
    "sFileName=sFileDir + '/' + OutputFileName\n",
    "WarehouseGood.to_csv(sFileName, index = False)"
   ]
  },
  {
   "cell_type": "code",
   "execution_count": 4,
   "metadata": {},
   "outputs": [
    {
     "data": {
      "text/html": [
       "<div>\n",
       "<style scoped>\n",
       "    .dataframe tbody tr th:only-of-type {\n",
       "        vertical-align: middle;\n",
       "    }\n",
       "\n",
       "    .dataframe tbody tr th {\n",
       "        vertical-align: top;\n",
       "    }\n",
       "\n",
       "    .dataframe thead th {\n",
       "        text-align: right;\n",
       "    }\n",
       "</style>\n",
       "<table border=\"1\" class=\"dataframe\">\n",
       "  <thead>\n",
       "    <tr style=\"text-align: right;\">\n",
       "      <th></th>\n",
       "      <th>Unnamed: 0</th>\n",
       "      <th>Country</th>\n",
       "    </tr>\n",
       "  </thead>\n",
       "  <tbody>\n",
       "    <tr>\n",
       "      <th>0</th>\n",
       "      <td>1</td>\n",
       "      <td>C:/VKHCG/03-Hillman/00-RawData/</td>\n",
       "    </tr>\n",
       "    <tr>\n",
       "      <th>1</th>\n",
       "      <td>2</td>\n",
       "      <td>All_Countries.txt</td>\n",
       "    </tr>\n",
       "  </tbody>\n",
       "</table>\n",
       "</div>"
      ],
      "text/plain": [
       "   Unnamed: 0                          Country\n",
       "0           1  C:/VKHCG/03-Hillman/00-RawData/\n",
       "1           2                All_Countries.txt"
      ]
     },
     "execution_count": 4,
     "metadata": {},
     "output_type": "execute_result"
    }
   ],
   "source": [
    "WarehouseGood"
   ]
  },
  {
   "cell_type": "code",
   "execution_count": null,
   "metadata": {},
   "outputs": [],
   "source": []
  }
 ],
 "metadata": {
  "kernelspec": {
   "display_name": "Python 3",
   "language": "python",
   "name": "python3"
  },
  "language_info": {
   "codemirror_mode": {
    "name": "ipython",
    "version": 3
   },
   "file_extension": ".py",
   "mimetype": "text/x-python",
   "name": "python",
   "nbconvert_exporter": "python",
   "pygments_lexer": "ipython3",
   "version": "3.7.3"
  }
 },
 "nbformat": 4,
 "nbformat_minor": 2
}
