{
 "cells": [
  {
   "cell_type": "code",
   "execution_count": 1,
   "metadata": {},
   "outputs": [],
   "source": [
    "import sys\n",
    "import os\n",
    "import sqlite3 as sq\n",
    "import pandas as pd"
   ]
  },
  {
   "cell_type": "code",
   "execution_count": 4,
   "metadata": {},
   "outputs": [],
   "source": [
    "InputFileName1='Retrieve_DE_Billboard_Locations.csv'\n",
    "InputFileName2='Retrieve_Online_Visitor.csv'\n",
    "InputFileDir = 'C:/VKHCG/02-Krennwallner/01-Retrieve/01-EDS/02-Python'\n",
    "OutputFileDir = 'C:/VKHCG/02-Krennwallner/02-Assess/01-EDS/02-Python'\n",
    "OutputFileName='Assess-DE-Billboard-Visitor.csv'\n",
    "DataBaseDir = 'C:/VKHCG/02-Krennwallner/02-Assess/SQLite'\n",
    "DataBaseName='krennwallner.db'"
   ]
  },
  {
   "cell_type": "code",
   "execution_count": 7,
   "metadata": {},
   "outputs": [],
   "source": [
    "if not os.path.exists(DataBaseDir):    \n",
    "    os.makedirs(DataBaseDir) \n",
    "\n",
    "sDatabaseName=DataBaseDir + '/' + DataBaseName\n",
    "conn = sq.connect(sDatabaseName)"
   ]
  },
  {
   "cell_type": "code",
   "execution_count": 8,
   "metadata": {},
   "outputs": [],
   "source": [
    "conn = sq.connect(sDatabaseName)"
   ]
  },
  {
   "cell_type": "code",
   "execution_count": 9,
   "metadata": {},
   "outputs": [
    {
     "name": "stdout",
     "output_type": "stream",
     "text": [
      "Loading : C:/VKHCG/02-Krennwallner/01-Retrieve/01-EDS/02-Python/Retrieve_DE_Billboard_Locations.csv\n"
     ]
    }
   ],
   "source": [
    "### Import Billboard Data\n",
    "sFileName= InputFileDir + '/' + InputFileName1\n",
    "print('Loading :',sFileName)"
   ]
  },
  {
   "cell_type": "code",
   "execution_count": 10,
   "metadata": {},
   "outputs": [
    {
     "data": {
      "text/html": [
       "<div>\n",
       "<style scoped>\n",
       "    .dataframe tbody tr th:only-of-type {\n",
       "        vertical-align: middle;\n",
       "    }\n",
       "\n",
       "    .dataframe tbody tr th {\n",
       "        vertical-align: top;\n",
       "    }\n",
       "\n",
       "    .dataframe thead th {\n",
       "        text-align: right;\n",
       "    }\n",
       "</style>\n",
       "<table border=\"1\" class=\"dataframe\">\n",
       "  <thead>\n",
       "    <tr style=\"text-align: right;\">\n",
       "      <th></th>\n",
       "      <th>Country</th>\n",
       "      <th>Place_Name</th>\n",
       "      <th>Latitude</th>\n",
       "      <th>Longitude</th>\n",
       "    </tr>\n",
       "  </thead>\n",
       "  <tbody>\n",
       "    <tr>\n",
       "      <td>0</td>\n",
       "      <td>DE</td>\n",
       "      <td>Lake</td>\n",
       "      <td>51.7833</td>\n",
       "      <td>8.5667</td>\n",
       "    </tr>\n",
       "    <tr>\n",
       "      <td>1</td>\n",
       "      <td>DE</td>\n",
       "      <td>Horb</td>\n",
       "      <td>48.4333</td>\n",
       "      <td>8.6833</td>\n",
       "    </tr>\n",
       "    <tr>\n",
       "      <td>2</td>\n",
       "      <td>DE</td>\n",
       "      <td>Hardenberg</td>\n",
       "      <td>51.1000</td>\n",
       "      <td>7.7333</td>\n",
       "    </tr>\n",
       "    <tr>\n",
       "      <td>3</td>\n",
       "      <td>DE</td>\n",
       "      <td>Horn-bad Meinberg</td>\n",
       "      <td>51.9833</td>\n",
       "      <td>8.9667</td>\n",
       "    </tr>\n",
       "    <tr>\n",
       "      <td>4</td>\n",
       "      <td>DE</td>\n",
       "      <td>Winkel</td>\n",
       "      <td>51.5500</td>\n",
       "      <td>13.3833</td>\n",
       "    </tr>\n",
       "  </tbody>\n",
       "</table>\n",
       "</div>"
      ],
      "text/plain": [
       "  Country         Place_Name  Latitude  Longitude\n",
       "0      DE               Lake   51.7833     8.5667\n",
       "1      DE               Horb   48.4333     8.6833\n",
       "2      DE         Hardenberg   51.1000     7.7333\n",
       "3      DE  Horn-bad Meinberg   51.9833     8.9667\n",
       "4      DE             Winkel   51.5500    13.3833"
      ]
     },
     "execution_count": 10,
     "metadata": {},
     "output_type": "execute_result"
    }
   ],
   "source": [
    "BillboardRawData=pd.read_csv(sFileName,header=0,low_memory=False, encoding=\"latin-1\")\n",
    "BillboardRawData.head()"
   ]
  },
  {
   "cell_type": "code",
   "execution_count": 11,
   "metadata": {},
   "outputs": [
    {
     "data": {
      "text/plain": [
       "(8873, 4)"
      ]
     },
     "execution_count": 11,
     "metadata": {},
     "output_type": "execute_result"
    }
   ],
   "source": [
    "BillboardRawData.shape"
   ]
  },
  {
   "cell_type": "code",
   "execution_count": 12,
   "metadata": {},
   "outputs": [
    {
     "data": {
      "text/plain": [
       "(8873, 4)"
      ]
     },
     "execution_count": 12,
     "metadata": {},
     "output_type": "execute_result"
    }
   ],
   "source": [
    "BillboardRawData.drop_duplicates(subset=None, keep='first', inplace=True)\n",
    "BillboardData=BillboardRawData\n",
    "BillboardData.shape"
   ]
  },
  {
   "cell_type": "code",
   "execution_count": 13,
   "metadata": {},
   "outputs": [
    {
     "name": "stdout",
     "output_type": "stream",
     "text": [
      "Loaded Company : ['Country' 'Place_Name' 'Latitude' 'Longitude']\n"
     ]
    }
   ],
   "source": [
    "print('Loaded Company :',BillboardData.columns.values)"
   ]
  },
  {
   "cell_type": "code",
   "execution_count": 15,
   "metadata": {},
   "outputs": [
    {
     "name": "stdout",
     "output_type": "stream",
     "text": [
      "Storing : C:/VKHCG/02-Krennwallner/02-Assess/SQLite/krennwallner.db  Table: Assess_BillboardData\n"
     ]
    }
   ],
   "source": [
    "sTable='Assess_BillboardData'\n",
    "print('Storing :',sDatabaseName,' Table:',sTable)\n",
    "BillboardData.to_sql(sTable, conn, if_exists=\"replace\")"
   ]
  },
  {
   "cell_type": "code",
   "execution_count": 21,
   "metadata": {},
   "outputs": [
    {
     "name": "stdout",
     "output_type": "stream",
     "text": [
      "  Country         Place_Name  Latitude  Longitude\n",
      "0      DE               Lake   51.7833     8.5667\n",
      "1      DE               Horb   48.4333     8.6833\n",
      "2      DE         Hardenberg   51.1000     7.7333\n",
      "3      DE  Horn-bad Meinberg   51.9833     8.9667\n",
      "4      DE             Winkel   51.5500    13.3833\n"
     ]
    }
   ],
   "source": [
    "print(BillboardData.head())"
   ]
  },
  {
   "cell_type": "code",
   "execution_count": 17,
   "metadata": {},
   "outputs": [
    {
     "name": "stdout",
     "output_type": "stream",
     "text": [
      "Loading : C:/VKHCG/02-Krennwallner/01-Retrieve/01-EDS/02-Python/Retrieve_Online_Visitor.csv\n"
     ]
    }
   ],
   "source": [
    "### Import Billboard Data\n",
    "sFileName= InputFileDir + '/' + InputFileName2\n",
    "print('Loading :',sFileName)"
   ]
  },
  {
   "cell_type": "code",
   "execution_count": 18,
   "metadata": {},
   "outputs": [
    {
     "name": "stdout",
     "output_type": "stream",
     "text": [
      "Loaded Company : ['Country' 'Place_Name' 'Latitude' 'Longitude' 'First_IP_Number'\n",
      " 'Last_IP_Number']\n"
     ]
    }
   ],
   "source": [
    "VisitorRawData=pd.read_csv(sFileName,header=0,low_memory=False, encoding=\"latin-1\")\n",
    "VisitorRawData.drop_duplicates(subset=None, keep='first', inplace=True)\n",
    "VisitorData=VisitorRawData[VisitorRawData.Country=='DE']\n",
    "print('Loaded Company :',VisitorData.columns.values)"
   ]
  },
  {
   "cell_type": "code",
   "execution_count": 19,
   "metadata": {},
   "outputs": [
    {
     "name": "stdout",
     "output_type": "stream",
     "text": [
      "Storing : C:/VKHCG/02-Krennwallner/02-Assess/SQLite/krennwallner.db  Table: Assess_VisitorData\n"
     ]
    }
   ],
   "source": [
    "sTable='Assess_VisitorData'\n",
    "print('Storing :',sDatabaseName,' Table:',sTable)\n",
    "VisitorData.to_sql(sTable, conn, if_exists=\"replace\")"
   ]
  },
  {
   "cell_type": "code",
   "execution_count": 20,
   "metadata": {},
   "outputs": [
    {
     "name": "stdout",
     "output_type": "stream",
     "text": [
      "       Country Place_Name  Latitude  Longitude  First_IP_Number  \\\n",
      "368678      DE       Lake   51.7833     8.5667       1418011904   \n",
      "368679      DE       Lake   51.7833     8.5667       1528171008   \n",
      "368680      DE       Lake   51.7833     8.5667       1528177920   \n",
      "408664      DE       Horb   48.4333     8.6833        777246720   \n",
      "408665      DE       Horb   48.4333     8.6833       1339562496   \n",
      "\n",
      "        Last_IP_Number  \n",
      "368678      1418012159  \n",
      "368679      1528171263  \n",
      "368680      1528178175  \n",
      "408664       777246975  \n",
      "408665      1339562751  \n"
     ]
    }
   ],
   "source": [
    "print(VisitorData.head())"
   ]
  },
  {
   "cell_type": "code",
   "execution_count": 22,
   "metadata": {},
   "outputs": [
    {
     "data": {
      "text/plain": [
       "(75999, 6)"
      ]
     },
     "execution_count": 22,
     "metadata": {},
     "output_type": "execute_result"
    }
   ],
   "source": [
    "VisitorData.shape"
   ]
  },
  {
   "cell_type": "code",
   "execution_count": 23,
   "metadata": {},
   "outputs": [
    {
     "name": "stdout",
     "output_type": "stream",
     "text": [
      "Loading : C:/VKHCG/02-Krennwallner/02-Assess/SQLite/krennwallner.db  Table: Assess_BillboardVisitorData\n"
     ]
    }
   ],
   "source": [
    "sTable='Assess_BillboardVisitorData'\n",
    "print('Loading :',sDatabaseName,' Table:',sTable)"
   ]
  },
  {
   "cell_type": "code",
   "execution_count": 24,
   "metadata": {},
   "outputs": [
    {
     "name": "stdout",
     "output_type": "stream",
     "text": [
      "  BillboardCountry BillboardPlaceName  BillboardLatitude  BillboardLongitude  \\\n",
      "0               DE               Lake            51.7833              8.5667   \n",
      "1               DE               Horb            48.4333              8.6833   \n",
      "2               DE               Horb            48.4333              8.6833   \n",
      "3               DE               Horb            48.4333              8.6833   \n",
      "4               DE               Horb            48.4333              8.6833   \n",
      "\n",
      "  VisitorCountry VisitorPlaceName  VisitorLatitude  VisitorLongitude  \\\n",
      "0             DE             Lake          51.7833            8.5667   \n",
      "1             DE             Horb          48.4333            8.6833   \n",
      "2             DE             Horb          48.4333            8.6833   \n",
      "3             DE             Horb          48.4333            8.6833   \n",
      "4             DE             Horb          48.4333            8.6833   \n",
      "\n",
      "   VisitorYearRate  \n",
      "0       26823960.0  \n",
      "1       26823960.0  \n",
      "2       53753112.0  \n",
      "3      107611416.0  \n",
      "4       13359384.0  \n"
     ]
    }
   ],
   "source": [
    "sSQL=\"select distinct\"\n",
    "sSQL=sSQL+ \" A.Country AS BillboardCountry,\"\n",
    "sSQL=sSQL+ \" A.Place_Name AS BillboardPlaceName,\"\n",
    "sSQL=sSQL+ \" A.Latitude AS BillboardLatitude, \"\n",
    "sSQL=sSQL+ \" A.Longitude AS BillboardLongitude,\"\n",
    "sSQL=sSQL+ \" B.Country AS VisitorCountry,\"\n",
    "sSQL=sSQL+ \" B.Place_Name AS VisitorPlaceName,\"\n",
    "sSQL=sSQL+ \" B.Latitude AS VisitorLatitude, \"\n",
    "sSQL=sSQL+ \" B.Longitude AS VisitorLongitude,\"\n",
    "sSQL=sSQL+ \" (B.Last_IP_Number - B.First_IP_Number) * 365.25 * 24 * 12 AS VisitorYearRate\"\n",
    "sSQL=sSQL+ \" from\"\n",
    "sSQL=sSQL+ \" Assess_BillboardData as A\"\n",
    "sSQL=sSQL+ \" JOIN \"\n",
    "sSQL=sSQL+ \" Assess_VisitorData as B\"\n",
    "sSQL=sSQL+ \" ON \"\n",
    "sSQL=sSQL+ \" A.Country = B.Country\"\n",
    "sSQL=sSQL+ \" AND \"\n",
    "sSQL=sSQL+ \" A.Place_Name = B.Place_Name;\"\n",
    "BillboardVistorsData=pd.read_sql_query(sSQL, conn)\n",
    "print(BillboardVistorsData.head())"
   ]
  },
  {
   "cell_type": "code",
   "execution_count": 25,
   "metadata": {},
   "outputs": [
    {
     "data": {
      "text/plain": [
       "(181235, 9)"
      ]
     },
     "execution_count": 25,
     "metadata": {},
     "output_type": "execute_result"
    }
   ],
   "source": [
    "BillboardVistorsData.shape"
   ]
  },
  {
   "cell_type": "code",
   "execution_count": 26,
   "metadata": {},
   "outputs": [
    {
     "name": "stdout",
     "output_type": "stream",
     "text": [
      "Storing : C:/VKHCG/02-Krennwallner/02-Assess/SQLite/krennwallner.db  Table: Assess_BillboardVistorsData\n"
     ]
    }
   ],
   "source": [
    "sTable='Assess_BillboardVistorsData'\n",
    "print('Storing :',sDatabaseName,' Table:',sTable)\n",
    "BillboardVistorsData.to_sql(sTable, conn, if_exists=\"replace\")"
   ]
  },
  {
   "cell_type": "code",
   "execution_count": 27,
   "metadata": {},
   "outputs": [
    {
     "name": "stdout",
     "output_type": "stream",
     "text": [
      "Storing : C:/VKHCG/02-Krennwallner/02-Assess/01-EDS/02-Python/Assess-DE-Billboard-Visitor.csv\n"
     ]
    }
   ],
   "source": [
    "sFileName=OutputFileDir + '/' + OutputFileName\n",
    "print('Storing :', sFileName)"
   ]
  },
  {
   "cell_type": "code",
   "execution_count": 28,
   "metadata": {},
   "outputs": [
    {
     "name": "stdout",
     "output_type": "stream",
     "text": [
      "### Done!! #####################\n"
     ]
    }
   ],
   "source": [
    "BillboardVistorsData.to_csv(sFileName, index = False)\n",
    "print('### Done!! #####################')"
   ]
  }
 ],
 "metadata": {
  "kernelspec": {
   "display_name": "Python 3",
   "language": "python",
   "name": "python3"
  },
  "language_info": {
   "codemirror_mode": {
    "name": "ipython",
    "version": 3
   },
   "file_extension": ".py",
   "mimetype": "text/x-python",
   "name": "python",
   "nbconvert_exporter": "python",
   "pygments_lexer": "ipython3",
   "version": "3.7.4"
  }
 },
 "nbformat": 4,
 "nbformat_minor": 2
}
