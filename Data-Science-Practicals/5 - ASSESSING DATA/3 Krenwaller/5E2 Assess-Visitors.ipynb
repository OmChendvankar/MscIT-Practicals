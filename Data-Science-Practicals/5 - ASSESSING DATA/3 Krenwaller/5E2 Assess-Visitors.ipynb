{
 "cells": [
  {
   "cell_type": "code",
   "execution_count": null,
   "metadata": {},
   "outputs": [],
   "source": [
    "# Planning an Event for Top-Ten Customers - Assess-Visitors.py "
   ]
  },
  {
   "cell_type": "code",
   "execution_count": 25,
   "metadata": {},
   "outputs": [],
   "source": [
    "import sys\n",
    "import os\n",
    "import sqlite3 as sq\n",
    "import pandas as pd\n",
    "from pandas.io import sql"
   ]
  },
  {
   "cell_type": "code",
   "execution_count": 4,
   "metadata": {},
   "outputs": [],
   "source": [
    "InputFileName='Retrieve_Online_Visitor.csv'\n",
    "InputFileDir = 'C:/VKHCG/02-Krennwallner/01-Retrieve/01-EDS/02-Python'\n",
    "DataBaseDir = 'C:/VKHCG/02-Krennwallner/02-Assess/SQLite'\n",
    "DataBaseName='krennwallner.db'"
   ]
  },
  {
   "cell_type": "code",
   "execution_count": 6,
   "metadata": {},
   "outputs": [],
   "source": [
    "if not os.path.exists(DataBaseDir):    \n",
    "    os.makedirs(DataBaseDir) \n",
    "\n",
    "sDatabaseName=DataBaseDir + '/' + DataBaseName\n",
    "conn = sq.connect(sDatabaseName)"
   ]
  },
  {
   "cell_type": "code",
   "execution_count": 8,
   "metadata": {},
   "outputs": [
    {
     "name": "stdout",
     "output_type": "stream",
     "text": [
      "Loading : C:/VKHCG/02-Krennwallner/01-Retrieve/01-EDS/02-Python/Retrieve_Online_Visitor.csv\n"
     ]
    }
   ],
   "source": [
    "### Import Country Data\n",
    "sFileName= InputFileDir + '/' + InputFileName\n",
    "print('Loading :',sFileName)"
   ]
  },
  {
   "cell_type": "code",
   "execution_count": 9,
   "metadata": {},
   "outputs": [
    {
     "data": {
      "text/plain": [
       "array(['Country', 'Place_Name', 'Latitude', 'Longitude',\n",
       "       'First_IP_Number', 'Last_IP_Number'], dtype=object)"
      ]
     },
     "execution_count": 9,
     "metadata": {},
     "output_type": "execute_result"
    }
   ],
   "source": [
    "VisitorRawData=pd.read_csv(sFileName,\n",
    "                           header=0,\n",
    "                           low_memory=False, \n",
    "                           encoding=\"latin-1\",\n",
    "                           skip_blank_lines=True)\n",
    "VisitorRawData.columns.values"
   ]
  },
  {
   "cell_type": "code",
   "execution_count": 10,
   "metadata": {},
   "outputs": [
    {
     "data": {
      "text/plain": [
       "(1247464, 6)"
      ]
     },
     "execution_count": 10,
     "metadata": {},
     "output_type": "execute_result"
    }
   ],
   "source": [
    "VisitorRawData.shape"
   ]
  },
  {
   "cell_type": "code",
   "execution_count": 11,
   "metadata": {},
   "outputs": [
    {
     "name": "stdout",
     "output_type": "stream",
     "text": [
      "Loaded Company : ['Country' 'Place_Name' 'Latitude' 'Longitude' 'First_IP_Number'\n",
      " 'Last_IP_Number']\n"
     ]
    }
   ],
   "source": [
    "VisitorRawData.drop_duplicates(subset=None, keep='first', inplace=True)\n",
    "VisitorData=VisitorRawData\n",
    "print('Loaded Company :',VisitorData.columns.values)"
   ]
  },
  {
   "cell_type": "code",
   "execution_count": 12,
   "metadata": {},
   "outputs": [
    {
     "data": {
      "text/html": [
       "<div>\n",
       "<style scoped>\n",
       "    .dataframe tbody tr th:only-of-type {\n",
       "        vertical-align: middle;\n",
       "    }\n",
       "\n",
       "    .dataframe tbody tr th {\n",
       "        vertical-align: top;\n",
       "    }\n",
       "\n",
       "    .dataframe thead th {\n",
       "        text-align: right;\n",
       "    }\n",
       "</style>\n",
       "<table border=\"1\" class=\"dataframe\">\n",
       "  <thead>\n",
       "    <tr style=\"text-align: right;\">\n",
       "      <th></th>\n",
       "      <th>Country</th>\n",
       "      <th>Place_Name</th>\n",
       "      <th>Latitude</th>\n",
       "      <th>Longitude</th>\n",
       "      <th>First_IP_Number</th>\n",
       "      <th>Last_IP_Number</th>\n",
       "    </tr>\n",
       "  </thead>\n",
       "  <tbody>\n",
       "    <tr>\n",
       "      <td>0</td>\n",
       "      <td>BW</td>\n",
       "      <td>Gaborone</td>\n",
       "      <td>-24.6464</td>\n",
       "      <td>25.9119</td>\n",
       "      <td>692781056.0</td>\n",
       "      <td>692781567.0</td>\n",
       "    </tr>\n",
       "    <tr>\n",
       "      <td>1</td>\n",
       "      <td>BW</td>\n",
       "      <td>Gaborone</td>\n",
       "      <td>-24.6464</td>\n",
       "      <td>25.9119</td>\n",
       "      <td>692781824.0</td>\n",
       "      <td>692783103.0</td>\n",
       "    </tr>\n",
       "    <tr>\n",
       "      <td>2</td>\n",
       "      <td>BW</td>\n",
       "      <td>Gaborone</td>\n",
       "      <td>-24.6464</td>\n",
       "      <td>25.9119</td>\n",
       "      <td>692909056.0</td>\n",
       "      <td>692909311.0</td>\n",
       "    </tr>\n",
       "    <tr>\n",
       "      <td>3</td>\n",
       "      <td>BW</td>\n",
       "      <td>Gaborone</td>\n",
       "      <td>-24.6464</td>\n",
       "      <td>25.9119</td>\n",
       "      <td>692909568.0</td>\n",
       "      <td>692910079.0</td>\n",
       "    </tr>\n",
       "    <tr>\n",
       "      <td>4</td>\n",
       "      <td>BW</td>\n",
       "      <td>Gaborone</td>\n",
       "      <td>-24.6464</td>\n",
       "      <td>25.9119</td>\n",
       "      <td>693051392.0</td>\n",
       "      <td>693052415.0</td>\n",
       "    </tr>\n",
       "  </tbody>\n",
       "</table>\n",
       "</div>"
      ],
      "text/plain": [
       "  Country Place_Name  Latitude  Longitude  First_IP_Number  Last_IP_Number\n",
       "0      BW   Gaborone  -24.6464    25.9119      692781056.0     692781567.0\n",
       "1      BW   Gaborone  -24.6464    25.9119      692781824.0     692783103.0\n",
       "2      BW   Gaborone  -24.6464    25.9119      692909056.0     692909311.0\n",
       "3      BW   Gaborone  -24.6464    25.9119      692909568.0     692910079.0\n",
       "4      BW   Gaborone  -24.6464    25.9119      693051392.0     693052415.0"
      ]
     },
     "execution_count": 12,
     "metadata": {},
     "output_type": "execute_result"
    }
   ],
   "source": [
    "VisitorData.head()"
   ]
  },
  {
   "cell_type": "code",
   "execution_count": 13,
   "metadata": {},
   "outputs": [
    {
     "data": {
      "text/plain": [
       "(1247464, 6)"
      ]
     },
     "execution_count": 13,
     "metadata": {},
     "output_type": "execute_result"
    }
   ],
   "source": [
    "VisitorData.shape"
   ]
  },
  {
   "cell_type": "code",
   "execution_count": 14,
   "metadata": {},
   "outputs": [
    {
     "name": "stdout",
     "output_type": "stream",
     "text": [
      "Storing : C:/VKHCG/02-Krennwallner/02-Assess/SQLite/krennwallner.db  Table: Assess_Visitor\n"
     ]
    }
   ],
   "source": [
    "sTable='Assess_Visitor'\n",
    "print('Storing :',sDatabaseName,' Table:',sTable)\n",
    "VisitorData.to_sql(sTable, conn, if_exists=\"replace\")"
   ]
  },
  {
   "cell_type": "code",
   "execution_count": 15,
   "metadata": {},
   "outputs": [
    {
     "name": "stdout",
     "output_type": "stream",
     "text": [
      "  Country Place_Name  Latitude  Longitude  First_IP_Number  Last_IP_Number\n",
      "0      BW   Gaborone  -24.6464    25.9119      692781056.0     692781567.0\n",
      "1      BW   Gaborone  -24.6464    25.9119      692781824.0     692783103.0\n",
      "2      BW   Gaborone  -24.6464    25.9119      692909056.0     692909311.0\n",
      "3      BW   Gaborone  -24.6464    25.9119      692909568.0     692910079.0\n",
      "4      BW   Gaborone  -24.6464    25.9119      693051392.0     693052415.0\n"
     ]
    }
   ],
   "source": [
    "print(VisitorData.head())"
   ]
  },
  {
   "cell_type": "code",
   "execution_count": 16,
   "metadata": {},
   "outputs": [
    {
     "data": {
      "text/plain": [
       "(1247464, 6)"
      ]
     },
     "execution_count": 16,
     "metadata": {},
     "output_type": "execute_result"
    }
   ],
   "source": [
    "VisitorData.shape"
   ]
  },
  {
   "cell_type": "code",
   "execution_count": 17,
   "metadata": {},
   "outputs": [
    {
     "name": "stdout",
     "output_type": "stream",
     "text": [
      "Creating : C:/VKHCG/02-Krennwallner/02-Assess/SQLite/krennwallner.db  View: Assess_Visitor_UseIt\n"
     ]
    },
    {
     "data": {
      "text/plain": [
       "<sqlite3.Cursor at 0x18059c4e570>"
      ]
     },
     "execution_count": 17,
     "metadata": {},
     "output_type": "execute_result"
    }
   ],
   "source": [
    "sView='Assess_Visitor_UseIt'\n",
    "print('Creating :',sDatabaseName,' View:',sView)\n",
    "sSQL=\"DROP VIEW IF EXISTS \" + sView + \";\"\n",
    "sql.execute(sSQL,conn)"
   ]
  },
  {
   "cell_type": "code",
   "execution_count": 18,
   "metadata": {},
   "outputs": [
    {
     "data": {
      "text/plain": [
       "<sqlite3.Cursor at 0x18077cd5110>"
      ]
     },
     "execution_count": 18,
     "metadata": {},
     "output_type": "execute_result"
    }
   ],
   "source": [
    "sSQL=\"CREATE VIEW \" + sView + \" AS\"\n",
    "sSQL=sSQL+ \" SELECT\"\n",
    "sSQL=sSQL+ \" A.Country,\"\n",
    "sSQL=sSQL+ \" A.Place_Name,\"\n",
    "sSQL=sSQL+ \" A.Latitude,\"\n",
    "sSQL=sSQL+ \" A.Longitude,\"\n",
    "sSQL=sSQL+ \" (A.Last_IP_Number - A.First_IP_Number) AS UsesIt\"\n",
    "sSQL=sSQL+ \" FROM\"\n",
    "sSQL=sSQL+ \" Assess_Visitor as A\"\n",
    "sSQL=sSQL+ \" WHERE\"\n",
    "sSQL=sSQL+ \" Country is not null\"\n",
    "sSQL=sSQL+ \" AND\"\n",
    "sSQL=sSQL+ \" Place_Name is not null;\"\n",
    "sql.execute(sSQL,conn)"
   ]
  },
  {
   "cell_type": "code",
   "execution_count": 19,
   "metadata": {},
   "outputs": [
    {
     "name": "stdout",
     "output_type": "stream",
     "text": [
      "Creating : C:/VKHCG/02-Krennwallner/02-Assess/SQLite/krennwallner.db  View: Assess_Total_Visitors_Location\n"
     ]
    },
    {
     "data": {
      "text/plain": [
       "<sqlite3.Cursor at 0x18077cd52d0>"
      ]
     },
     "execution_count": 19,
     "metadata": {},
     "output_type": "execute_result"
    }
   ],
   "source": [
    "sView='Assess_Total_Visitors_Location'\n",
    "print('Creating :',sDatabaseName,' View:',sView)\n",
    "sSQL=\"DROP VIEW IF EXISTS \" + sView + \";\"\n",
    "sql.execute(sSQL,conn)"
   ]
  },
  {
   "cell_type": "code",
   "execution_count": 20,
   "metadata": {},
   "outputs": [
    {
     "data": {
      "text/plain": [
       "<sqlite3.Cursor at 0x18077cd53b0>"
      ]
     },
     "execution_count": 20,
     "metadata": {},
     "output_type": "execute_result"
    }
   ],
   "source": [
    "sSQL=\"CREATE VIEW \" + sView + \" AS\"\n",
    "sSQL=sSQL+ \" SELECT\"\n",
    "sSQL=sSQL+ \" Country,\"\n",
    "sSQL=sSQL+ \" Place_Name,\"\n",
    "sSQL=sSQL+ \" SUM(UsesIt) AS TotalUsesIt\"\n",
    "sSQL=sSQL+ \" FROM\"\n",
    "sSQL=sSQL+ \" Assess_Visitor_UseIt\"\n",
    "sSQL=sSQL+ \" GROUP BY\"\n",
    "sSQL=sSQL+ \" Country,\"\n",
    "sSQL=sSQL+ \" Place_Name\"\n",
    "sSQL=sSQL+ \" ORDER BY\"\n",
    "sSQL=sSQL+ \" TotalUsesIt DESC\"\n",
    "sSQL=sSQL+ \" LIMIT 10;\"\n",
    "sql.execute(sSQL,conn)"
   ]
  },
  {
   "cell_type": "code",
   "execution_count": 21,
   "metadata": {},
   "outputs": [
    {
     "name": "stdout",
     "output_type": "stream",
     "text": [
      "Creating : C:/VKHCG/02-Krennwallner/02-Assess/SQLite/krennwallner.db  View: Assess_Total_Visitors_GPS\n"
     ]
    },
    {
     "data": {
      "text/plain": [
       "<sqlite3.Cursor at 0x18077cd5960>"
      ]
     },
     "execution_count": 21,
     "metadata": {},
     "output_type": "execute_result"
    }
   ],
   "source": [
    "sView='Assess_Total_Visitors_GPS'\n",
    "print('Creating :',sDatabaseName,' View:',sView)\n",
    "sSQL=\"DROP VIEW IF EXISTS \" + sView + \";\"\n",
    "sql.execute(sSQL,conn)"
   ]
  },
  {
   "cell_type": "code",
   "execution_count": 22,
   "metadata": {},
   "outputs": [
    {
     "data": {
      "text/plain": [
       "<sqlite3.Cursor at 0x18077cd59d0>"
      ]
     },
     "execution_count": 22,
     "metadata": {},
     "output_type": "execute_result"
    }
   ],
   "source": [
    "sSQL=\"CREATE VIEW \" + sView + \" AS\"\n",
    "sSQL=sSQL+ \" SELECT\"\n",
    "sSQL=sSQL+ \" Latitude,\"\n",
    "sSQL=sSQL+ \" Longitude,\"\n",
    "sSQL=sSQL+ \" SUM(UsesIt) AS TotalUsesIt\"\n",
    "sSQL=sSQL+ \" FROM\"\n",
    "sSQL=sSQL+ \" Assess_Visitor_UseIt\"\n",
    "sSQL=sSQL+ \" GROUP BY\"\n",
    "sSQL=sSQL+ \" Latitude,\"\n",
    "sSQL=sSQL+ \" Longitude\"\n",
    "sSQL=sSQL+ \" ORDER BY\"\n",
    "sSQL=sSQL+ \" TotalUsesIt DESC\"\n",
    "sSQL=sSQL+ \" LIMIT 10;\"\n",
    "sql.execute(sSQL,conn)"
   ]
  },
  {
   "cell_type": "code",
   "execution_count": 23,
   "metadata": {},
   "outputs": [
    {
     "data": {
      "text/plain": [
       "['Assess_Total_Visitors_Location', 'Assess_Total_Visitors_GPS']"
      ]
     },
     "execution_count": 23,
     "metadata": {},
     "output_type": "execute_result"
    }
   ],
   "source": [
    "sTables=['Assess_Total_Visitors_Location', 'Assess_Total_Visitors_GPS']\n",
    "sTables"
   ]
  },
  {
   "cell_type": "code",
   "execution_count": 24,
   "metadata": {
    "scrolled": true
   },
   "outputs": [
    {
     "name": "stdout",
     "output_type": "stream",
     "text": [
      "################\n",
      "Loading : C:/VKHCG/02-Krennwallner/02-Assess/SQLite/krennwallner.db  Table: Assess_Total_Visitors_Location\n",
      "################\n",
      "  Country     Place_Name  TotalUsesIt\n",
      "0      CN        Beijing   53139734.0\n",
      "1      US      Palo Alto   33682341.0\n",
      "2      US  Fort Huachuca   33472427.0\n",
      "3      JP          Tokyo   31405249.0\n",
      "4      US      Cambridge   25598851.0\n",
      "5      US      San Diego   17751688.0\n",
      "6      CN      Guangzhou   17563744.0\n",
      "7      US         Newark   17270349.0\n",
      "8      US        Raleigh   17167484.0\n",
      "9      US         Durham   16914033.0\n",
      "################\n",
      "################################\n",
      "Rows :  10\n",
      "########### Done #####################\n",
      "################\n",
      "Loading : C:/VKHCG/02-Krennwallner/02-Assess/SQLite/krennwallner.db  Table: Assess_Total_Visitors_GPS\n",
      "################\n",
      "   Latitude  Longitude  TotalUsesIt\n",
      "0   39.9289   116.3883   53139991.0\n",
      "1   37.3762  -122.1826   33551404.0\n",
      "2   31.5273  -110.3607   33472427.0\n",
      "3   35.6427   139.7677   31440222.0\n",
      "4   23.1167   113.2500   17577053.0\n",
      "5   42.3646   -71.1028   16890698.0\n",
      "6   40.7355   -74.1741   16813373.0\n",
      "7   42.3223   -83.1763   16777212.0\n",
      "8   35.7977   -78.6253   16761084.0\n",
      "9   32.8072  -117.1649   16747680.0\n",
      "################\n",
      "################################\n",
      "Rows :  10\n",
      "########### Done #####################\n"
     ]
    }
   ],
   "source": [
    "for sTable in sTables:\n",
    "    print('################')  \n",
    "    print('Loading :',sDatabaseName,' Table:',sTable)\n",
    "    sSQL=\" SELECT \"\n",
    "    sSQL=sSQL+ \" *\"\n",
    "    sSQL=sSQL+ \" FROM\"\n",
    "    sSQL=sSQL+ \" \" + sTable + \";\"\n",
    "    TopData=pd.read_sql_query(sSQL, conn)\n",
    "    print('################')  \n",
    "    print(TopData)\n",
    "    print('################')  \n",
    "    print('################################')\n",
    "    print('Rows : ',TopData.shape[0])\n",
    "    print('########### Done #####################')"
   ]
  },
  {
   "cell_type": "code",
   "execution_count": null,
   "metadata": {},
   "outputs": [],
   "source": []
  }
 ],
 "metadata": {
  "kernelspec": {
   "display_name": "Python 3",
   "language": "python",
   "name": "python3"
  },
  "language_info": {
   "codemirror_mode": {
    "name": "ipython",
    "version": 3
   },
   "file_extension": ".py",
   "mimetype": "text/x-python",
   "name": "python",
   "nbconvert_exporter": "python",
   "pygments_lexer": "ipython3",
   "version": "3.7.4"
  }
 },
 "nbformat": 4,
 "nbformat_minor": 2
}
