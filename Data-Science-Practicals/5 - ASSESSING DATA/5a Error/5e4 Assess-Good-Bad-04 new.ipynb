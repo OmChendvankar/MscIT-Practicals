{
 "cells": [
  {
   "cell_type": "code",
   "execution_count": 1,
   "metadata": {},
   "outputs": [],
   "source": [
    "import sys\n",
    "import os\n",
    "import pandas as pd"
   ]
  },
  {
   "cell_type": "code",
   "execution_count": 5,
   "metadata": {},
   "outputs": [],
   "source": [
    "InputFileName='Good-or-Bad.csv'\n",
    "OutputFileName='Good-or-Bad-04.csv'\n",
    "InputFileDir ='C:/VKHCG/01-Vermeulen/02-Assess/01-EDS/02-Python'\n",
    "sOutputFileNameA='Good-or-Bad-05-A.csv'\n",
    "sOutputFileNameB='Good-or-Bad-05-B.csv'\n",
    "sOutputFileNameC='Good-or-Bad-05-C.csv'\n",
    "sOutputFileNameD='Good-or-Bad-05-D.csv'\n",
    "sOutputFileNameE='Good-or-Bad-05-E.csv'\n",
    "OutputFileDir = 'C:/VKHCG/01-Vermeulen/02-Assess/01-EDS/02-Python'"
   ]
  },
  {
   "cell_type": "code",
   "execution_count": 8,
   "metadata": {},
   "outputs": [
    {
     "name": "stdout",
     "output_type": "stream",
     "text": [
      "Loading C:/VKHCG/01-Vermeulen/02-Assess/01-EDS/02-Python/Good-or-Bad.csv\n"
     ]
    }
   ],
   "source": [
    "sInputFileName = InputFileDir + '/' + InputFileName\n",
    "print('Loading', sInputFileName)"
   ]
  },
  {
   "cell_type": "code",
   "execution_count": 13,
   "metadata": {},
   "outputs": [
    {
     "name": "stdout",
     "output_type": "stream",
     "text": [
      "      ID FieldA  FieldB FieldC  FieldD  FieldE    FieldF  FieldG\n",
      "0    1.0   Good  Better   Best  1024.0     NaN   10241.0       1\n",
      "1    2.0   Good     NaN   Best   512.0     NaN    5121.0       2\n",
      "2    3.0   Good  Better    NaN   256.0     NaN     256.0       3\n",
      "3    4.0   Good  Better   Best     NaN     NaN     211.0       4\n",
      "4    5.0   Good  Better    NaN    64.0     NaN    6411.0       5\n",
      "5    6.0   Good     NaN   Best    32.0     NaN      32.0       6\n",
      "6    7.0    NaN  Better   Best    16.0     NaN    1611.0       7\n",
      "7    8.0    NaN     NaN   Best     8.0     NaN    8111.0       8\n",
      "8    9.0    NaN     NaN    NaN     4.0     NaN      41.0       9\n",
      "9   10.0      A      B       C     2.0     NaN   21111.0      10\n",
      "10   NaN    NaN     NaN    NaN     NaN     NaN       NaN      11\n",
      "11  10.0   Good  Better   Best  1024.0     NaN  102411.0      12\n",
      "12  10.0   Good     NaN   Best   512.0     NaN     512.0      13\n",
      "13  10.0   Good  Better    NaN   256.0     NaN    1256.0      14\n",
      "14  10.0   Good  Better   Best     NaN     NaN       NaN      15\n",
      "15  10.0   Good  Better    NaN    64.0     NaN     164.0      16\n",
      "16  10.0   Good     NaN   Best    32.0     NaN     322.0      17\n",
      "17  10.0    NaN  Better   Best    16.0     NaN     163.0      18\n",
      "18  10.0    NaN     NaN   Best     8.0     NaN     844.0      19\n",
      "19  10.0    NaN     NaN    NaN     4.0     NaN    4555.0      20\n",
      "20  10.0      A      B       C     2.0     NaN     111.0      21\n"
     ]
    }
   ],
   "source": [
    "RawData=pd.read_csv(sInputFileName,header=0)\n",
    "print(RawData)"
   ]
  },
  {
   "cell_type": "code",
   "execution_count": 11,
   "metadata": {},
   "outputs": [
    {
     "data": {
      "text/plain": [
       "(21, 8)"
      ]
     },
     "execution_count": 11,
     "metadata": {},
     "output_type": "execute_result"
    }
   ],
   "source": [
    "RawData.shape"
   ]
  },
  {
   "cell_type": "code",
   "execution_count": 14,
   "metadata": {},
   "outputs": [
    {
     "name": "stdout",
     "output_type": "stream",
     "text": [
      "       ID FieldA  FieldB FieldC       FieldD  FieldE         FieldF  FieldG\n",
      "0    1.00   Good  Better   Best  1024.000000     NaN   10241.000000       1\n",
      "1    2.00   Good     NaN   Best   512.000000     NaN    5121.000000       2\n",
      "2    3.00   Good  Better    NaN   256.000000     NaN     256.000000       3\n",
      "3    4.00   Good  Better   Best   213.111111     NaN     211.000000       4\n",
      "4    5.00   Good  Better    NaN    64.000000     NaN    6411.000000       5\n",
      "5    6.00   Good     NaN   Best    32.000000     NaN      32.000000       6\n",
      "6    7.00    NaN  Better   Best    16.000000     NaN    1611.000000       7\n",
      "7    8.00    NaN     NaN   Best     8.000000     NaN    8111.000000       8\n",
      "8    9.00    NaN     NaN    NaN     4.000000     NaN      41.000000       9\n",
      "9   10.00      A      B       C     2.000000     NaN   21111.000000      10\n",
      "10   7.75    NaN     NaN    NaN   213.111111     NaN    8604.421053      11\n",
      "11  10.00   Good  Better   Best  1024.000000     NaN  102411.000000      12\n",
      "12  10.00   Good     NaN   Best   512.000000     NaN     512.000000      13\n",
      "13  10.00   Good  Better    NaN   256.000000     NaN    1256.000000      14\n",
      "14  10.00   Good  Better   Best   213.111111     NaN    8604.421053      15\n",
      "15  10.00   Good  Better    NaN    64.000000     NaN     164.000000      16\n",
      "16  10.00   Good     NaN   Best    32.000000     NaN     322.000000      17\n",
      "17  10.00    NaN  Better   Best    16.000000     NaN     163.000000      18\n",
      "18  10.00    NaN     NaN   Best     8.000000     NaN     844.000000      19\n",
      "19  10.00    NaN     NaN    NaN     4.000000     NaN    4555.000000      20\n",
      "20  10.00      A      B       C     2.000000     NaN     111.000000      21\n"
     ]
    }
   ],
   "source": [
    "# Replace with mean\n",
    "TestData=RawData.fillna(RawData.mean())\n",
    "print(TestData)"
   ]
  },
  {
   "cell_type": "code",
   "execution_count": 17,
   "metadata": {},
   "outputs": [],
   "source": [
    "sOutputFileName=OutputFileDir + '/' + sOutputFileNameA\n",
    "TestData.to_csv(sOutputFileName, index = False)"
   ]
  },
  {
   "cell_type": "code",
   "execution_count": 18,
   "metadata": {},
   "outputs": [
    {
     "name": "stdout",
     "output_type": "stream",
     "text": [
      "      ID FieldA  FieldB FieldC  FieldD  FieldE    FieldF  FieldG\n",
      "0    1.0   Good  Better   Best  1024.0     NaN   10241.0       1\n",
      "1    2.0   Good     NaN   Best   512.0     NaN    5121.0       2\n",
      "2    3.0   Good  Better    NaN   256.0     NaN     256.0       3\n",
      "3    4.0   Good  Better   Best    32.0     NaN     211.0       4\n",
      "4    5.0   Good  Better    NaN    64.0     NaN    6411.0       5\n",
      "5    6.0   Good     NaN   Best    32.0     NaN      32.0       6\n",
      "6    7.0    NaN  Better   Best    16.0     NaN    1611.0       7\n",
      "7    8.0    NaN     NaN   Best     8.0     NaN    8111.0       8\n",
      "8    9.0    NaN     NaN    NaN     4.0     NaN      41.0       9\n",
      "9   10.0      A      B       C     2.0     NaN   21111.0      10\n",
      "10  10.0    NaN     NaN    NaN    32.0     NaN     844.0      11\n",
      "11  10.0   Good  Better   Best  1024.0     NaN  102411.0      12\n",
      "12  10.0   Good     NaN   Best   512.0     NaN     512.0      13\n",
      "13  10.0   Good  Better    NaN   256.0     NaN    1256.0      14\n",
      "14  10.0   Good  Better   Best    32.0     NaN     844.0      15\n",
      "15  10.0   Good  Better    NaN    64.0     NaN     164.0      16\n",
      "16  10.0   Good     NaN   Best    32.0     NaN     322.0      17\n",
      "17  10.0    NaN  Better   Best    16.0     NaN     163.0      18\n",
      "18  10.0    NaN     NaN   Best     8.0     NaN     844.0      19\n",
      "19  10.0    NaN     NaN    NaN     4.0     NaN    4555.0      20\n",
      "20  10.0      A      B       C     2.0     NaN     111.0      21\n"
     ]
    },
    {
     "name": "stderr",
     "output_type": "stream",
     "text": [
      "c:\\users\\ngt\\appdata\\local\\programs\\python\\python37\\lib\\site-packages\\numpy\\lib\\nanfunctions.py:1112: RuntimeWarning: Mean of empty slice\n",
      "  return np.nanmean(a, axis, out=out, keepdims=keepdims)\n"
     ]
    }
   ],
   "source": [
    "# Replace with median\n",
    "TestData=RawData.fillna(RawData.median())\n",
    "print(TestData)\n",
    "sOutputFileName=OutputFileDir + '/' + sOutputFileNameB\n",
    "TestData.to_csv(sOutputFileName, index = False)"
   ]
  },
  {
   "cell_type": "code",
   "execution_count": 19,
   "metadata": {},
   "outputs": [
    {
     "name": "stdout",
     "output_type": "stream",
     "text": [
      "      ID FieldA  FieldB FieldC  FieldD  FieldE    FieldF  FieldG\n",
      "0    1.0   Good  Better   Best  1024.0     NaN   10241.0       1\n",
      "1    2.0   Good     NaN   Best   512.0     NaN    5121.0       2\n",
      "2    3.0   Good  Better    NaN   256.0     NaN     256.0       3\n",
      "3    4.0   Good  Better   Best     2.0     NaN     211.0       4\n",
      "4    5.0   Good  Better    NaN    64.0     NaN    6411.0       5\n",
      "5    6.0   Good     NaN   Best    32.0     NaN      32.0       6\n",
      "6    7.0    NaN  Better   Best    16.0     NaN    1611.0       7\n",
      "7    8.0    NaN     NaN   Best     8.0     NaN    8111.0       8\n",
      "8    9.0    NaN     NaN    NaN     4.0     NaN      41.0       9\n",
      "9   10.0      A      B       C     2.0     NaN   21111.0      10\n",
      "10   1.0    NaN     NaN    NaN     2.0     NaN      32.0      11\n",
      "11  10.0   Good  Better   Best  1024.0     NaN  102411.0      12\n",
      "12  10.0   Good     NaN   Best   512.0     NaN     512.0      13\n",
      "13  10.0   Good  Better    NaN   256.0     NaN    1256.0      14\n",
      "14  10.0   Good  Better   Best     2.0     NaN      32.0      15\n",
      "15  10.0   Good  Better    NaN    64.0     NaN     164.0      16\n",
      "16  10.0   Good     NaN   Best    32.0     NaN     322.0      17\n",
      "17  10.0    NaN  Better   Best    16.0     NaN     163.0      18\n",
      "18  10.0    NaN     NaN   Best     8.0     NaN     844.0      19\n",
      "19  10.0    NaN     NaN    NaN     4.0     NaN    4555.0      20\n",
      "20  10.0      A      B       C     2.0     NaN     111.0      21\n"
     ]
    }
   ],
   "source": [
    "# Replace with min\n",
    "TestData=RawData.fillna(RawData.min())\n",
    "print(TestData)\n",
    "sOutputFileName=OutputFileDir + '/' + sOutputFileNameC\n",
    "TestData.to_csv(sOutputFileName, index = False)"
   ]
  },
  {
   "cell_type": "code",
   "execution_count": 20,
   "metadata": {},
   "outputs": [
    {
     "name": "stdout",
     "output_type": "stream",
     "text": [
      "      ID FieldA  FieldB FieldC  FieldD  FieldE    FieldF  FieldG\n",
      "0    1.0   Good  Better   Best  1024.0     NaN   10241.0       1\n",
      "1    2.0   Good     NaN   Best   512.0     NaN    5121.0       2\n",
      "2    3.0   Good  Better    NaN   256.0     NaN     256.0       3\n",
      "3    4.0   Good  Better   Best  1024.0     NaN     211.0       4\n",
      "4    5.0   Good  Better    NaN    64.0     NaN    6411.0       5\n",
      "5    6.0   Good     NaN   Best    32.0     NaN      32.0       6\n",
      "6    7.0    NaN  Better   Best    16.0     NaN    1611.0       7\n",
      "7    8.0    NaN     NaN   Best     8.0     NaN    8111.0       8\n",
      "8    9.0    NaN     NaN    NaN     4.0     NaN      41.0       9\n",
      "9   10.0      A      B       C     2.0     NaN   21111.0      10\n",
      "10  10.0    NaN     NaN    NaN  1024.0     NaN  102411.0      11\n",
      "11  10.0   Good  Better   Best  1024.0     NaN  102411.0      12\n",
      "12  10.0   Good     NaN   Best   512.0     NaN     512.0      13\n",
      "13  10.0   Good  Better    NaN   256.0     NaN    1256.0      14\n",
      "14  10.0   Good  Better   Best  1024.0     NaN  102411.0      15\n",
      "15  10.0   Good  Better    NaN    64.0     NaN     164.0      16\n",
      "16  10.0   Good     NaN   Best    32.0     NaN     322.0      17\n",
      "17  10.0    NaN  Better   Best    16.0     NaN     163.0      18\n",
      "18  10.0    NaN     NaN   Best     8.0     NaN     844.0      19\n",
      "19  10.0    NaN     NaN    NaN     4.0     NaN    4555.0      20\n",
      "20  10.0      A      B       C     2.0     NaN     111.0      21\n"
     ]
    }
   ],
   "source": [
    "# Replace with max\n",
    "TestData=RawData.fillna(RawData.max())\n",
    "print(TestData)\n",
    "sOutputFileName=OutputFileDir + '/' + sOutputFileNameD\n",
    "TestData.to_csv(sOutputFileName, index = False)"
   ]
  },
  {
   "cell_type": "code",
   "execution_count": null,
   "metadata": {},
   "outputs": [],
   "source": []
  }
 ],
 "metadata": {
  "kernelspec": {
   "display_name": "Python 3",
   "language": "python",
   "name": "python3"
  },
  "language_info": {
   "codemirror_mode": {
    "name": "ipython",
    "version": 3
   },
   "file_extension": ".py",
   "mimetype": "text/x-python",
   "name": "python",
   "nbconvert_exporter": "python",
   "pygments_lexer": "ipython3",
   "version": "3.7.4"
  }
 },
 "nbformat": 4,
 "nbformat_minor": 2
}
