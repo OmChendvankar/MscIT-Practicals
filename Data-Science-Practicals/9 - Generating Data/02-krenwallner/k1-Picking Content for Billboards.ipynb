{
 "cells": [
  {
   "cell_type": "code",
   "execution_count": 12,
   "metadata": {},
   "outputs": [
    {
     "name": "stdout",
     "output_type": "stream",
     "text": [
      "Requirement already satisfied: folium in c:\\programdata\\anaconda3\\lib\\site-packages (0.14.0)\n",
      "Requirement already satisfied: numpy in c:\\programdata\\anaconda3\\lib\\site-packages (from folium) (1.16.4)\n",
      "Requirement already satisfied: branca>=0.6.0 in c:\\programdata\\anaconda3\\lib\\site-packages (from folium) (0.6.0)\n",
      "Requirement already satisfied: requests in c:\\programdata\\anaconda3\\lib\\site-packages (from folium) (2.22.0)\n",
      "Requirement already satisfied: jinja2>=2.9 in c:\\programdata\\anaconda3\\lib\\site-packages (from folium) (2.10.1)\n",
      "Requirement already satisfied: urllib3!=1.25.0,!=1.25.1,<1.26,>=1.21.1 in c:\\programdata\\anaconda3\\lib\\site-packages (from requests->folium) (1.24.2)\n",
      "Requirement already satisfied: chardet<3.1.0,>=3.0.2 in c:\\programdata\\anaconda3\\lib\\site-packages (from requests->folium) (3.0.4)\n",
      "Requirement already satisfied: idna<2.9,>=2.5 in c:\\programdata\\anaconda3\\lib\\site-packages (from requests->folium) (2.8)\n",
      "Requirement already satisfied: certifi>=2017.4.17 in c:\\programdata\\anaconda3\\lib\\site-packages (from requests->folium) (2019.6.16)\n",
      "Requirement already satisfied: MarkupSafe>=0.23 in c:\\programdata\\anaconda3\\lib\\site-packages (from jinja2>=2.9->folium) (1.1.1)\n",
      "Note: you may need to restart the kernel to use updated packages.\n"
     ]
    }
   ],
   "source": [
    "%pip install folium"
   ]
  },
  {
   "cell_type": "code",
   "execution_count": 13,
   "metadata": {},
   "outputs": [
    {
     "name": "stdout",
     "output_type": "stream",
     "text": [
      "(8873, 4)\n"
     ]
    },
    {
     "data": {
      "text/html": [
       "<div>\n",
       "<style scoped>\n",
       "    .dataframe tbody tr th:only-of-type {\n",
       "        vertical-align: middle;\n",
       "    }\n",
       "\n",
       "    .dataframe tbody tr th {\n",
       "        vertical-align: top;\n",
       "    }\n",
       "\n",
       "    .dataframe thead th {\n",
       "        text-align: right;\n",
       "    }\n",
       "</style>\n",
       "<table border=\"1\" class=\"dataframe\">\n",
       "  <thead>\n",
       "    <tr style=\"text-align: right;\">\n",
       "      <th></th>\n",
       "      <th>Country</th>\n",
       "      <th>Place_Name</th>\n",
       "      <th>Latitude</th>\n",
       "      <th>Longitude</th>\n",
       "    </tr>\n",
       "  </thead>\n",
       "  <tbody>\n",
       "    <tr>\n",
       "      <th>0</th>\n",
       "      <td>DE</td>\n",
       "      <td>Lake</td>\n",
       "      <td>51.7833</td>\n",
       "      <td>8.5667</td>\n",
       "    </tr>\n",
       "    <tr>\n",
       "      <th>1</th>\n",
       "      <td>DE</td>\n",
       "      <td>Horb</td>\n",
       "      <td>48.4333</td>\n",
       "      <td>8.6833</td>\n",
       "    </tr>\n",
       "    <tr>\n",
       "      <th>2</th>\n",
       "      <td>DE</td>\n",
       "      <td>Hardenberg</td>\n",
       "      <td>51.1000</td>\n",
       "      <td>7.7333</td>\n",
       "    </tr>\n",
       "    <tr>\n",
       "      <th>3</th>\n",
       "      <td>DE</td>\n",
       "      <td>Horn-bad Meinberg</td>\n",
       "      <td>51.9833</td>\n",
       "      <td>8.9667</td>\n",
       "    </tr>\n",
       "    <tr>\n",
       "      <th>4</th>\n",
       "      <td>DE</td>\n",
       "      <td>Winkel</td>\n",
       "      <td>51.5500</td>\n",
       "      <td>13.3833</td>\n",
       "    </tr>\n",
       "  </tbody>\n",
       "</table>\n",
       "</div>"
      ],
      "text/plain": [
       "  Country         Place_Name  Latitude  Longitude\n",
       "0      DE               Lake   51.7833     8.5667\n",
       "1      DE               Horb   48.4333     8.6833\n",
       "2      DE         Hardenberg   51.1000     7.7333\n",
       "3      DE  Horn-bad Meinberg   51.9833     8.9667\n",
       "4      DE             Winkel   51.5500    13.3833"
      ]
     },
     "execution_count": 13,
     "metadata": {},
     "output_type": "execute_result"
    }
   ],
   "source": [
    "import sys \n",
    "import os\n",
    "import pandas as pd\n",
    "from folium.plugins import FastMarkerCluster, HeatMap \n",
    "from folium import Marker, Map\n",
    "import webbrowser \n",
    "\n",
    "sFileName='C:/VKHCG/02-Krennwallner/01-Retrieve/01-EDS/02-Python/Retrieve_DE_Billboard_Locations.csv' \n",
    "df = pd.read_csv(sFileName,header=0,low_memory=False, encoding=\"latin-1\")\n",
    "df.fillna(value=0, inplace=True) \n",
    "print(df.shape)\n",
    "df.head()"
   ]
  },
  {
   "cell_type": "code",
   "execution_count": 14,
   "metadata": {},
   "outputs": [
    {
     "name": "stdout",
     "output_type": "stream",
     "text": [
      "### Done!! ############################################\n"
     ]
    }
   ],
   "source": [
    "################################################################\n",
    "t=0\n",
    "for i in range(df.shape[0]): \n",
    "    try:\n",
    "        sLongitude=df[\"Longitude\"][i] \n",
    "        sLongitude=float(sLongitude)\n",
    "    except Exception: \n",
    "        sLongitude=float(0.0)\n",
    "    try:\n",
    "        sLatitude=df[\"Latitude\"][i] \n",
    "        sLatitude=float(sLatitude)\n",
    "    except Exception: \n",
    "        sLatitude=float(0.0)\n",
    "    try:\n",
    "        sDescription=df[\"Place_Name\"][i] + ' (' + df[\"Country\"][i]+')'\n",
    "    except Exception: \n",
    "        sDescription='VKHCG'\n",
    "    if sLongitude != 0.0 and sLatitude != 0.0: \n",
    "        DataClusterList=list([sLatitude, sLongitude]) \n",
    "        DataPointList=list([sLatitude, sLongitude, sDescription]) \n",
    "        t+=1\n",
    "        if t==1:\n",
    "            DataCluster=[DataClusterList] \n",
    "            DataPoint=[DataPointList]\n",
    "        else:\n",
    "            DataCluster.append(DataClusterList) \n",
    "            DataPoint.append(DataPointList)\n",
    "data=DataCluster \n",
    "pins=pd.DataFrame(DataPoint)\n",
    "pins.columns = [ 'Latitude','Longitude','Description'] \n",
    "################################################################\n",
    "stops_map1 = Map(location=[48.1459806, 11.4985484], zoom_start=5) \n",
    "marker_cluster = FastMarkerCluster(data).add_to(stops_map1)\n",
    "sFileNameHtml='C:/VKHCG/02-Krennwallner/06-Report/01-EDS/02-Python/Billboard1.html' \n",
    "stops_map1.save(sFileNameHtml)\n",
    "webbrowser.open('file://' + os.path.realpath(sFileNameHtml)) \n",
    "################################################################\n",
    "stops_map2 = Map(location=[48.1459806, 11.4985484], zoom_start=5) \n",
    "for name, row in pins.iloc[:100].iterrows():\n",
    "    Marker([row[\"Latitude\"],row[\"Longitude\"]], popup=row[\"Description\"]).add_to(stops_map2) \n",
    "sFileNameHtml='C:/VKHCG/02-Krennwallner/06-Report/01-EDS/02-Python/Billboard2.html' \n",
    "stops_map2.save(sFileNameHtml)\n",
    "webbrowser.open('file://' + os.path.realpath(sFileNameHtml)) \n",
    "################################################################\n",
    "stops_heatmap = Map(location=[48.1459806, 11.4985484], zoom_start=5) \n",
    "stops_heatmap.add_child(HeatMap([[row[\"Latitude\"], row[\"Longitude\"]] for name, row in pins.iloc[:100].iterrows()]))\n",
    "sFileNameHtml='C:/VKHCG/02-Krennwallner/06-Report/01-EDS/02-Python/Billboard_heatmap.html' \n",
    "stops_heatmap.save(sFileNameHtml)\n",
    "webbrowser.open('file://' + os.path.realpath(sFileNameHtml)) \n",
    "################################################################ \n",
    "print('### Done!! ############################################') \n",
    "################################################################\n",
    "\n"
   ]
  },
  {
   "cell_type": "code",
   "execution_count": null,
   "metadata": {},
   "outputs": [],
   "source": []
  }
 ],
 "metadata": {
  "kernelspec": {
   "display_name": "Python 3",
   "language": "python",
   "name": "python3"
  },
  "language_info": {
   "codemirror_mode": {
    "name": "ipython",
    "version": 3
   },
   "file_extension": ".py",
   "mimetype": "text/x-python",
   "name": "python",
   "nbconvert_exporter": "python",
   "pygments_lexer": "ipython3",
   "version": "3.7.3"
  }
 },
 "nbformat": 4,
 "nbformat_minor": 2
}
