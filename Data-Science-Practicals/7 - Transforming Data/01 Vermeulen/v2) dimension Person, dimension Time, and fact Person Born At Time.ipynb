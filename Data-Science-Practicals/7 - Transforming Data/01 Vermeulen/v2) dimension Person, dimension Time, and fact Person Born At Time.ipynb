{
 "cells": [
  {
   "cell_type": "code",
   "execution_count": 4,
   "metadata": {},
   "outputs": [],
   "source": [
    "# AIM: 7 - ASSESS DATA\n",
    "# 01-Vermeulen - v2)dimension Person, dimension Time, and factPersonBornAtTime\n",
    "# MSCIT PART 1 - SEM 1 \n",
    "# ROHAN PALKAR - 05-DEC-2022\n",
    "# UNIVERSITY DEPARTMENT OF INFORMATION TECHNOLOGY"
   ]
  },
  {
   "cell_type": "code",
   "execution_count": 5,
   "metadata": {},
   "outputs": [],
   "source": [
    "import sys \n",
    "import os\n",
    "from datetime import datetime \n",
    "from pytz import timezone \n",
    "import pandas as pd\n",
    "import sqlite3 as sq \n",
    "import uuid\n",
    "pd.options.mode.chained_assignment = None \n",
    "################################################################\n",
    "if sys.platform == 'linux': \n",
    "    Base=os.path.expanduser('~') + '/VKHCG'\n",
    "else:\n",
    "    sDataBaseDir='C:/VKHCG/01-Vermeulen/04-Transform/SQLite' \n",
    "if not os.path.exists(sDataBaseDir):\n",
    "    os.makedirs(sDataBaseDir) \n",
    "################################################################\n",
    "sDatabaseName=sDataBaseDir + '/Vermeulen.db' \n",
    "conn1 = sq.connect(sDatabaseName)\n",
    "################################################################\n"
   ]
  },
  {
   "cell_type": "code",
   "execution_count": 6,
   "metadata": {},
   "outputs": [
    {
     "name": "stdout",
     "output_type": "stream",
     "text": [
      "\n",
      "#################################\n",
      "Time Dimension\n",
      "\n",
      "#################################\n",
      "Storing : C:/VKHCG/99-DW/datawarehouse.db \n",
      " Table: Dim-Time\n",
      "\n",
      "#################################\n",
      "\n",
      "#################################\n",
      "Dimension Person\n",
      "\n",
      "#################################\n"
     ]
    },
    {
     "name": "stderr",
     "output_type": "stream",
     "text": [
      "C:\\ProgramData\\Anaconda3\\lib\\site-packages\\ipykernel_launcher.py:24: FutureWarning: from_items is deprecated. Please use DataFrame.from_dict(dict(items), ...) instead. DataFrame.from_dict(OrderedDict(items)) may be used to preserve the key order.\n",
      "C:\\ProgramData\\Anaconda3\\lib\\site-packages\\ipykernel_launcher.py:48: FutureWarning: from_items is deprecated. Please use DataFrame.from_dict(dict(items), ...) instead. DataFrame.from_dict(OrderedDict(items)) may be used to preserve the key order.\n"
     ]
    }
   ],
   "source": [
    "sDataWarehousetDir='C:/VKHCG/99-DW'\n",
    "if not os.path.exists(sDataWarehousetDir): \n",
    "    os.makedirs(sDataWarehousetDir)\n",
    "################################################################\n",
    "sDatabaseName=sDataWarehousetDir + '/datawarehouse.db' \n",
    "conn2 = sq.connect(sDatabaseName)\n",
    "################################################################ \n",
    "print('\\n#################################')\n",
    "print('Time Dimension') \n",
    "BirthZone = 'Atlantic/Reykjavik'\n",
    "BirthDateUTC = datetime(1960,12,20,10,15,0) \n",
    "BirthDateZoneUTC=BirthDateUTC.replace(tzinfo=timezone('UTC')) \n",
    "BirthDateZoneStr=BirthDateZoneUTC.strftime(\"%Y-%m-%d %H:%M:%S\") \n",
    "BirthDateZoneUTCStr=BirthDateZoneUTC.strftime(\"%Y-%m-%d %H:%M:%S (%Z) (%z)\") \n",
    "BirthDate = BirthDateZoneUTC.astimezone(timezone(BirthZone)) \n",
    "BirthDateStr=BirthDate.strftime(\"%Y-%m-%d %H:%M:%S (%Z) (%z)\") \n",
    "BirthDateLocal=BirthDate.strftime(\"%Y-%m-%d %H:%M:%S\") \n",
    "################################################################\n",
    "IDTimeNumber=str(uuid.uuid4()) \n",
    "TimeLine=[('TimeID', [IDTimeNumber]),\n",
    "    ('UTCDate', [BirthDateZoneStr]), \n",
    "          ('LocalTime', [BirthDateLocal]), \n",
    "          ('TimeZone', [BirthZone])]\n",
    "TimeFrame = pd.DataFrame.from_items(TimeLine) \n",
    "################################################################\n",
    "DimTime=TimeFrame \n",
    "DimTimeIndex=DimTime.set_index(['TimeID'],inplace=False) \n",
    "################################################################\n",
    "sTable = 'Dim-Time' \n",
    "print('\\n#################################')\n",
    "print('Storing :',sDatabaseName,'\\n Table:',sTable) \n",
    "print('\\n#################################')\n",
    "DimTimeIndex.to_sql(sTable, conn1, if_exists=\"replace\") \n",
    "DimTimeIndex.to_sql(sTable, conn2, if_exists=\"replace\") \n",
    "################################################################ \n",
    "print('\\n#################################')\n",
    "print('Dimension Person') \n",
    "print('\\n#################################')\n",
    "FirstName = 'Guðmundur' \n",
    "LastName = 'Gunnarsson'\n",
    "###############################################################\n",
    "IDPersonNumber=str(uuid.uuid4()) \n",
    "PersonLine=[('PersonID', [IDPersonNumber]),\n",
    "    ('FirstName', [FirstName]),\n",
    "    ('LastName', [LastName]),\n",
    "    ('Zone', ['UTC']),\n",
    "    ('DateTimeValue', [BirthDateZoneStr])]\n",
    "PersonFrame = pd.DataFrame.from_items(PersonLine)\n"
   ]
  },
  {
   "cell_type": "code",
   "execution_count": 7,
   "metadata": {},
   "outputs": [
    {
     "name": "stdout",
     "output_type": "stream",
     "text": [
      "\n",
      "#################################\n",
      "Storing : C:/VKHCG/99-DW/datawarehouse.db \n",
      " Table: Dim-Person\n",
      "\n",
      "#################################\n",
      "\n",
      "#################################\n",
      "Fact - Person - time\n",
      "\n",
      "#################################\n",
      "\n",
      "#################################\n",
      "Storing : C:/VKHCG/99-DW/datawarehouse.db \n",
      " Table: Fact-Person-Time\n",
      "\n",
      "#################################\n"
     ]
    },
    {
     "name": "stderr",
     "output_type": "stream",
     "text": [
      "C:\\ProgramData\\Anaconda3\\lib\\site-packages\\ipykernel_launcher.py:19: FutureWarning: from_items is deprecated. Please use DataFrame.from_dict(dict(items), ...) instead. DataFrame.from_dict(OrderedDict(items)) may be used to preserve the key order.\n"
     ]
    }
   ],
   "source": [
    "################################################################\n",
    "DimPerson=PersonFrame \n",
    "DimPersonIndex=DimPerson.set_index(['PersonID'],inplace=False) \n",
    "################################################################\n",
    "sTable = 'Dim-Person' \n",
    "print('\\n#################################')\n",
    "print('Storing :',sDatabaseName,'\\n Table:',sTable) \n",
    "print('\\n#################################')\n",
    "DimPersonIndex.to_sql(sTable, conn1, if_exists=\"replace\") \n",
    "DimPersonIndex.to_sql(sTable, conn2, if_exists=\"replace\") \n",
    "################################################################ \n",
    "print('\\n#################################')\n",
    "print('Fact - Person - time') \n",
    "print('\\n#################################')\n",
    "IDFactNumber=str(uuid.uuid4())\n",
    "PersonTimeLine=[('IDNumber', [IDFactNumber]),\n",
    "    ('IDPersonNumber', [IDPersonNumber]), \n",
    "    ('IDTimeNumber', [IDTimeNumber])]\n",
    "PersonTimeFrame = pd.DataFrame.from_items(PersonTimeLine) \n",
    "################################################################\n",
    "FctPersonTime=PersonTimeFrame \n",
    "FctPersonTimeIndex=FctPersonTime.set_index(['IDNumber'],inplace=False) \n",
    "################################################################\n",
    "sTable = 'Fact-Person-Time' \n",
    "print('\\n#################################')\n",
    "print('Storing :',sDatabaseName,'\\n Table:',sTable) \n",
    "print('\\n#################################')\n",
    "FctPersonTimeIndex.to_sql(sTable, conn1, if_exists=\"replace\") \n",
    "FctPersonTimeIndex.to_sql(sTable, conn2, if_exists=\"replace\") \n",
    "################################################################\n"
   ]
  },
  {
   "cell_type": "code",
   "execution_count": null,
   "metadata": {},
   "outputs": [],
   "source": []
  }
 ],
 "metadata": {
  "kernelspec": {
   "display_name": "Python 3",
   "language": "python",
   "name": "python3"
  },
  "language_info": {
   "codemirror_mode": {
    "name": "ipython",
    "version": 3
   },
   "file_extension": ".py",
   "mimetype": "text/x-python",
   "name": "python",
   "nbconvert_exporter": "python",
   "pygments_lexer": "ipython3",
   "version": "3.7.3"
  }
 },
 "nbformat": 4,
 "nbformat_minor": 2
}
