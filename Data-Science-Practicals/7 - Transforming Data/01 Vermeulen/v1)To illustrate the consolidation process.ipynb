{
 "cells": [
  {
   "cell_type": "code",
   "execution_count": 10,
   "metadata": {},
   "outputs": [],
   "source": [
    "# AIM: 7 - ASSESS DATA\n",
    "# 01-Vermeulen - v1)To illustrate the consolidation process\n",
    "# MSCIT PART 1 - SEM 1 \n",
    "# ROHAN PALKAR - 05-DEC-2022\n",
    "# UNIVERSITY DEPARTMENT OF INFORMATION TECHNOLOGY"
   ]
  },
  {
   "cell_type": "code",
   "execution_count": 11,
   "metadata": {},
   "outputs": [],
   "source": [
    "import sys \n",
    "import os\n",
    "from datetime import datetime \n",
    "from pytz import timezone \n",
    "import pandas as pd\n",
    "import sqlite3 as sq \n",
    "import uuid"
   ]
  },
  {
   "cell_type": "code",
   "execution_count": 12,
   "metadata": {},
   "outputs": [],
   "source": [
    "pd.options.mode.chained_assignment = None \n",
    "################################################################ \n",
    "InputFileName='C:/VKHCG/01-Vermeulen/00-RawData/VehicleData.csv'\n",
    "################################################################\n",
    "sDataBaseDir='C:/VKHCG/01-Vermeulen/04-Transform/SQLite' \n",
    "if not os.path.exists(sDataBaseDir):\n",
    "    os.makedirs(sDataBaseDir) \n",
    "################################################################\n",
    "sDatabaseName=sDataBaseDir + '/Vermeulen.db' \n",
    "conn1 = sq.connect(sDatabaseName)\n",
    "################################################################\n",
    "sDataVaultDir='C:/VKHCG/88-DV'\n",
    "if not os.path.exists(sDataVaultDir): \n",
    "    os.makedirs(sDataVaultDir)\n",
    "################################################################\n",
    "sDatabaseName=sDataVaultDir + '/datavault.db' \n",
    "conn2 = sq.connect(sDatabaseName)"
   ]
  },
  {
   "cell_type": "code",
   "execution_count": 13,
   "metadata": {},
   "outputs": [
    {
     "name": "stdout",
     "output_type": "stream",
     "text": [
      "\n",
      "#################################\n",
      "Time Category\n",
      "UTC Time\n",
      "1960-12-20 10:15:00 (UTC) (+0000)\n",
      "#################################\n",
      "Birth Date in Reykjavik :\n",
      "1960-12-20 09:15:00 (-01) (-0100)\n",
      "#################################\n"
     ]
    }
   ],
   "source": [
    "sDataWarehouseDir='C:/VKHCG/99-DW'\n",
    "if not os.path.exists(sDataWarehouseDir): \n",
    "    os.makedirs(sDataWarehouseDir)\n",
    "################################################################\n",
    "sDatabaseName=sDataWarehouseDir + '/datawarehouse.db' \n",
    "conn3 = sq.connect(sDatabaseName)\n",
    "################################################################ \n",
    "print('\\n#################################')\n",
    "print('Time Category') \n",
    "print('UTC Time')\n",
    "BirthDateUTC = datetime(1960,12,20,10,15,0) \n",
    "BirthDateZoneUTC=BirthDateUTC.replace(tzinfo=timezone('UTC')) \n",
    "BirthDateZoneStr=BirthDateZoneUTC.strftime(\"%Y-%m-%d %H:%M:%S\") \n",
    "BirthDateZoneUTCStr=BirthDateZoneUTC.strftime(\"%Y-%m-%d %H:%M:%S (%Z) (%z)\") \n",
    "print(BirthDateZoneUTCStr)\n",
    "print('#################################')\n",
    "print('Birth Date in Reykjavik :') \n",
    "BirthZone = 'Atlantic/Reykjavik'\n",
    "BirthDate = BirthDateZoneUTC.astimezone(timezone(BirthZone)) \n",
    "BirthDateStr=BirthDate.strftime(\"%Y-%m-%d %H:%M:%S (%Z) (%z)\") \n",
    "BirthDateLocal=BirthDate.strftime(\"%Y-%m-%d %H:%M:%S\") \n",
    "print(BirthDateStr)\n",
    "print('#################################') "
   ]
  },
  {
   "cell_type": "code",
   "execution_count": 14,
   "metadata": {},
   "outputs": [
    {
     "name": "stdout",
     "output_type": "stream",
     "text": [
      "\n",
      "#################################\n",
      "Storing : C:/VKHCG/99-DW/datawarehouse.db \n",
      " Table: Hub-Time-Gunnarsson\n",
      "\n",
      "#################################\n"
     ]
    },
    {
     "name": "stderr",
     "output_type": "stream",
     "text": [
      "C:\\ProgramData\\Anaconda3\\lib\\site-packages\\ipykernel_launcher.py:10: FutureWarning: from_items is deprecated. Please use DataFrame.from_dict(dict(items), ...) instead. DataFrame.from_dict(OrderedDict(items)) may be used to preserve the key order.\n",
      "  # Remove the CWD from sys.path while we load stuff.\n"
     ]
    }
   ],
   "source": [
    "################################################################\n",
    "IDZoneNumber=str(uuid.uuid4()) \n",
    "sDateTimeKey=BirthDateZoneStr.replace(' ','-').replace(':','-') \n",
    "TimeLine=[('ZoneBaseKey', ['UTC']),\n",
    "    ('IDNumber', [IDZoneNumber]), \n",
    "    ('DateTimeKey', [sDateTimeKey]), \n",
    "    ('UTCDateTimeValue', [BirthDateZoneUTC]), \n",
    "    ('Zone', [BirthZone]),\n",
    "    ('DateTimeValue', [BirthDateStr])] \n",
    "TimeFrame = pd.DataFrame.from_items(TimeLine)\n",
    "################################################################\n",
    "TimeHub=TimeFrame[['IDNumber','ZoneBaseKey','DateTimeKey','DateTimeValue']] \n",
    "TimeHubIndex=TimeHub.set_index(['IDNumber'],inplace=False) \n",
    "################################################################\n",
    "sTable = 'Hub-Time-Gunnarsson' \n",
    "print('\\n#################################')\n",
    "print('Storing :',sDatabaseName,'\\n Table:',sTable) \n",
    "print('\\n#################################')"
   ]
  },
  {
   "cell_type": "code",
   "execution_count": 15,
   "metadata": {},
   "outputs": [],
   "source": [
    "TimeHubIndex.to_sql(sTable, conn2, if_exists=\"replace\") \n",
    "sTable = 'Dim-Time-Gunnarsson' "
   ]
  },
  {
   "cell_type": "code",
   "execution_count": 16,
   "metadata": {},
   "outputs": [],
   "source": [
    "TimeHubIndex.to_sql(sTable, conn3, if_exists=\"replace\")"
   ]
  },
  {
   "cell_type": "code",
   "execution_count": 17,
   "metadata": {},
   "outputs": [
    {
     "name": "stdout",
     "output_type": "stream",
     "text": [
      "\n",
      "#################################\n",
      "Storing : C:/VKHCG/99-DW/datawarehouse.db \n",
      " Table: Satellite-Time-Atlantic-Reykjavik-Gunnarsson\n"
     ]
    }
   ],
   "source": [
    "################################################################\n",
    "TimeSatellite=TimeFrame[['IDNumber','DateTimeKey','Zone','DateTimeValue']] \n",
    "TimeSatelliteIndex=TimeSatellite.set_index(['IDNumber'],inplace=False) \n",
    "################################################################\n",
    "BirthZoneFix=BirthZone.replace(' ','-').replace('/','-') \n",
    "sTable = 'Satellite-Time-' + BirthZoneFix + '-Gunnarsson' \n",
    "print('\\n#################################')\n",
    "print('Storing :',sDatabaseName,'\\n Table:',sTable)"
   ]
  },
  {
   "cell_type": "code",
   "execution_count": 18,
   "metadata": {},
   "outputs": [
    {
     "name": "stdout",
     "output_type": "stream",
     "text": [
      "\n",
      "#################################\n",
      "\n",
      "#################################\n",
      "Person Category\n",
      "Name: Guðmundur Gunnarsson\n",
      "Birth Date: 1960-12-20 09:15:00\n",
      "Birth Zone: Atlantic/Reykjavik\n",
      "UTC Birth Date: 1960-12-20 10:15:00\n",
      "#################################\n",
      "\n",
      "#################################\n",
      "Storing : C:/VKHCG/99-DW/datawarehouse.db \n",
      " Table: Hub-Person-Gunnarsson\n",
      "\n",
      "#################################\n"
     ]
    },
    {
     "name": "stderr",
     "output_type": "stream",
     "text": [
      "C:\\ProgramData\\Anaconda3\\lib\\site-packages\\ipykernel_launcher.py:22: FutureWarning: from_items is deprecated. Please use DataFrame.from_dict(dict(items), ...) instead. DataFrame.from_dict(OrderedDict(items)) may be used to preserve the key order.\n"
     ]
    }
   ],
   "source": [
    "print('\\n#################################')\n",
    "TimeSatelliteIndex.to_sql(sTable, conn2, if_exists=\"replace\") \n",
    "sTable = 'Dim-Time-' + BirthZoneFix + '-Gunnarsson' \n",
    "TimeSatelliteIndex.to_sql(sTable, conn3, if_exists=\"replace\")\n",
    "################################################################\n",
    "print('\\n#################################')\n",
    "print('Person Category') \n",
    "FirstName = 'Guðmundur' \n",
    "LastName = 'Gunnarsson'\n",
    "print('Name:',FirstName,LastName) \n",
    "print('Birth Date:',BirthDateLocal) \n",
    "print('Birth Zone:',BirthZone)\n",
    "print('UTC Birth Date:',BirthDateZoneStr) \n",
    "print('#################################') \n",
    "###############################################################\n",
    "IDPersonNumber=str(uuid.uuid4()) \n",
    "PersonLine=[('IDNumber', [IDPersonNumber]),\n",
    "    ('FirstName', [FirstName]),\n",
    "    ('LastName', [LastName]),\n",
    "    ('Zone', ['UTC']),\n",
    "    ('DateTimeValue', [BirthDateZoneStr])] \n",
    "PersonFrame = pd.DataFrame.from_items(PersonLine)\n",
    "################################################################\n",
    "TimeHub=PersonFrame \n",
    "TimeHubIndex=TimeHub.set_index(['IDNumber'],inplace=False) \n",
    "################################################################\n",
    "sTable = 'Hub-Person-Gunnarsson' \n",
    "print('\\n#################################')\n",
    "print('Storing :',sDatabaseName,'\\n Table:',sTable) \n",
    "print('\\n#################################')\n",
    "TimeHubIndex.to_sql(sTable, conn2, if_exists=\"replace\") \n",
    "sTable = 'Dim-Person-Gunnarsson' \n",
    "TimeHubIndex.to_sql(sTable, conn3, if_exists=\"replace\")\n",
    "################################################################\n"
   ]
  },
  {
   "cell_type": "code",
   "execution_count": null,
   "metadata": {},
   "outputs": [],
   "source": []
  }
 ],
 "metadata": {
  "kernelspec": {
   "display_name": "Python 3",
   "language": "python",
   "name": "python3"
  },
  "language_info": {
   "codemirror_mode": {
    "name": "ipython",
    "version": 3
   },
   "file_extension": ".py",
   "mimetype": "text/x-python",
   "name": "python",
   "nbconvert_exporter": "python",
   "pygments_lexer": "ipython3",
   "version": "3.7.3"
  }
 },
 "nbformat": 4,
 "nbformat_minor": 2
}
