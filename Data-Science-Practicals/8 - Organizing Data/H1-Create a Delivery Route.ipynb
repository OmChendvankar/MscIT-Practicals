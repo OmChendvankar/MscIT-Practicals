{
 "cells": [
  {
   "cell_type": "code",
   "execution_count": 10,
   "metadata": {},
   "outputs": [
    {
     "name": "stdout",
     "output_type": "stream",
     "text": [
      "################################\n",
      "Loading : C:/VKHCG/03-Hillman/02-Assess/01-EDS/02-Python/Assess_Shipping_Routes.txt\n",
      "################################\n",
      "################################\n"
     ]
    }
   ],
   "source": [
    "import sys \n",
    "import os\n",
    "import pandas as pd\n",
    "\n",
    "################################################################\n",
    "sInputFileName='C:/VKHCG/03-Hillman/02-Assess/01-EDS/02-Python/Assess_Shipping_Routes.txt' \n",
    "sOutputFileName='C:/VKHCG/03-Hillman/05-Organise/01-EDS/02-Python/Organise-Routes.csv' \n",
    "\n",
    "### Import Routes Data ################################################################\n",
    "sFileName=sInputFileName \n",
    "print('################################')\n",
    "print('Loading :',sFileName) \n",
    "print('################################')\n",
    "RouteDataRaw=pd.read_csv(sFileName,header=0,low_memory=False, sep='|', encoding=\"latin-1\") \n",
    "print('################################')"
   ]
  },
  {
   "cell_type": "code",
   "execution_count": 11,
   "metadata": {},
   "outputs": [
    {
     "name": "stdout",
     "output_type": "stream",
     "text": [
      "################################\n",
      "Maximum (£) per day:\n",
      "21.82\n",
      "################################\n"
     ]
    }
   ],
   "source": [
    "RouteStart=RouteDataRaw[RouteDataRaw['StartAt']=='WH-KA13'] \n",
    "RouteDistance=RouteStart[RouteStart['Cost']=='DistanceMiles'] \n",
    "RouteDistance=RouteDistance.sort_values(by=['Measure'], ascending=False) \n",
    "################################################################\n",
    "RouteMax=RouteStart[\"Measure\"].max() \n",
    "RouteMaxCost=round((((RouteMax/1000)*1.5*2)),2) \n",
    "print('################################')\n",
    "print('Maximum (£) per day:') \n",
    "print(RouteMaxCost) \n",
    "print('################################')\n",
    "################################################################"
   ]
  },
  {
   "cell_type": "code",
   "execution_count": 12,
   "metadata": {},
   "outputs": [
    {
     "name": "stdout",
     "output_type": "stream",
     "text": [
      "################################\n",
      "Mean per Month (Miles):\n",
      "21.56191\n",
      "################################\n"
     ]
    }
   ],
   "source": [
    "RouteMean=RouteStart[\"Measure\"].mean() \n",
    "RouteMeanMonth=round((((RouteMean/1000)*2*30)),6) \n",
    "print('################################')\n",
    "print('Mean per Month (Miles):') \n",
    "print(RouteMeanMonth) \n",
    "print('################################')"
   ]
  },
  {
   "cell_type": "code",
   "execution_count": null,
   "metadata": {},
   "outputs": [],
   "source": []
  }
 ],
 "metadata": {
  "kernelspec": {
   "display_name": "Python 3",
   "language": "python",
   "name": "python3"
  },
  "language_info": {
   "codemirror_mode": {
    "name": "ipython",
    "version": 3
   },
   "file_extension": ".py",
   "mimetype": "text/x-python",
   "name": "python",
   "nbconvert_exporter": "python",
   "pygments_lexer": "ipython3",
   "version": "3.7.3"
  }
 },
 "nbformat": 4,
 "nbformat_minor": 2
}
