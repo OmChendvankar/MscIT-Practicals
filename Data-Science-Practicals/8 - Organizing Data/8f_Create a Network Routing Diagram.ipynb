{
 "cells": [
  {
   "cell_type": "code",
   "execution_count": null,
   "metadata": {},
   "outputs": [],
   "source": []
  },
  {
   "cell_type": "code",
   "execution_count": 1,
   "metadata": {},
   "outputs": [
    {
     "ename": "SyntaxError",
     "evalue": "invalid syntax (<ipython-input-1-10999a5c5bd4>, line 17)",
     "output_type": "error",
     "traceback": [
      "\u001b[1;36m  File \u001b[1;32m\"<ipython-input-1-10999a5c5bd4>\"\u001b[1;36m, line \u001b[1;32m17\u001b[0m\n\u001b[1;33m    sOutputFileName1='05-Organise/01-EDS/02-Python/Organise-Network-Routing-Company.gml' sOutputFileName2='05-Organise/01-EDS/02-Python/Organise-Network-Routing-Company.png' Company='01-Vermeulen' ################################################################ ################################################################\u001b[0m\n\u001b[1;37m                                                                                                        ^\u001b[0m\n\u001b[1;31mSyntaxError\u001b[0m\u001b[1;31m:\u001b[0m invalid syntax\n"
     ]
    }
   ],
   "source": [
    "################################################################\n",
    "import sys \n",
    "import os\n",
    "import pandas as pd \n",
    "import networkx as nx\n",
    "import matplotlib.pyplot as plt \n",
    "################################################################\n",
    "pd.options.mode.chained_assignment = None \n",
    "################################################################ \n",
    "Base='C:/VKHCG' \n",
    "################################################################ \n",
    "print('################################')\n",
    "print('Working Base :',Base, ' using ', sys.platform) \n",
    "print('################################')\n",
    "###############################################################\n",
    "sInputFileName='02-Assess/01-EDS/02-Python/Assess-Network-Routing-Company.csv' ################################################################\n",
    "sOutputFileName1='05-Organise/01-EDS/02-Python/Organise-Network-Routing-Company.gml' sOutputFileName2='05-Organise/01-EDS/02-Python/Organise-Network-Routing-Company.png' Company='01-Vermeulen' ################################################################ ################################################################\n",
    "\n",
    "### Import Country Data ################################################################\n",
    "sFileName=Base + '/' + Company + '/' + sInputFileName \n",
    "print('################################')\n",
    "print('Loading :',sFileName) \n",
    "print('################################')\n",
    "CompanyData=pd.read_csv(sFileName,header=0,low_memory=False, encoding=\"latin-1\") print('################################') ################################################################\n",
    "print(CompanyData.head()) \n",
    "print(CompanyData.shape)\n",
    "################################################################\n",
    "G=nx.Graph()\n",
    "for i in range(CompanyData.shape[0]): \n",
    "    for j in range(CompanyData.shape[0]):\n",
    "        Node0=CompanyData['Company_Country_Name'][i]\n",
    "        Node1=CompanyData['Company_Country_Name'][j] \n",
    "        if Node0 != Node1:\n",
    "            G.add_edge(Node0,Node1)\n",
    "\n",
    "for i in range(CompanyData.shape[0]): \n",
    "    Node0=CompanyData['Company_Country_Name'][i]\n",
    "    Node1=CompanyData['Company_Place_Name'][i] + '('+ CompanyData['Company_Country_Name'][i] + ')' \n",
    "    if Node0 != Node1:\n",
    "        G.add_edge(Node0,Node1)\n",
    "\n",
    "print('Nodes:', G.number_of_nodes()) \n",
    "print('Edges:', G.number_of_edges())\n",
    "################################################################\n",
    "sFileName=Base + '/' + Company + '/' + sOutputFileName1 \n",
    "print('################################')\n",
    "print('Storing :',sFileName) \n",
    "print('################################')\n",
    "nx.write_gml(G, sFileName)\n",
    "################################################################\n",
    "sFileName=Base + '/' + Company + '/' + sOutputFileName2 \n",
    "print('################################')\n",
    "print('Storing Graph Image:',sFileName) \n",
    "print('################################')\n",
    "plt.figure(figsize=(15, 15)) pos=nx.spectral_layout(G,dim=2)\n",
    "nx.draw_networkx_nodes(G,pos, node_color='k', node_size=10, alpha=0.8) \n",
    "nx.draw_networkx_edges(G, pos,edge_color='r', arrows=False, style='dashed') \n",
    "nx.draw_networkx_labels(G,pos,font_size=12,font_family='sans-serif',font_color='b') plt.axis('off')\n",
    "plt.savefig(sFileName,dpi=600) plt.show()\n",
    "################################################################ \n",
    "print('################################')\n",
    "print('### Done!! #####################') \n",
    "print('################################') \n",
    "################################################################\n"
   ]
  },
  {
   "cell_type": "code",
   "execution_count": null,
   "metadata": {},
   "outputs": [],
   "source": []
  },
  {
   "cell_type": "code",
   "execution_count": null,
   "metadata": {},
   "outputs": [],
   "source": []
  },
  {
   "cell_type": "code",
   "execution_count": null,
   "metadata": {},
   "outputs": [],
   "source": []
  }
 ],
 "metadata": {
  "kernelspec": {
   "display_name": "Python 3",
   "language": "python",
   "name": "python3"
  },
  "language_info": {
   "codemirror_mode": {
    "name": "ipython",
    "version": 3
   },
   "file_extension": ".py",
   "mimetype": "text/x-python",
   "name": "python",
   "nbconvert_exporter": "python",
   "pygments_lexer": "ipython3",
   "version": "3.7.3"
  }
 },
 "nbformat": 4,
 "nbformat_minor": 2
}
