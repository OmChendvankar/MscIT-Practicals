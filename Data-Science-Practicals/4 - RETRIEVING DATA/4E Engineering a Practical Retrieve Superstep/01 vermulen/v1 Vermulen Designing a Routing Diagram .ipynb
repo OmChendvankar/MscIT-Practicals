{
 "cells": [
  {
   "cell_type": "code",
   "execution_count": 1,
   "metadata": {},
   "outputs": [],
   "source": [
    "import sys\n",
    "import os\n",
    "import pandas as pd\n",
    "from math import radians, cos, sin, asin, sqrt"
   ]
  },
  {
   "cell_type": "code",
   "execution_count": 2,
   "metadata": {},
   "outputs": [],
   "source": [
    "def haversine(lon1, lat1, lon2, lat2,stype):\n",
    "    \"\"\"\n",
    "    Calculate the great circle distance between two points \n",
    "    on the earth (specified in decimal degrees)\n",
    "    \"\"\"\n",
    "    # convert decimal degrees to radians \n",
    "    lon1, lat1, lon2, lat2 = map(radians, [lon1, lat1, lon2, lat2])\n",
    "    # haversine formula \n",
    "    dlon = lon2 - lon1 \n",
    "    dlat = lat2 - lat1 \n",
    "    a = sin(dlat/2)**2 + cos(lat1) * cos(lat2) * sin(dlon/2)**2\n",
    "    c = 2 * asin(sqrt(a)) \n",
    "    if stype == 'km':\n",
    "        r = 6371 # Radius of earth in kilometers\n",
    "    else:\n",
    "        r = 3956 # Radius of earth in miles\n",
    "    d=round(c * r,3)\n",
    "    return d"
   ]
  },
  {
   "cell_type": "code",
   "execution_count": 3,
   "metadata": {},
   "outputs": [
    {
     "name": "stdout",
     "output_type": "stream",
     "text": [
      "Loading : C:/VKHCG/01-Vermeulen/00-RawData/IP_DATA_CORE.csv\n"
     ]
    }
   ],
   "source": [
    "Base='C:/VKHCG'\n",
    "sFileName=Base + '/01-Vermeulen/00-RawData/IP_DATA_CORE.csv'\n",
    "print('Loading :',sFileName)\n",
    "IP_DATA_ALL=pd.read_csv(sFileName,header=0,low_memory=False,\n",
    "  usecols=['Country','Place Name','Latitude','Longitude'], encoding=\"latin-1\")"
   ]
  },
  {
   "cell_type": "code",
   "execution_count": 4,
   "metadata": {},
   "outputs": [],
   "source": [
    "sFileDir=Base + '/01-Vermeulen/01-Retrieve/01-EDS/02-Python'\n",
    "if not os.path.exists(sFileDir):\n",
    "    os.makedirs(sFileDir)"
   ]
  },
  {
   "cell_type": "code",
   "execution_count": 6,
   "metadata": {},
   "outputs": [
    {
     "name": "stdout",
     "output_type": "stream",
     "text": [
      "(150, 5)\n"
     ]
    }
   ],
   "source": [
    "IP_DATA = IP_DATA_ALL.drop_duplicates(subset=None, keep='first', inplace=False)\n",
    "IP_DATA.rename(columns={'Place Name': 'Place_Name'}, inplace=True)\n",
    "IP_DATA1 = IP_DATA\n",
    "IP_DATA1.insert(0, 'K', 1 )\n",
    "IP_DATA2 = IP_DATA1\n",
    "################################################################\n",
    "print(IP_DATA1.shape)"
   ]
  },
  {
   "cell_type": "code",
   "execution_count": 10,
   "metadata": {},
   "outputs": [],
   "source": [
    "IP_CROSS=pd.merge(right=IP_DATA1,left=IP_DATA2,on='K')\n",
    "IP_CROSS.drop('K', axis=1, inplace=True)\n",
    "IP_CROSS.rename(columns={'Longitude_x': 'Longitude_from', 'Longitude_y': 'Longitude_to'}, inplace=True)\n",
    "IP_CROSS.rename(columns={'Latitude_x': 'Latitude_from', 'Latitude_y': 'Latitude_to'}, inplace=True)\n",
    "IP_CROSS.rename(columns={'Place_Name_x': 'Place_Name_from', 'Place_Name_y': 'Place_Name_to'}, inplace=True)\n",
    "IP_CROSS.rename(columns={'Country_x': 'Country_from', 'Country_y': 'Country_to'}, inplace=True)"
   ]
  },
  {
   "cell_type": "code",
   "execution_count": 11,
   "metadata": {},
   "outputs": [
    {
     "name": "stdout",
     "output_type": "stream",
     "text": [
      "(22500, 10)\n",
      "### Done!! ############################################\n"
     ]
    }
   ],
   "source": [
    "IP_CROSS['DistanceBetweenKilometers'] = IP_CROSS.apply(lambda row: \n",
    "    haversine(\n",
    "            row['Longitude_from'],\n",
    "            row['Latitude_from'],\n",
    "            row['Longitude_to'],\n",
    "            row['Latitude_to'],\n",
    "            'km')\n",
    "            ,axis=1)\n",
    "################################################################\n",
    "IP_CROSS['DistanceBetweenMiles'] = IP_CROSS.apply(lambda row: \n",
    "    haversine(\n",
    "            row['Longitude_from'],\n",
    "            row['Latitude_from'],\n",
    "            row['Longitude_to'],\n",
    "            row['Latitude_to'],\n",
    "            'miles')\n",
    "            ,axis=1)\n",
    "print(IP_CROSS.shape)\n",
    "sFileName2=sFileDir + '/Retrieve_IP_Routing.csv'\n",
    "IP_CROSS.to_csv(sFileName2, index = False, encoding=\"latin-1\")\n",
    "################################################################\n",
    "print('### Done!! ############################################')\n",
    "################################################################"
   ]
  },
  {
   "cell_type": "code",
   "execution_count": null,
   "metadata": {},
   "outputs": [],
   "source": []
  }
 ],
 "metadata": {
  "kernelspec": {
   "display_name": "Python 3",
   "language": "python",
   "name": "python3"
  },
  "language_info": {
   "codemirror_mode": {
    "name": "ipython",
    "version": 3
   },
   "file_extension": ".py",
   "mimetype": "text/x-python",
   "name": "python",
   "nbconvert_exporter": "python",
   "pygments_lexer": "ipython3",
   "version": "3.7.3"
  }
 },
 "nbformat": 4,
 "nbformat_minor": 2
}
