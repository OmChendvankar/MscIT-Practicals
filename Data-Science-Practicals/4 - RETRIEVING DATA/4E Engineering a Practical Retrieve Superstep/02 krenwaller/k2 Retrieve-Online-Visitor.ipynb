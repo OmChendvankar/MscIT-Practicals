{
 "cells": [
  {
   "cell_type": "code",
   "execution_count": 1,
   "metadata": {},
   "outputs": [],
   "source": [
    "import sys\n",
    "import os\n",
    "import pandas as pd\n",
    "import gzip as gz"
   ]
  },
  {
   "cell_type": "code",
   "execution_count": 2,
   "metadata": {},
   "outputs": [
    {
     "name": "stdout",
     "output_type": "stream",
     "text": [
      "################################\n",
      "Working Base : C:/VKHCG  using  win32\n"
     ]
    }
   ],
   "source": [
    "InputFileName='IP_DATA_ALL.csv'\n",
    "OutputFileName='Retrieve_Online_Visitor'\n",
    "CompanyIn= '01-Vermeulen'\n",
    "CompanyOut= '02-Krennwallner'\n",
    "Base='C:/VKHCG'\n",
    "print('################################')\n",
    "print('Working Base :',Base, ' using ', sys.platform)\n"
   ]
  },
  {
   "cell_type": "code",
   "execution_count": 5,
   "metadata": {},
   "outputs": [
    {
     "name": "stdout",
     "output_type": "stream",
     "text": [
      "Loading : C:/VKHCG/01-Vermeulen/00-RawData/IP_DATA_ALL.csv\n"
     ]
    }
   ],
   "source": [
    "sFileName=Base + '/' + CompanyIn + '/00-RawData/' + InputFileName\n",
    "print('Loading :',sFileName)\n",
    "IP_DATA_ALL=pd.read_csv(sFileName,header=0,low_memory=False,usecols=['Country','Place Name','Latitude','Longitude','First IP Number','Last IP Number'])\n",
    "\n",
    "IP_DATA_ALL.rename(columns={'Place Name': 'Place_Name'}, inplace=True)\n",
    "IP_DATA_ALL.rename(columns={'First IP Number': 'First_IP_Number'}, inplace=True)\n",
    "IP_DATA_ALL.rename(columns={'Last IP Number': 'Last_IP_Number'}, inplace=True)"
   ]
  },
  {
   "cell_type": "code",
   "execution_count": 6,
   "metadata": {},
   "outputs": [
    {
     "name": "stdout",
     "output_type": "stream",
     "text": [
      "Rows : 1247464\n",
      "Columns : 6\n",
      "Export CSV\n",
      "Store All: C:/VKHCG/02-Krennwallner/01-Retrieve/01-EDS/02-Python/Retrieve_Online_Visitor.csv\n",
      "Store 10: C:/VKHCG/02-Krennwallner/01-Retrieve/01-EDS/02-Python/Retrieve_Online_Visitor_10.csv\n"
     ]
    }
   ],
   "source": [
    "sFileDir=Base + '/' + CompanyOut + '/01-Retrieve/01-EDS/02-Python'\n",
    "if not os.path.exists(sFileDir):\n",
    "    os.makedirs(sFileDir)\n",
    "\n",
    "visitordata = IP_DATA_ALL.drop_duplicates(subset=None, keep='first', inplace=False)\n",
    "visitordata10=visitordata.head(10)\n",
    "\n",
    "print('Rows :',visitordata.shape[0])\n",
    "print('Columns :',visitordata.shape[1])\n",
    "\n",
    "print('Export CSV')\n",
    "sFileName2=sFileDir + '/' + OutputFileName + '.csv'\n",
    "visitordata.to_csv(sFileName2, index = False)\n",
    "print('Store All:',sFileName2)\n",
    "\n",
    "sFileName3=sFileDir + '/' + OutputFileName + '_10.csv'\n",
    "visitordata10.to_csv(sFileName3, index = False)\n",
    "print('Store 10:',sFileName3)"
   ]
  },
  {
   "cell_type": "code",
   "execution_count": 7,
   "metadata": {},
   "outputs": [
    {
     "name": "stdout",
     "output_type": "stream",
     "text": [
      "Store : C:/VKHCG/02-Krennwallner/01-Retrieve/01-EDS/02-Python/Retrieve_Online_Visitor.csv.gz\n",
      "Store : C:/VKHCG/02-Krennwallner/01-Retrieve/01-EDS/02-Python/Retrieve_Online_Visitor.csv.bz2\n",
      "Store : C:/VKHCG/02-Krennwallner/01-Retrieve/01-EDS/02-Python/Retrieve_Online_Visitor.csv.xz\n"
     ]
    }
   ],
   "source": [
    "for z in ['gzip', 'bz2', 'xz']:\n",
    "    if z == 'gzip':\n",
    "        sFileName4=sFileName2 + '.gz'\n",
    "    else:\n",
    "        sFileName4=sFileName2 + '.' + z\n",
    "    visitordata.to_csv(sFileName4, index = False, compression=z)\n",
    "    print('Store :',sFileName4)"
   ]
  },
  {
   "cell_type": "code",
   "execution_count": 8,
   "metadata": {},
   "outputs": [
    {
     "name": "stdout",
     "output_type": "stream",
     "text": [
      "Export JSON\n",
      "Store All: C:/VKHCG/02-Krennwallner/01-Retrieve/01-EDS/02-Python/Retrieve_Online_Visitor_split.json\n",
      "Store 10: C:/VKHCG/02-Krennwallner/01-Retrieve/01-EDS/02-Python/Retrieve_Online_Visitor_10_split.json\n",
      "Store GZIP All: C:/VKHCG/02-Krennwallner/01-Retrieve/01-EDS/02-Python/Retrieve_Online_Visitor_split.json.gz\n",
      "Store UnGZIP All: C:/VKHCG/02-Krennwallner/01-Retrieve/01-EDS/02-Python/Retrieve_Online_Visitor_split_UnGZip.json\n",
      "Store All: C:/VKHCG/02-Krennwallner/01-Retrieve/01-EDS/02-Python/Retrieve_Online_Visitor_records.json\n",
      "Store 10: C:/VKHCG/02-Krennwallner/01-Retrieve/01-EDS/02-Python/Retrieve_Online_Visitor_10_records.json\n",
      "Store GZIP All: C:/VKHCG/02-Krennwallner/01-Retrieve/01-EDS/02-Python/Retrieve_Online_Visitor_records.json.gz\n",
      "Store UnGZIP All: C:/VKHCG/02-Krennwallner/01-Retrieve/01-EDS/02-Python/Retrieve_Online_Visitor_records_UnGZip.json\n",
      "Store All: C:/VKHCG/02-Krennwallner/01-Retrieve/01-EDS/02-Python/Retrieve_Online_Visitor_index.json\n",
      "Store 10: C:/VKHCG/02-Krennwallner/01-Retrieve/01-EDS/02-Python/Retrieve_Online_Visitor_10_index.json\n",
      "Store GZIP All: C:/VKHCG/02-Krennwallner/01-Retrieve/01-EDS/02-Python/Retrieve_Online_Visitor_index.json.gz\n",
      "Store UnGZIP All: C:/VKHCG/02-Krennwallner/01-Retrieve/01-EDS/02-Python/Retrieve_Online_Visitor_index_UnGZip.json\n",
      "Store All: C:/VKHCG/02-Krennwallner/01-Retrieve/01-EDS/02-Python/Retrieve_Online_Visitor_columns.json\n",
      "Store 10: C:/VKHCG/02-Krennwallner/01-Retrieve/01-EDS/02-Python/Retrieve_Online_Visitor_10_columns.json\n",
      "Store GZIP All: C:/VKHCG/02-Krennwallner/01-Retrieve/01-EDS/02-Python/Retrieve_Online_Visitor_columns.json.gz\n",
      "Store UnGZIP All: C:/VKHCG/02-Krennwallner/01-Retrieve/01-EDS/02-Python/Retrieve_Online_Visitor_columns_UnGZip.json\n",
      "Store All: C:/VKHCG/02-Krennwallner/01-Retrieve/01-EDS/02-Python/Retrieve_Online_Visitor_values.json\n",
      "Store 10: C:/VKHCG/02-Krennwallner/01-Retrieve/01-EDS/02-Python/Retrieve_Online_Visitor_10_values.json\n",
      "Store GZIP All: C:/VKHCG/02-Krennwallner/01-Retrieve/01-EDS/02-Python/Retrieve_Online_Visitor_values.json.gz\n",
      "Store UnGZIP All: C:/VKHCG/02-Krennwallner/01-Retrieve/01-EDS/02-Python/Retrieve_Online_Visitor_values_UnGZip.json\n",
      "Store All: C:/VKHCG/02-Krennwallner/01-Retrieve/01-EDS/02-Python/Retrieve_Online_Visitor_table.json\n",
      "Store 10: C:/VKHCG/02-Krennwallner/01-Retrieve/01-EDS/02-Python/Retrieve_Online_Visitor_10_table.json\n",
      "Store GZIP All: C:/VKHCG/02-Krennwallner/01-Retrieve/01-EDS/02-Python/Retrieve_Online_Visitor_table.json.gz\n",
      "Store UnGZIP All: C:/VKHCG/02-Krennwallner/01-Retrieve/01-EDS/02-Python/Retrieve_Online_Visitor_table_UnGZip.json\n"
     ]
    }
   ],
   "source": [
    "print('Export JSON')\n",
    "for sOrient in ['split','records','index', 'columns','values','table']:\n",
    "    sFileName2=sFileDir + '/' + OutputFileName + '_' + sOrient + '.json'\n",
    "    visitordata.to_json(sFileName2,orient=sOrient,force_ascii=True)\n",
    "    print('Store All:',sFileName2)\n",
    "    \n",
    "    sFileName3=sFileDir + '/' + OutputFileName + '_10_' + sOrient + '.json'\n",
    "    visitordata10.to_json(sFileName3,orient=sOrient,force_ascii=True)\n",
    "    print('Store 10:',sFileName3)    \n",
    "    \n",
    "    sFileName4=sFileName2 + '.gz'\n",
    "    file_in = open(sFileName2, 'rb')\n",
    "    file_out = gz.open(sFileName4, 'wb')\n",
    "    file_out.writelines(file_in)\n",
    "    file_in.close()\n",
    "    file_out.close()    \n",
    "    print('Store GZIP All:',sFileName4)\n",
    "    \n",
    "    sFileName5=sFileDir + '/' + OutputFileName + '_' + sOrient + '_UnGZip.json'\n",
    "    file_in = gz.open(sFileName4, 'rb')\n",
    "    file_out = open(sFileName5, 'wb')\n",
    "    file_out.writelines(file_in)\n",
    "    file_in.close()\n",
    "    file_out.close()\n",
    "    print('Store UnGZIP All:',sFileName5)"
   ]
  },
  {
   "cell_type": "code",
   "execution_count": 9,
   "metadata": {},
   "outputs": [
    {
     "name": "stdout",
     "output_type": "stream",
     "text": [
      "### Done!! ############################################\n"
     ]
    }
   ],
   "source": [
    "print('### Done!! ############################################')"
   ]
  },
  {
   "cell_type": "code",
   "execution_count": null,
   "metadata": {},
   "outputs": [],
   "source": []
  }
 ],
 "metadata": {
  "kernelspec": {
   "display_name": "Python 3",
   "language": "python",
   "name": "python3"
  },
  "language_info": {
   "codemirror_mode": {
    "name": "ipython",
    "version": 3
   },
   "file_extension": ".py",
   "mimetype": "text/x-python",
   "name": "python",
   "nbconvert_exporter": "python",
   "pygments_lexer": "ipython3",
   "version": "3.7.3"
  }
 },
 "nbformat": 4,
 "nbformat_minor": 2
}
