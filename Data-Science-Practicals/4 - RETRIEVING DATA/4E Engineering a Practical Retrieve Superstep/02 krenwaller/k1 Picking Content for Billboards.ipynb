{
 "cells": [
  {
   "cell_type": "code",
   "execution_count": 6,
   "metadata": {},
   "outputs": [],
   "source": [
    "import sys\n",
    "import os\n",
    "import pandas as pd\n",
    "################################################################\n",
    "InputFileName='DE_Billboard_Locations.csv'\n",
    "OutputFileName='Retrieve_DE_Billboard_Locations.csv'\n",
    "Company='02-Krennwallner'\n",
    "Base='C:/VKHCG'"
   ]
  },
  {
   "cell_type": "code",
   "execution_count": 8,
   "metadata": {},
   "outputs": [
    {
     "name": "stdout",
     "output_type": "stream",
     "text": [
      "Working Base : C:/VKHCG  using  win32\n",
      "################################\n",
      "Loading : C:/VKHCG/02-Krennwallner/00-RawData/DE_Billboard_Locations.csv\n"
     ]
    }
   ],
   "source": [
    "print('Working Base :',Base, ' using ', sys.platform)\n",
    "print('################################')\n",
    "################################################################\n",
    "Base='C:/VKHCG'\n",
    "sFileName=Base + '/' + Company + '/00-RawData/' + InputFileName\n",
    "print('Loading :',sFileName)\n",
    "IP_DATA_ALL=pd.read_csv(sFileName,header=0,low_memory=False,\n",
    " usecols=['Country','PlaceName','Latitude','Longitude'])"
   ]
  },
  {
   "cell_type": "code",
   "execution_count": 5,
   "metadata": {},
   "outputs": [
    {
     "name": "stdout",
     "output_type": "stream",
     "text": [
      "Rows : 8873\n",
      "Columns : 4\n"
     ]
    }
   ],
   "source": [
    "IP_DATA_ALL.rename(columns={'PlaceName': 'Place_Name'}, inplace=True)\n",
    "sFileDir=Base + '/' + Company + '/01 -Retrieve/01 -EDS/02-Python'\n",
    "if not os.path.exists(sFileDir):\n",
    " os.makedirs(sFileDir)\n",
    "ROUTERLOC = IP_DATA_ALL.drop_duplicates(subset=None, keep='first', inplace=False)\n",
    "print('Rows :',ROUTERLOC.shape[0])\n",
    "print('Columns :',ROUTERLOC.shape[1])\n",
    "sFileName2=sFileDir + '/' + OutputFileName\n",
    "ROUTERLOC.to_csv(sFileName2, index = False)"
   ]
  },
  {
   "cell_type": "code",
   "execution_count": null,
   "metadata": {},
   "outputs": [],
   "source": []
  }
 ],
 "metadata": {
  "kernelspec": {
   "display_name": "Python 3",
   "language": "python",
   "name": "python3"
  },
  "language_info": {
   "codemirror_mode": {
    "name": "ipython",
    "version": 3
   },
   "file_extension": ".py",
   "mimetype": "text/x-python",
   "name": "python",
   "nbconvert_exporter": "python",
   "pygments_lexer": "ipython3",
   "version": "3.7.3"
  }
 },
 "nbformat": 4,
 "nbformat_minor": 2
}
