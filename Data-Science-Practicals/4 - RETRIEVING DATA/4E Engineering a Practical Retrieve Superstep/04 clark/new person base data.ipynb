{
 "cells": [
  {
   "cell_type": "code",
   "execution_count": 26,
   "metadata": {},
   "outputs": [],
   "source": [
    "import sys\n",
    "import os\n",
    "import shutil\n",
    "import zipfile as zp\n",
    "import pandas as pd"
   ]
  },
  {
   "cell_type": "code",
   "execution_count": 24,
   "metadata": {},
   "outputs": [],
   "source": [
    "InputFileDir   ='C:/VKHCG/04-Clark/00-RawData'\n",
    "OutputFileDir  ='C:/VKHCG/04-Clark/01-Retrieve/01-EDS/02-Python/'\n",
    "InputFileName  ='Data_female-names.zip'\n",
    "OutputFileName ='Data_female-names.csv'"
   ]
  },
  {
   "cell_type": "code",
   "execution_count": 25,
   "metadata": {},
   "outputs": [
    {
     "data": {
      "text/plain": [
       "'C:/VKHCG/04-Clark/00-RawData/Data_female-names.zip'"
      ]
     },
     "execution_count": 25,
     "metadata": {},
     "output_type": "execute_result"
    }
   ],
   "source": [
    "InputZIPFile = InputFileDir + '/' + InputFileName \n",
    "InputZIPFile"
   ]
  },
  {
   "cell_type": "code",
   "execution_count": 27,
   "metadata": {},
   "outputs": [],
   "source": [
    "zip_file = zp.ZipFile(InputZIPFile, 'r')\n",
    "zip_file.extractall(OutputFileDir)\n",
    "zip_file.close()"
   ]
  },
  {
   "cell_type": "code",
   "execution_count": 30,
   "metadata": {},
   "outputs": [
    {
     "name": "stdout",
     "output_type": "stream",
     "text": [
      "C:/VKHCG/04-Clark/01-Retrieve/01-EDS/02-Python//Data_female-names-A.csv\n",
      "C:/VKHCG/04-Clark/01-Retrieve/01-EDS/02-Python//Data_female-names-B.csv\n",
      "C:/VKHCG/04-Clark/01-Retrieve/01-EDS/02-Python//Data_female-names-C.csv\n",
      "C:/VKHCG/04-Clark/01-Retrieve/01-EDS/02-Python//Data_female-names-D.csv\n",
      "C:/VKHCG/04-Clark/01-Retrieve/01-EDS/02-Python//Data_female-names-E.csv\n",
      "C:/VKHCG/04-Clark/01-Retrieve/01-EDS/02-Python//Data_female-names-F.csv\n",
      "C:/VKHCG/04-Clark/01-Retrieve/01-EDS/02-Python//Data_female-names-G.csv\n",
      "C:/VKHCG/04-Clark/01-Retrieve/01-EDS/02-Python//Data_female-names-H.csv\n",
      "C:/VKHCG/04-Clark/01-Retrieve/01-EDS/02-Python//Data_female-names-I.csv\n",
      "C:/VKHCG/04-Clark/01-Retrieve/01-EDS/02-Python//Data_female-names-J.csv\n",
      "C:/VKHCG/04-Clark/01-Retrieve/01-EDS/02-Python//Data_female-names-K.csv\n",
      "C:/VKHCG/04-Clark/01-Retrieve/01-EDS/02-Python//Data_female-names-L.csv\n",
      "C:/VKHCG/04-Clark/01-Retrieve/01-EDS/02-Python//Data_female-names-M.csv\n",
      "C:/VKHCG/04-Clark/01-Retrieve/01-EDS/02-Python//Data_female-names-N.csv\n",
      "C:/VKHCG/04-Clark/01-Retrieve/01-EDS/02-Python//Data_female-names-O.csv\n",
      "C:/VKHCG/04-Clark/01-Retrieve/01-EDS/02-Python//Data_female-names-P.csv\n",
      "C:/VKHCG/04-Clark/01-Retrieve/01-EDS/02-Python//Data_female-names-Q.csv\n",
      "C:/VKHCG/04-Clark/01-Retrieve/01-EDS/02-Python//Data_female-names-R.csv\n",
      "C:/VKHCG/04-Clark/01-Retrieve/01-EDS/02-Python//Data_female-names-S.csv\n",
      "C:/VKHCG/04-Clark/01-Retrieve/01-EDS/02-Python//Data_female-names-T.csv\n",
      "C:/VKHCG/04-Clark/01-Retrieve/01-EDS/02-Python//Data_female-names-U.csv\n",
      "C:/VKHCG/04-Clark/01-Retrieve/01-EDS/02-Python//Data_female-names-V.csv\n",
      "C:/VKHCG/04-Clark/01-Retrieve/01-EDS/02-Python//Data_female-names-W.csv\n",
      "C:/VKHCG/04-Clark/01-Retrieve/01-EDS/02-Python//Data_female-names-X.csv\n",
      "C:/VKHCG/04-Clark/01-Retrieve/01-EDS/02-Python//Data_female-names-Y.csv\n",
      "C:/VKHCG/04-Clark/01-Retrieve/01-EDS/02-Python//Data_female-names-Z.csv\n"
     ]
    }
   ],
   "source": [
    "t=0\n",
    "for dirname, dirnames, filenames in os.walk(OutputFileDir):\n",
    "    for filename in filenames:\n",
    "        sCSVFile = dirname + '/' + filename\n",
    "        print(sCSVFile)\n",
    "        t=t+1\n",
    "        if t==1:\n",
    "            NameRawData=pd.read_csv(sCSVFile,header=None,low_memory=False)\n",
    "            NameData=NameRawData\n",
    "        else:    \n",
    "            NameRawData=pd.read_csv(sCSVFile,header=None,low_memory=False)\n",
    "            NameData=NameData.append(NameRawData)"
   ]
  },
  {
   "cell_type": "code",
   "execution_count": 33,
   "metadata": {},
   "outputs": [
    {
     "data": {
      "text/plain": [
       "(4275, 1)"
      ]
     },
     "execution_count": 33,
     "metadata": {},
     "output_type": "execute_result"
    }
   ],
   "source": [
    "NameData.shape"
   ]
  },
  {
   "cell_type": "code",
   "execution_count": 34,
   "metadata": {},
   "outputs": [
    {
     "data": {
      "text/html": [
       "<div>\n",
       "<style scoped>\n",
       "    .dataframe tbody tr th:only-of-type {\n",
       "        vertical-align: middle;\n",
       "    }\n",
       "\n",
       "    .dataframe tbody tr th {\n",
       "        vertical-align: top;\n",
       "    }\n",
       "\n",
       "    .dataframe thead th {\n",
       "        text-align: right;\n",
       "    }\n",
       "</style>\n",
       "<table border=\"1\" class=\"dataframe\">\n",
       "  <thead>\n",
       "    <tr style=\"text-align: right;\">\n",
       "      <th></th>\n",
       "      <th>0</th>\n",
       "    </tr>\n",
       "  </thead>\n",
       "  <tbody>\n",
       "    <tr>\n",
       "      <td>0</td>\n",
       "      <td>Aaron</td>\n",
       "    </tr>\n",
       "    <tr>\n",
       "      <td>1</td>\n",
       "      <td>Abbey</td>\n",
       "    </tr>\n",
       "    <tr>\n",
       "      <td>2</td>\n",
       "      <td>Abbie</td>\n",
       "    </tr>\n",
       "    <tr>\n",
       "      <td>3</td>\n",
       "      <td>Abby</td>\n",
       "    </tr>\n",
       "    <tr>\n",
       "      <td>4</td>\n",
       "      <td>Abigail</td>\n",
       "    </tr>\n",
       "  </tbody>\n",
       "</table>\n",
       "</div>"
      ],
      "text/plain": [
       "         0\n",
       "0    Aaron\n",
       "1    Abbey\n",
       "2    Abbie\n",
       "3     Abby\n",
       "4  Abigail"
      ]
     },
     "execution_count": 34,
     "metadata": {},
     "output_type": "execute_result"
    }
   ],
   "source": [
    "NameData.head()"
   ]
  },
  {
   "cell_type": "code",
   "execution_count": 35,
   "metadata": {},
   "outputs": [
    {
     "data": {
      "text/plain": [
       "'C:/VKHCG/04-Clark/01-Retrieve/01-EDS/02-Python/Data_female-names.csv'"
      ]
     },
     "execution_count": 35,
     "metadata": {},
     "output_type": "execute_result"
    }
   ],
   "source": [
    "OutputFile = OutputFileDir + OutputFileName\n",
    "OutputFile"
   ]
  },
  {
   "cell_type": "code",
   "execution_count": 36,
   "metadata": {},
   "outputs": [
    {
     "data": {
      "text/html": [
       "<div>\n",
       "<style scoped>\n",
       "    .dataframe tbody tr th:only-of-type {\n",
       "        vertical-align: middle;\n",
       "    }\n",
       "\n",
       "    .dataframe tbody tr th {\n",
       "        vertical-align: top;\n",
       "    }\n",
       "\n",
       "    .dataframe thead th {\n",
       "        text-align: right;\n",
       "    }\n",
       "</style>\n",
       "<table border=\"1\" class=\"dataframe\">\n",
       "  <thead>\n",
       "    <tr style=\"text-align: right;\">\n",
       "      <th></th>\n",
       "      <th>NameValues</th>\n",
       "    </tr>\n",
       "  </thead>\n",
       "  <tbody>\n",
       "    <tr>\n",
       "      <td>0</td>\n",
       "      <td>Aaron</td>\n",
       "    </tr>\n",
       "    <tr>\n",
       "      <td>1</td>\n",
       "      <td>Abbey</td>\n",
       "    </tr>\n",
       "    <tr>\n",
       "      <td>2</td>\n",
       "      <td>Abbie</td>\n",
       "    </tr>\n",
       "    <tr>\n",
       "      <td>3</td>\n",
       "      <td>Abby</td>\n",
       "    </tr>\n",
       "    <tr>\n",
       "      <td>4</td>\n",
       "      <td>Abigail</td>\n",
       "    </tr>\n",
       "  </tbody>\n",
       "</table>\n",
       "</div>"
      ],
      "text/plain": [
       "  NameValues\n",
       "0      Aaron\n",
       "1      Abbey\n",
       "2      Abbie\n",
       "3       Abby\n",
       "4    Abigail"
      ]
     },
     "execution_count": 36,
     "metadata": {},
     "output_type": "execute_result"
    }
   ],
   "source": [
    "NameData.rename(columns={0 : 'NameValues'},inplace=True)\n",
    "NameData.head()"
   ]
  },
  {
   "cell_type": "code",
   "execution_count": 37,
   "metadata": {},
   "outputs": [
    {
     "name": "stdout",
     "output_type": "stream",
     "text": [
      "Process:  C:/VKHCG/04-Clark/00-RawData/Data_female-names.zip\n"
     ]
    }
   ],
   "source": [
    "NameData.to_csv(OutputFile, index = False)\n",
    "print('Process: ',InputZIPFile)"
   ]
  }
 ],
 "metadata": {
  "kernelspec": {
   "display_name": "Python 3",
   "language": "python",
   "name": "python3"
  },
  "language_info": {
   "codemirror_mode": {
    "name": "ipython",
    "version": 3
   },
   "file_extension": ".py",
   "mimetype": "text/x-python",
   "name": "python",
   "nbconvert_exporter": "python",
   "pygments_lexer": "ipython3",
   "version": "3.7.4"
  }
 },
 "nbformat": 4,
 "nbformat_minor": 2
}
