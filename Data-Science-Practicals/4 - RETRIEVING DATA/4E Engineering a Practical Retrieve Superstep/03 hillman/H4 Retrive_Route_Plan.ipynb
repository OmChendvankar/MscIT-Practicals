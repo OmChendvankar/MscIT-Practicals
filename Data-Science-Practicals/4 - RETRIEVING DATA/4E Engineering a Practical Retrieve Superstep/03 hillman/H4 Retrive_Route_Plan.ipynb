{
 "cells": [
  {
   "cell_type": "code",
   "execution_count": 1,
   "metadata": {},
   "outputs": [],
   "source": [
    "import os\n",
    "import pandas as pd\n",
    "from geopy.distance import vincenty"
   ]
  },
  {
   "cell_type": "code",
   "execution_count": 4,
   "metadata": {},
   "outputs": [],
   "source": [
    "InputFileName='GB_Postcode_Warehouse.csv'\n",
    "OutputFileName='Retrieve_GB_Warehouse.csv'\n",
    "InputFileDir= 'C:/VKHCG/03-Hillman/00-RawData'\n",
    "OutputFileDir='C:/VKHCG/03-Hillman/01-Retrieve/01-EDS/02-Python'"
   ]
  },
  {
   "cell_type": "code",
   "execution_count": 6,
   "metadata": {},
   "outputs": [
    {
     "name": "stdout",
     "output_type": "stream",
     "text": [
      "Loading : C:/VKHCG/03-Hillman/00-RawData/GB_Postcode_Warehouse.csv\n"
     ]
    }
   ],
   "source": [
    "sFileName=    InputFileDir +  '/' + InputFileName\n",
    "print('Loading :',sFileName)"
   ]
  },
  {
   "cell_type": "code",
   "execution_count": 9,
   "metadata": {},
   "outputs": [
    {
     "data": {
      "text/plain": [
       "(3003, 4)"
      ]
     },
     "execution_count": 9,
     "metadata": {},
     "output_type": "execute_result"
    }
   ],
   "source": [
    "Warehouse=pd.read_csv(sFileName,header=0,low_memory=False)\n",
    "Warehouse.shape"
   ]
  },
  {
   "cell_type": "code",
   "execution_count": 11,
   "metadata": {},
   "outputs": [
    {
     "data": {
      "text/html": [
       "<div>\n",
       "<style scoped>\n",
       "    .dataframe tbody tr th:only-of-type {\n",
       "        vertical-align: middle;\n",
       "    }\n",
       "\n",
       "    .dataframe tbody tr th {\n",
       "        vertical-align: top;\n",
       "    }\n",
       "\n",
       "    .dataframe thead th {\n",
       "        text-align: right;\n",
       "    }\n",
       "</style>\n",
       "<table border=\"1\" class=\"dataframe\">\n",
       "  <thead>\n",
       "    <tr style=\"text-align: right;\">\n",
       "      <th></th>\n",
       "      <th>id</th>\n",
       "      <th>postcode</th>\n",
       "      <th>latitude</th>\n",
       "      <th>longitude</th>\n",
       "    </tr>\n",
       "  </thead>\n",
       "  <tbody>\n",
       "    <tr>\n",
       "      <td>0</td>\n",
       "      <td>2</td>\n",
       "      <td>AB10</td>\n",
       "      <td>57.13514</td>\n",
       "      <td>-2.11731</td>\n",
       "    </tr>\n",
       "    <tr>\n",
       "      <td>1</td>\n",
       "      <td>3</td>\n",
       "      <td>AB11</td>\n",
       "      <td>57.13875</td>\n",
       "      <td>-2.09089</td>\n",
       "    </tr>\n",
       "    <tr>\n",
       "      <td>2</td>\n",
       "      <td>4</td>\n",
       "      <td>AB12</td>\n",
       "      <td>57.10100</td>\n",
       "      <td>-2.11060</td>\n",
       "    </tr>\n",
       "    <tr>\n",
       "      <td>3</td>\n",
       "      <td>5</td>\n",
       "      <td>AB13</td>\n",
       "      <td>57.10801</td>\n",
       "      <td>-2.23776</td>\n",
       "    </tr>\n",
       "    <tr>\n",
       "      <td>4</td>\n",
       "      <td>6</td>\n",
       "      <td>AB14</td>\n",
       "      <td>57.10076</td>\n",
       "      <td>-2.27073</td>\n",
       "    </tr>\n",
       "  </tbody>\n",
       "</table>\n",
       "</div>"
      ],
      "text/plain": [
       "   id postcode  latitude  longitude\n",
       "0   2     AB10  57.13514   -2.11731\n",
       "1   3     AB11  57.13875   -2.09089\n",
       "2   4     AB12  57.10100   -2.11060\n",
       "3   5     AB13  57.10801   -2.23776\n",
       "4   6     AB14  57.10076   -2.27073"
      ]
     },
     "execution_count": 11,
     "metadata": {},
     "output_type": "execute_result"
    }
   ],
   "source": [
    "Warehouse.head()"
   ]
  },
  {
   "cell_type": "code",
   "execution_count": 12,
   "metadata": {},
   "outputs": [
    {
     "data": {
      "text/plain": [
       "(2975, 4)"
      ]
     },
     "execution_count": 12,
     "metadata": {},
     "output_type": "execute_result"
    }
   ],
   "source": [
    "WarehouseClean=Warehouse[Warehouse.latitude!=0]\n",
    "WarehouseClean.shape"
   ]
  },
  {
   "cell_type": "code",
   "execution_count": 17,
   "metadata": {},
   "outputs": [
    {
     "data": {
      "text/plain": [
       "(2975, 4)"
      ]
     },
     "execution_count": 17,
     "metadata": {},
     "output_type": "execute_result"
    }
   ],
   "source": [
    "WarehouseGood=WarehouseClean[WarehouseClean.longitude!=0]\n",
    "WarehouseGood.shape"
   ]
  },
  {
   "cell_type": "code",
   "execution_count": 18,
   "metadata": {},
   "outputs": [
    {
     "data": {
      "text/plain": [
       "(2975, 4)"
      ]
     },
     "execution_count": 18,
     "metadata": {},
     "output_type": "execute_result"
    }
   ],
   "source": [
    "WarehouseGood.drop_duplicates(subset='postcode', keep='first', inplace=True)\n",
    "WarehouseGood.shape"
   ]
  },
  {
   "cell_type": "code",
   "execution_count": 19,
   "metadata": {},
   "outputs": [],
   "source": [
    "WarehouseGood.sort_values(by='postcode', ascending=1)\n",
    "sFileName=OutputFileDir + '/' + OutputFileName\n",
    "WarehouseGood.to_csv(sFileName, index = False)"
   ]
  },
  {
   "cell_type": "code",
   "execution_count": 20,
   "metadata": {},
   "outputs": [],
   "source": [
    "WarehouseLoop = WarehouseGood.head(20)"
   ]
  },
  {
   "cell_type": "code",
   "execution_count": null,
   "metadata": {},
   "outputs": [
    {
     "name": "stdout",
     "output_type": "stream",
     "text": [
      "Run : 0  =======>>>>>>>>>> AB10\n"
     ]
    },
    {
     "name": "stderr",
     "output_type": "stream",
     "text": [
      "c:\\users\\ngt\\appdata\\local\\programs\\python\\python37\\lib\\site-packages\\ipykernel_launcher.py:6: SettingWithCopyWarning: \n",
      "A value is trying to be set on a copy of a slice from a DataFrame.\n",
      "Try using .loc[row_indexer,col_indexer] = value instead\n",
      "\n",
      "See the caveats in the documentation: http://pandas.pydata.org/pandas-docs/stable/user_guide/indexing.html#returning-a-view-versus-a-copy\n",
      "  \n",
      "c:\\users\\ngt\\appdata\\local\\programs\\python\\python37\\lib\\site-packages\\ipykernel_launcher.py:10: SettingWithCopyWarning: \n",
      "A value is trying to be set on a copy of a slice from a DataFrame.\n",
      "Try using .loc[row_indexer,col_indexer] = value instead\n",
      "\n",
      "See the caveats in the documentation: http://pandas.pydata.org/pandas-docs/stable/user_guide/indexing.html#returning-a-view-versus-a-copy\n",
      "  # Remove the CWD from sys.path while we load stuff.\n",
      "c:\\users\\ngt\\appdata\\local\\programs\\python\\python37\\lib\\site-packages\\ipykernel_launcher.py:14: SettingWithCopyWarning: \n",
      "A value is trying to be set on a copy of a slice from a DataFrame.\n",
      "Try using .loc[row_indexer,col_indexer] = value instead\n",
      "\n",
      "See the caveats in the documentation: http://pandas.pydata.org/pandas-docs/stable/user_guide/indexing.html#returning-a-view-versus-a-copy\n",
      "  \n",
      "c:\\users\\ngt\\appdata\\local\\programs\\python\\python37\\lib\\site-packages\\ipykernel_launcher.py:17: SettingWithCopyWarning: \n",
      "A value is trying to be set on a copy of a slice from a DataFrame.\n",
      "Try using .loc[row_indexer,col_indexer] = value instead\n",
      "\n",
      "See the caveats in the documentation: http://pandas.pydata.org/pandas-docs/stable/user_guide/indexing.html#returning-a-view-versus-a-copy\n",
      "c:\\users\\ngt\\appdata\\local\\programs\\python\\python37\\lib\\site-packages\\ipykernel_launcher.py:20: SettingWithCopyWarning: \n",
      "A value is trying to be set on a copy of a slice from a DataFrame.\n",
      "Try using .loc[row_indexer,col_indexer] = value instead\n",
      "\n",
      "See the caveats in the documentation: http://pandas.pydata.org/pandas-docs/stable/user_guide/indexing.html#returning-a-view-versus-a-copy\n",
      "c:\\users\\ngt\\appdata\\local\\programs\\python\\python37\\lib\\site-packages\\ipykernel_launcher.py:24: SettingWithCopyWarning: \n",
      "A value is trying to be set on a copy of a slice from a DataFrame.\n",
      "Try using .loc[row_indexer,col_indexer] = value instead\n",
      "\n",
      "See the caveats in the documentation: http://pandas.pydata.org/pandas-docs/stable/user_guide/indexing.html#returning-a-view-versus-a-copy\n",
      "c:\\users\\ngt\\appdata\\local\\programs\\python\\python37\\lib\\site-packages\\ipykernel_launcher.py:27: SettingWithCopyWarning: \n",
      "A value is trying to be set on a copy of a slice from a DataFrame.\n",
      "Try using .loc[row_indexer,col_indexer] = value instead\n",
      "\n",
      "See the caveats in the documentation: http://pandas.pydata.org/pandas-docs/stable/user_guide/indexing.html#returning-a-view-versus-a-copy\n",
      "c:\\users\\ngt\\appdata\\local\\programs\\python\\python37\\lib\\site-packages\\ipykernel_launcher.py:28: DeprecationWarning: Vincenty is deprecated and is going to be removed in geopy 2.0. Use `geopy.distance.geodesic` (or the default `geopy.distance.distance`) instead, which is more accurate and always converges.\n",
      "c:\\users\\ngt\\appdata\\local\\programs\\python\\python37\\lib\\site-packages\\ipykernel_launcher.py:28: SettingWithCopyWarning: \n",
      "A value is trying to be set on a copy of a slice from a DataFrame.\n",
      "Try using .loc[row_indexer,col_indexer] = value instead\n",
      "\n",
      "See the caveats in the documentation: http://pandas.pydata.org/pandas-docs/stable/user_guide/indexing.html#returning-a-view-versus-a-copy\n"
     ]
    },
    {
     "name": "stdout",
     "output_type": "stream",
     "text": [
      "Run : 1  =======>>>>>>>>>> AB11\n",
      "Run : 2  =======>>>>>>>>>> AB12\n",
      "Run : 3  =======>>>>>>>>>> AB13\n",
      "Run : 4  =======>>>>>>>>>> AB14\n",
      "Run : 5  =======>>>>>>>>>> AB15\n",
      "Run : 6  =======>>>>>>>>>> AB16\n",
      "Run : 7  =======>>>>>>>>>> AB21\n",
      "Run : 8  =======>>>>>>>>>> AB22\n",
      "Run : 9  =======>>>>>>>>>> AB23\n",
      "Run : 10  =======>>>>>>>>>> AB24\n",
      "Run : 11  =======>>>>>>>>>> AB25\n",
      "Run : 12  =======>>>>>>>>>> AB30\n",
      "Run : 13  =======>>>>>>>>>> AB31\n",
      "Run : 14  =======>>>>>>>>>> AB32\n"
     ]
    }
   ],
   "source": [
    "for i in range(0,WarehouseLoop.shape[0]):\n",
    "    print('Run :',i,' =======>>>>>>>>>>',WarehouseLoop['postcode'][i])\n",
    "    WarehouseHold = WarehouseGood.head(10000)\n",
    "    WarehouseHold['Transaction']=WarehouseHold.apply(lambda row:\n",
    "                'WH-to-WH' \n",
    "                ,axis=1)\n",
    "    \n",
    "    WarehouseHold['Seller']=WarehouseHold.apply(lambda row:\n",
    "                'WH-' + WarehouseLoop['postcode'][i]\n",
    "                ,axis=1)    \n",
    "    \n",
    "    WarehouseHold['Seller_Latitude']=WarehouseHold.apply(lambda row:\n",
    "                WarehouseHold['latitude'][i]\n",
    "                ,axis=1)\n",
    "    WarehouseHold['Seller_Longitude']=WarehouseHold.apply(lambda row:\n",
    "                WarehouseLoop['longitude'][i]\n",
    "                ,axis=1)        \n",
    "    WarehouseHold['Buyer']=WarehouseHold.apply(lambda row:\n",
    "                'WH-' + row['postcode']\n",
    "                ,axis=1)\n",
    "    \n",
    "    WarehouseHold['Buyer_Latitude']=WarehouseHold.apply(lambda row:\n",
    "                row['latitude']\n",
    "                ,axis=1)\n",
    "    WarehouseHold['Buyer_Longitude']=WarehouseHold.apply(lambda row:\n",
    "                row['longitude']\n",
    "                ,axis=1)\n",
    "    WarehouseHold['Distance']=WarehouseHold.apply(lambda row: round(vincenty((WarehouseLoop['latitude'][i],WarehouseLoop['longitude'][i]),(row['latitude'],row['longitude'])).miles,6),axis=1)            \n",
    "    \n",
    "    WarehouseHold.drop('id', axis=1, inplace=True)\n",
    "    WarehouseHold.drop('postcode', axis=1, inplace=True)\n",
    "    WarehouseHold.drop('latitude', axis=1, inplace=True)\n",
    "    WarehouseHold.drop('longitude', axis=1, inplace=True)    \n",
    "    \n",
    "    OutputLoopName='Retrieve_Route_' + 'WH-' + WarehouseLoop['postcode'][i] + '_Route.csv'\n",
    "    sFileLoopName=OutputFileDir + '/' + OutputLoopName\n",
    "    WarehouseHold.to_csv(sFileLoopName, index = False)"
   ]
  },
  {
   "cell_type": "code",
   "execution_count": 33,
   "metadata": {},
   "outputs": [
    {
     "data": {
      "text/html": [
       "<div>\n",
       "<style scoped>\n",
       "    .dataframe tbody tr th:only-of-type {\n",
       "        vertical-align: middle;\n",
       "    }\n",
       "\n",
       "    .dataframe tbody tr th {\n",
       "        vertical-align: top;\n",
       "    }\n",
       "\n",
       "    .dataframe thead th {\n",
       "        text-align: right;\n",
       "    }\n",
       "</style>\n",
       "<table border=\"1\" class=\"dataframe\">\n",
       "  <thead>\n",
       "    <tr style=\"text-align: right;\">\n",
       "      <th></th>\n",
       "      <th>Transaction</th>\n",
       "      <th>Seller</th>\n",
       "      <th>Seller_Latitude</th>\n",
       "      <th>Seller_Longitude</th>\n",
       "      <th>Buyer</th>\n",
       "      <th>Buyer_Latitude</th>\n",
       "      <th>Buyer_Longitude</th>\n",
       "      <th>Distance</th>\n",
       "    </tr>\n",
       "  </thead>\n",
       "  <tbody>\n",
       "    <tr>\n",
       "      <td>0</td>\n",
       "      <td>WH-to-WH</td>\n",
       "      <td>WH-AB37</td>\n",
       "      <td>57.33098</td>\n",
       "      <td>-3.35051</td>\n",
       "      <td>WH-AB10</td>\n",
       "      <td>57.13514</td>\n",
       "      <td>-2.11731</td>\n",
       "      <td>48.219393</td>\n",
       "    </tr>\n",
       "    <tr>\n",
       "      <td>1</td>\n",
       "      <td>WH-to-WH</td>\n",
       "      <td>WH-AB37</td>\n",
       "      <td>57.33098</td>\n",
       "      <td>-3.35051</td>\n",
       "      <td>WH-AB11</td>\n",
       "      <td>57.13875</td>\n",
       "      <td>-2.09089</td>\n",
       "      <td>49.101133</td>\n",
       "    </tr>\n",
       "    <tr>\n",
       "      <td>2</td>\n",
       "      <td>WH-to-WH</td>\n",
       "      <td>WH-AB37</td>\n",
       "      <td>57.33098</td>\n",
       "      <td>-3.35051</td>\n",
       "      <td>WH-AB12</td>\n",
       "      <td>57.10100</td>\n",
       "      <td>-2.11060</td>\n",
       "      <td>49.194315</td>\n",
       "    </tr>\n",
       "    <tr>\n",
       "      <td>3</td>\n",
       "      <td>WH-to-WH</td>\n",
       "      <td>WH-AB37</td>\n",
       "      <td>57.33098</td>\n",
       "      <td>-3.35051</td>\n",
       "      <td>WH-AB13</td>\n",
       "      <td>57.10801</td>\n",
       "      <td>-2.23776</td>\n",
       "      <td>44.529841</td>\n",
       "    </tr>\n",
       "    <tr>\n",
       "      <td>4</td>\n",
       "      <td>WH-to-WH</td>\n",
       "      <td>WH-AB37</td>\n",
       "      <td>57.33098</td>\n",
       "      <td>-3.35051</td>\n",
       "      <td>WH-AB14</td>\n",
       "      <td>57.10076</td>\n",
       "      <td>-2.27073</td>\n",
       "      <td>43.555678</td>\n",
       "    </tr>\n",
       "  </tbody>\n",
       "</table>\n",
       "</div>"
      ],
      "text/plain": [
       "  Transaction   Seller  Seller_Latitude  Seller_Longitude    Buyer  \\\n",
       "0    WH-to-WH  WH-AB37         57.33098          -3.35051  WH-AB10   \n",
       "1    WH-to-WH  WH-AB37         57.33098          -3.35051  WH-AB11   \n",
       "2    WH-to-WH  WH-AB37         57.33098          -3.35051  WH-AB12   \n",
       "3    WH-to-WH  WH-AB37         57.33098          -3.35051  WH-AB13   \n",
       "4    WH-to-WH  WH-AB37         57.33098          -3.35051  WH-AB14   \n",
       "\n",
       "   Buyer_Latitude  Buyer_Longitude   Distance  \n",
       "0        57.13514         -2.11731  48.219393  \n",
       "1        57.13875         -2.09089  49.101133  \n",
       "2        57.10100         -2.11060  49.194315  \n",
       "3        57.10801         -2.23776  44.529841  \n",
       "4        57.10076         -2.27073  43.555678  "
      ]
     },
     "execution_count": 33,
     "metadata": {},
     "output_type": "execute_result"
    }
   ],
   "source": [
    "  WarehouseHold.head()"
   ]
  },
  {
   "cell_type": "code",
   "execution_count": null,
   "metadata": {},
   "outputs": [],
   "source": []
  },
  {
   "cell_type": "code",
   "execution_count": null,
   "metadata": {},
   "outputs": [],
   "source": []
  },
  {
   "cell_type": "code",
   "execution_count": null,
   "metadata": {},
   "outputs": [],
   "source": []
  }
 ],
 "metadata": {
  "kernelspec": {
   "display_name": "Python 3",
   "language": "python",
   "name": "python3"
  },
  "language_info": {
   "codemirror_mode": {
    "name": "ipython",
    "version": 3
   },
   "file_extension": ".py",
   "mimetype": "text/x-python",
   "name": "python",
   "nbconvert_exporter": "python",
   "pygments_lexer": "ipython3",
   "version": "3.7.4"
  }
 },
 "nbformat": 4,
 "nbformat_minor": 2
}
