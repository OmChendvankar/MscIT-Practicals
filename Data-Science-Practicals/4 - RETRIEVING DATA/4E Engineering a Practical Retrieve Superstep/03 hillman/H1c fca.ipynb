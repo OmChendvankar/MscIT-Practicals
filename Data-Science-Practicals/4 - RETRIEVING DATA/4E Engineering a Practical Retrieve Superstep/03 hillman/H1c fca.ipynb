{
 "cells": [
  {
   "cell_type": "code",
   "execution_count": 2,
   "metadata": {},
   "outputs": [
    {
     "name": "stdout",
     "output_type": "stream",
     "text": [
      "################################\n",
      "Working Base : C:/VKHCG\n"
     ]
    }
   ],
   "source": [
    "import os\n",
    "import pandas as pd\n",
    "################################################################\n",
    "IncoTerm='FCA'\n",
    "InputFileName='Incoterm_2010.csv'\n",
    "OutputFileName='Retrieve_Incoterm_' + IncoTerm + '_RuleSet.csv'\n",
    "Company='03-Hillman'\n",
    "################################################################\n",
    "Base='C:/VKHCG'\n",
    "print('################################')\n",
    "print('Working Base :',Base)"
   ]
  },
  {
   "cell_type": "code",
   "execution_count": 3,
   "metadata": {},
   "outputs": [
    {
     "name": "stdout",
     "output_type": "stream",
     "text": [
      "###########\n",
      "Loading : C:/VKHCG/03-Hillman/00-RawData/Incoterm_2010.csv\n",
      "Rows : 1\n",
      "Columns : 9\n",
      "###########\n",
      "  Shipping_Term  Seller Carrier Port_From   Ship Port_To Terminal Named_Place  \\\n",
      "1           FCA  Seller  Seller     Buyer  Buyer   Buyer    Buyer       Buyer   \n",
      "\n",
      "   Buyer  \n",
      "1  Buyer  \n"
     ]
    }
   ],
   "source": [
    "sFileDir=Base + '/' + Company + '/01-Retrieve/01-EDS/02-Python'\n",
    "if not os.path.exists(sFileDir):\n",
    "    os.makedirs(sFileDir)\n",
    "################################################################\n",
    "### Import Incoterms\n",
    "################################################################\n",
    "sFileName=Base + '/' + Company + '/00-RawData/' + InputFileName\n",
    "print('###########')\n",
    "print('Loading :',sFileName)\n",
    "IncotermGrid=pd.read_csv(sFileName,header=0,low_memory=False)\n",
    "IncotermRule=IncotermGrid[IncotermGrid.Shipping_Term == IncoTerm]\n",
    "print('Rows :',IncotermRule.shape[0])\n",
    "print('Columns :',IncotermRule.shape[1])\n",
    "print('###########')\n",
    "\n",
    "print(IncotermRule)"
   ]
  },
  {
   "cell_type": "code",
   "execution_count": 4,
   "metadata": {},
   "outputs": [
    {
     "name": "stdout",
     "output_type": "stream",
     "text": [
      "### Done!! ############################################\n"
     ]
    }
   ],
   "source": [
    "sFileName=sFileDir + '/' + OutputFileName\n",
    "IncotermRule.to_csv(sFileName, index = False)\n",
    "\n",
    "################################################################\n",
    "print('### Done!! ############################################')"
   ]
  },
  {
   "cell_type": "code",
   "execution_count": null,
   "metadata": {},
   "outputs": [],
   "source": []
  }
 ],
 "metadata": {
  "kernelspec": {
   "display_name": "Python 3",
   "language": "python",
   "name": "python3"
  },
  "language_info": {
   "codemirror_mode": {
    "name": "ipython",
    "version": 3
   },
   "file_extension": ".py",
   "mimetype": "text/x-python",
   "name": "python",
   "nbconvert_exporter": "python",
   "pygments_lexer": "ipython3",
   "version": "3.7.3"
  }
 },
 "nbformat": 4,
 "nbformat_minor": 2
}
