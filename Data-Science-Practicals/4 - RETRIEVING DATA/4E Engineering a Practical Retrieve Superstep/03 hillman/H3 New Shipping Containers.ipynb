{
 "cells": [
  {
   "cell_type": "code",
   "execution_count": 3,
   "metadata": {},
   "outputs": [],
   "source": [
    "import sys\n",
    "import os\n",
    "import pandas as pd"
   ]
  },
  {
   "cell_type": "code",
   "execution_count": 4,
   "metadata": {},
   "outputs": [],
   "source": [
    "################################################################\n",
    "ContainerFileName='Retrieve_Container.csv'\n",
    "BoxFileName='Retrieve_Box.csv'\n",
    "ProductFileName='Retrieve_Product.csv'\n",
    "Company='03-Hillman'"
   ]
  },
  {
   "cell_type": "code",
   "execution_count": 20,
   "metadata": {},
   "outputs": [],
   "source": [
    "InputFileName='C:/VKHCG/03-Hillman/01-Retrieve/01-EDS/02-Python/'\n",
    "                #C:\\VKHCG\\03-Hillman\\01-Retrieve\\01-EDS\\02-Python"
   ]
  },
  {
   "cell_type": "code",
   "execution_count": 5,
   "metadata": {},
   "outputs": [],
   "source": [
    "containerLength=range(1,21)\n",
    "containerWidth=range(1,10)\n",
    "containerHeigth=range(1,6)\n",
    "containerStep=1\n",
    "c=0"
   ]
  },
  {
   "cell_type": "code",
   "execution_count": 7,
   "metadata": {},
   "outputs": [],
   "source": [
    "for l in containerLength:\n",
    "    for w in containerWidth:\n",
    "        for h in containerHeigth:\n",
    "            containerVolume=(l/containerStep)*(w/containerStep)*(h/containerStep)\n",
    "            c=c+1\n",
    "            ContainerLine=[('ShipType', ['Container']), \n",
    "                       ('UnitNumber', ('C'+format(c,\"06d\"))),\n",
    "                       ('Length',(format(round(l,3),\".4f\"))),\n",
    "                       ('Width',(format(round(w,3),\".4f\"))), \n",
    "                       ('Height',(format(round(h,3),\".4f\"))),\n",
    "                       ('ContainerVolume',(format(round(containerVolume,6),\".6f\")))]\n",
    "            if c==1:\n",
    "               ContainerFrame = pd.DataFrame.from_dict(ContainerLine) \n",
    "            else:\n",
    "                ContainerRow = pd.DataFrame.from_dict(ContainerLine)\n",
    "                ContainerFrame = ContainerFrame.append(ContainerRow)\n",
    "            ContainerFrame.index.name = 'IDNumber'\n",
    "         "
   ]
  },
  {
   "cell_type": "code",
   "execution_count": 9,
   "metadata": {},
   "outputs": [
    {
     "name": "stdout",
     "output_type": "stream",
     "text": [
      "################\n",
      "## Container\n",
      "################\n",
      "Rows : 10800\n",
      "Columns : 2\n",
      "################\n"
     ]
    }
   ],
   "source": [
    "print('################')   \n",
    "print('## Container') \n",
    "print('################')\n",
    "print('Rows :',ContainerFrame.shape[0])\n",
    "print('Columns :',ContainerFrame.shape[1])\n",
    "print('################')"
   ]
  },
  {
   "cell_type": "code",
   "execution_count": null,
   "metadata": {},
   "outputs": [],
   "source": [
    "ContainerFrame"
   ]
  },
  {
   "cell_type": "code",
   "execution_count": 21,
   "metadata": {},
   "outputs": [
    {
     "data": {
      "text/plain": [
       "'C:/VKHCG/03-Hillman/01-Retrieve/01-EDS/02-Python/Retrieve_Container.csv'"
      ]
     },
     "execution_count": 21,
     "metadata": {},
     "output_type": "execute_result"
    }
   ],
   "source": [
    "sFileContainerName= InputFileName + ContainerFileName \n",
    "sFileContainerName"
   ]
  },
  {
   "cell_type": "code",
   "execution_count": 23,
   "metadata": {},
   "outputs": [],
   "source": [
    "ContainerFrame.to_csv(sFileContainerName, index = False) "
   ]
  },
  {
   "cell_type": "code",
   "execution_count": null,
   "metadata": {},
   "outputs": [],
   "source": [
    "##Boxes"
   ]
  },
  {
   "cell_type": "code",
   "execution_count": 24,
   "metadata": {},
   "outputs": [],
   "source": [
    "boxLength=range(1,21)\n",
    "boxWidth=range(1,21)\n",
    "boxHeigth=range(1,21)\n",
    "packThick=range(0,6)\n",
    "boxStep=10\n",
    "b=0\n",
    "for l in boxLength:\n",
    "    for w in boxWidth:\n",
    "        for h in boxHeigth:\n",
    "            for t in packThick:\n",
    "                boxVolume=round((l/boxStep)*(w/boxStep)*(h/boxStep),6)\n",
    "                productVolume=round(((l-t)/boxStep)*((w-t)/boxStep)*((h-t)/boxStep),6)\n",
    "                if productVolume > 0:\n",
    "                    b=b+1\n",
    "                    BoxLine=[('ShipType', ['Box']), \n",
    "                       ('UnitNumber', ('B'+format(b,\"06d\"))),\n",
    "                       ('Length',(format(round(l/10,6),\".6f\"))),\n",
    "                       ('Width',(format(round(w/10,6),\".6f\"))), \n",
    "                       ('Height',(format(round(h/10,6),\".6f\"))),\n",
    "                       ('Thickness',(format(round(t/5,6),\".6f\"))),\n",
    "                       ('BoxVolume',(format(round(boxVolume,9),\".9f\"))),\n",
    "                       ('ProductVolume',(format(round(productVolume,9),\".9f\")))]\n",
    "                    if b==1:\n",
    "                       BoxFrame = pd.DataFrame.from_dict(BoxLine) \n",
    "                    else:\n",
    "                        BoxRow = pd.DataFrame.from_dict(BoxLine)\n",
    "                        BoxFrame = BoxFrame.append(BoxRow)\n",
    "                    BoxFrame.index.name = 'IDNumber'"
   ]
  },
  {
   "cell_type": "code",
   "execution_count": 27,
   "metadata": {},
   "outputs": [
    {
     "name": "stdout",
     "output_type": "stream",
     "text": [
      "#################\n",
      "## Box\n",
      "#################\n",
      "Rows : 275880\n",
      "Columns : 2\n",
      "#################\n"
     ]
    }
   ],
   "source": [
    "print('#################')   \n",
    "print('## Box')   \n",
    "print('#################')\n",
    "print('Rows :',BoxFrame.shape[0])\n",
    "print('Columns :',BoxFrame.shape[1])\n",
    "print('#################')\n",
    "################################################################\n",
    "sFileBoxName=InputFileName + '/' + BoxFileName \n",
    "BoxFrame.to_csv(sFileBoxName, index = False) \n"
   ]
  },
  {
   "cell_type": "code",
   "execution_count": 29,
   "metadata": {},
   "outputs": [
    {
     "data": {
      "text/html": [
       "<div>\n",
       "<style scoped>\n",
       "    .dataframe tbody tr th:only-of-type {\n",
       "        vertical-align: middle;\n",
       "    }\n",
       "\n",
       "    .dataframe tbody tr th {\n",
       "        vertical-align: top;\n",
       "    }\n",
       "\n",
       "    .dataframe thead th {\n",
       "        text-align: right;\n",
       "    }\n",
       "</style>\n",
       "<table border=\"1\" class=\"dataframe\">\n",
       "  <thead>\n",
       "    <tr style=\"text-align: right;\">\n",
       "      <th></th>\n",
       "      <th>0</th>\n",
       "      <th>1</th>\n",
       "    </tr>\n",
       "    <tr>\n",
       "      <th>IDNumber</th>\n",
       "      <th></th>\n",
       "      <th></th>\n",
       "    </tr>\n",
       "  </thead>\n",
       "  <tbody>\n",
       "    <tr>\n",
       "      <th>0</th>\n",
       "      <td>ShipType</td>\n",
       "      <td>[Box]</td>\n",
       "    </tr>\n",
       "    <tr>\n",
       "      <th>1</th>\n",
       "      <td>UnitNumber</td>\n",
       "      <td>B000001</td>\n",
       "    </tr>\n",
       "    <tr>\n",
       "      <th>2</th>\n",
       "      <td>Length</td>\n",
       "      <td>0.100000</td>\n",
       "    </tr>\n",
       "    <tr>\n",
       "      <th>3</th>\n",
       "      <td>Width</td>\n",
       "      <td>0.100000</td>\n",
       "    </tr>\n",
       "    <tr>\n",
       "      <th>4</th>\n",
       "      <td>Height</td>\n",
       "      <td>0.100000</td>\n",
       "    </tr>\n",
       "    <tr>\n",
       "      <th>5</th>\n",
       "      <td>Thickness</td>\n",
       "      <td>0.000000</td>\n",
       "    </tr>\n",
       "    <tr>\n",
       "      <th>6</th>\n",
       "      <td>BoxVolume</td>\n",
       "      <td>0.001000000</td>\n",
       "    </tr>\n",
       "    <tr>\n",
       "      <th>7</th>\n",
       "      <td>ProductVolume</td>\n",
       "      <td>0.001000000</td>\n",
       "    </tr>\n",
       "    <tr>\n",
       "      <th>0</th>\n",
       "      <td>ShipType</td>\n",
       "      <td>[Box]</td>\n",
       "    </tr>\n",
       "    <tr>\n",
       "      <th>1</th>\n",
       "      <td>UnitNumber</td>\n",
       "      <td>B000002</td>\n",
       "    </tr>\n",
       "  </tbody>\n",
       "</table>\n",
       "</div>"
      ],
      "text/plain": [
       "                      0            1\n",
       "IDNumber                            \n",
       "0              ShipType        [Box]\n",
       "1            UnitNumber      B000001\n",
       "2                Length     0.100000\n",
       "3                 Width     0.100000\n",
       "4                Height     0.100000\n",
       "5             Thickness     0.000000\n",
       "6             BoxVolume  0.001000000\n",
       "7         ProductVolume  0.001000000\n",
       "0              ShipType        [Box]\n",
       "1            UnitNumber      B000002"
      ]
     },
     "execution_count": 29,
     "metadata": {},
     "output_type": "execute_result"
    }
   ],
   "source": [
    "BoxFrame.head(10)"
   ]
  },
  {
   "cell_type": "code",
   "execution_count": 31,
   "metadata": {},
   "outputs": [],
   "source": [
    "productLength=range(1,21)\n",
    "productWidth=range(1,21)\n",
    "productHeigth=range(1,21)\n",
    "productStep=10\n",
    "p=0"
   ]
  },
  {
   "cell_type": "code",
   "execution_count": 32,
   "metadata": {},
   "outputs": [
    {
     "name": "stderr",
     "output_type": "stream",
     "text": [
      "C:\\ProgramData\\Anaconda3\\lib\\site-packages\\ipykernel_launcher.py:14: FutureWarning: from_items is deprecated. Please use DataFrame.from_dict(dict(items), ...) instead. DataFrame.from_dict(OrderedDict(items)) may be used to preserve the key order.\n",
      "  \n",
      "C:\\ProgramData\\Anaconda3\\lib\\site-packages\\ipykernel_launcher.py:16: FutureWarning: from_items is deprecated. Please use DataFrame.from_dict(dict(items), ...) instead. DataFrame.from_dict(OrderedDict(items)) may be used to preserve the key order.\n",
      "  app.launch_new_instance()\n"
     ]
    },
    {
     "name": "stdout",
     "output_type": "stream",
     "text": [
      "#################\n",
      "## Product\n",
      "#################\n",
      "Rows : 8000\n",
      "Columns : 6\n",
      "#################\n"
     ]
    }
   ],
   "source": [
    "for l in productLength:\n",
    "    for w in productWidth:\n",
    "        for h in productHeigth:\n",
    "            productVolume=round((l/productStep)*(w/productStep)*(h/productStep),6)\n",
    "            if productVolume > 0:\n",
    "                p=p+1\n",
    "                ProductLine=[('ShipType', ['Product']), \n",
    "                   ('UnitNumber', ('P'+format(p,\"06d\"))),\n",
    "                   ('Length',(format(round(l/10,6),\".6f\"))),\n",
    "                   ('Width',(format(round(w/10,6),\".6f\"))), \n",
    "                   ('Height',(format(round(h/10,6),\".6f\"))),\n",
    "                   ('ProductVolume',(format(round(productVolume,9),\".9f\")))]\n",
    "                if p==1:\n",
    "                   ProductFrame = pd.DataFrame.from_items(ProductLine) \n",
    "                else:\n",
    "                    ProductRow = pd.DataFrame.from_items(ProductLine)\n",
    "                    ProductFrame = ProductFrame.append(ProductRow)\n",
    "                BoxFrame.index.name = 'IDNumber'\n",
    "                    \n",
    "print('#################')   \n",
    "print('## Product')   \n",
    "print('#################')\n",
    "print('Rows :',ProductFrame.shape[0])\n",
    "print('Columns :',ProductFrame.shape[1])\n",
    "print('#################')"
   ]
  },
  {
   "cell_type": "code",
   "execution_count": 33,
   "metadata": {},
   "outputs": [],
   "source": [
    "sFileProductName=InputFileName + '/' + ProductFileName \n",
    "ProductFrame.to_csv(sFileProductName, index = False) "
   ]
  },
  {
   "cell_type": "code",
   "execution_count": null,
   "metadata": {},
   "outputs": [],
   "source": []
  }
 ],
 "metadata": {
  "kernelspec": {
   "display_name": "Python 3",
   "language": "python",
   "name": "python3"
  },
  "language_info": {
   "codemirror_mode": {
    "name": "ipython",
    "version": 3
   },
   "file_extension": ".py",
   "mimetype": "text/x-python",
   "name": "python",
   "nbconvert_exporter": "python",
   "pygments_lexer": "ipython3",
   "version": "3.7.3"
  }
 },
 "nbformat": 4,
 "nbformat_minor": 2
}
