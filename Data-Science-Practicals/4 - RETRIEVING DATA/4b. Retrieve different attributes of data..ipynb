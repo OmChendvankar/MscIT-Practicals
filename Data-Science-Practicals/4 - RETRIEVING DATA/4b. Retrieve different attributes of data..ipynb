{
 "cells": [
  {
   "cell_type": "code",
   "execution_count": 1,
   "metadata": {},
   "outputs": [],
   "source": [
    "import sys\n",
    "import os\n",
    "import pandas as pd"
   ]
  },
  {
   "cell_type": "code",
   "execution_count": 6,
   "metadata": {},
   "outputs": [],
   "source": [
    "sFileName='C:/Users/NGT/Desktop/Input files/IP_DATA_ALL.csv'\n",
    "IP_DATA_ALL=pd.read_csv(sFileName,header=0,low_memory=False, encoding=\"latin-1\")"
   ]
  },
  {
   "cell_type": "code",
   "execution_count": 7,
   "metadata": {},
   "outputs": [
    {
     "data": {
      "text/plain": [
       "(1247502, 9)"
      ]
     },
     "execution_count": 7,
     "metadata": {},
     "output_type": "execute_result"
    }
   ],
   "source": [
    "# Print no of rows n cols\n",
    "IP_DATA_ALL.shape"
   ]
  },
  {
   "cell_type": "code",
   "execution_count": 9,
   "metadata": {},
   "outputs": [
    {
     "name": "stdout",
     "output_type": "stream",
     "text": [
      "### Raw Data Set #####################################\n",
      "Unnamed: 0 <class 'str'>\n",
      "ID <class 'str'>\n",
      "Country <class 'str'>\n",
      "Place_Name <class 'str'>\n",
      "Post_Code <class 'str'>\n",
      "Latitude <class 'str'>\n",
      "Longitude <class 'str'>\n",
      "First_IP_Number <class 'str'>\n",
      "Last_IP_Number <class 'str'>\n",
      "### Fixed Data Set ###################################\n",
      "Unnamed: 0 <class 'str'>\n",
      "ID <class 'str'>\n",
      "Country <class 'str'>\n",
      "Place.Name <class 'str'>\n",
      "Post.Code <class 'str'>\n",
      "Latitude <class 'str'>\n",
      "Longitude <class 'str'>\n",
      "First.IP.Number <class 'str'>\n",
      "Last.IP.Number <class 'str'>\n"
     ]
    }
   ],
   "source": [
    "print('### Raw Data Set #####################################')\n",
    "for i in range(0,len(IP_DATA_ALL.columns)):\n",
    "    print(IP_DATA_ALL.columns[i],type(IP_DATA_ALL.columns[i]))\n",
    "print('### Fixed Data Set ###################################')\n",
    "IP_DATA_ALL_FIX=IP_DATA_ALL\n",
    "for i in range(0,len(IP_DATA_ALL.columns)):\n",
    "    cNameOld=IP_DATA_ALL_FIX.columns[i] + '     '\n",
    "    cNameNew=cNameOld.strip().replace(\"_\", \".\")\n",
    "    IP_DATA_ALL_FIX.columns.values[i] = cNameNew\n",
    "    print(IP_DATA_ALL.columns[i],type(IP_DATA_ALL.columns[i]))"
   ]
  },
  {
   "cell_type": "code",
   "execution_count": 11,
   "metadata": {},
   "outputs": [
    {
     "name": "stdout",
     "output_type": "stream",
     "text": [
      "Fixed Data Set with ID\n"
     ]
    }
   ],
   "source": [
    "#print(IP_DATA_ALL_FIX.head())\n",
    "################################################################\n",
    "print('Fixed Data Set with ID')\n",
    "IP_DATA_ALL_with_ID=IP_DATA_ALL_FIX\n",
    "IP_DATA_ALL_with_ID.index.names = ['RowID']\n",
    "#print(IP_DATA_ALL_with_ID.head())\n",
    "\n",
    "sFileName2='C:/Users/NGT/Desktop/Input files/Retrieve_IP_DATA.csv'\n",
    "IP_DATA_ALL_with_ID.to_csv(sFileName2, index = True, encoding=\"latin-1\")\n",
    "\n",
    "################################################"
   ]
  },
  {
   "cell_type": "code",
   "execution_count": null,
   "metadata": {},
   "outputs": [],
   "source": []
  }
 ],
 "metadata": {
  "kernelspec": {
   "display_name": "Python 3",
   "language": "python",
   "name": "python3"
  },
  "language_info": {
   "codemirror_mode": {
    "name": "ipython",
    "version": 3
   },
   "file_extension": ".py",
   "mimetype": "text/x-python",
   "name": "python",
   "nbconvert_exporter": "python",
   "pygments_lexer": "ipython3",
   "version": "3.7.3"
  }
 },
 "nbformat": 4,
 "nbformat_minor": 2
}
