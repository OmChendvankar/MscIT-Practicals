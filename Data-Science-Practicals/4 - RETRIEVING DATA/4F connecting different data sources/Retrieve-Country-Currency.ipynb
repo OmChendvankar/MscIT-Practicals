{
 "cells": [
  {
   "cell_type": "code",
   "execution_count": 8,
   "metadata": {},
   "outputs": [],
   "source": [
    "import os\n",
    "import pandas as pd\n",
    "import sys"
   ]
  },
  {
   "cell_type": "code",
   "execution_count": 9,
   "metadata": {},
   "outputs": [],
   "source": [
    "#pip install xlrd"
   ]
  },
  {
   "cell_type": "code",
   "execution_count": 10,
   "metadata": {},
   "outputs": [],
   "source": [
    "InputFileName = 'Country_Currency.xls'\n",
    "InputFileDir = 'C:/VKHCG/04-Clark/01-Retrieve'\n",
    "OutputFileName = 'Retrieve_Country_Currency.csv'\n",
    "OutputFileDir = 'C:/VKHCG/04-Clark/01-Retrieve'"
   ]
  },
  {
   "cell_type": "code",
   "execution_count": 11,
   "metadata": {},
   "outputs": [
    {
     "name": "stdout",
     "output_type": "stream",
     "text": [
      "C:/VKHCG/04-Clark/01-Retrieve/Country_Currency.xls\n",
      "C:/VKHCG/04-Clark/01-Retrieve/Retrieve_Country_Currency.csv\n"
     ]
    }
   ],
   "source": [
    "sInputFileName = InputFileDir + '/' + InputFileName\n",
    "print(sInputFileName)\n",
    "sOutputFileName= OutputFileDir + '/' + OutputFileName\n",
    "print(sOutputFileName)"
   ]
  },
  {
   "cell_type": "code",
   "execution_count": 12,
   "metadata": {},
   "outputs": [
    {
     "data": {
      "text/plain": [
       "(278, 3)"
      ]
     },
     "execution_count": 12,
     "metadata": {},
     "output_type": "execute_result"
    }
   ],
   "source": [
    "CurrencyRawData = pd.read_excel(sInputFileName, sheet_name = \"Data\")\n",
    "CurrencyRawData.shape"
   ]
  },
  {
   "cell_type": "code",
   "execution_count": 17,
   "metadata": {},
   "outputs": [],
   "source": [
    "sColumns = ['Country or territory', 'Currency', 'ISO-4217']\n",
    "CurrencyData = CurrencyRawData[sColumns]"
   ]
  },
  {
   "cell_type": "code",
   "execution_count": 20,
   "metadata": {},
   "outputs": [
    {
     "name": "stdout",
     "output_type": "stream",
     "text": [
      "           Country or territory              Currency ISO-4217\n",
      "0                             A                   NaN      NaN\n",
      "1                   Afghanistan        Afghan afghani      AFN\n",
      "2    Akrotiri and Dhekelia (UK)         European euro      EUR\n",
      "3       Aland Islands (Finland)         European euro      EUR\n",
      "4                       Albania          Albanian lek      ALL\n",
      "..                          ...                   ...      ...\n",
      "273                           Y                   NaN      NaN\n",
      "274                       Yemen           Yemeni rial      YER\n",
      "275                           Z                   NaN      NaN\n",
      "276                      Zambia        Zambian kwacha      ZMW\n",
      "277                    Zimbabwe  United States dollar      USD\n",
      "\n",
      "[278 rows x 3 columns]\n"
     ]
    }
   ],
   "source": [
    "print(CurrencyData)"
   ]
  },
  {
   "cell_type": "code",
   "execution_count": 21,
   "metadata": {},
   "outputs": [
    {
     "data": {
      "text/html": [
       "<div>\n",
       "<style scoped>\n",
       "    .dataframe tbody tr th:only-of-type {\n",
       "        vertical-align: middle;\n",
       "    }\n",
       "\n",
       "    .dataframe tbody tr th {\n",
       "        vertical-align: top;\n",
       "    }\n",
       "\n",
       "    .dataframe thead th {\n",
       "        text-align: right;\n",
       "    }\n",
       "</style>\n",
       "<table border=\"1\" class=\"dataframe\">\n",
       "  <thead>\n",
       "    <tr style=\"text-align: right;\">\n",
       "      <th></th>\n",
       "      <th>Country</th>\n",
       "      <th>Currency</th>\n",
       "      <th>CurrencyCode</th>\n",
       "    </tr>\n",
       "  </thead>\n",
       "  <tbody>\n",
       "    <tr>\n",
       "      <td>1</td>\n",
       "      <td>Afghanistan</td>\n",
       "      <td>Afghan afghani</td>\n",
       "      <td>AFN</td>\n",
       "    </tr>\n",
       "    <tr>\n",
       "      <td>2</td>\n",
       "      <td>Akrotiri and Dhekelia (UK)</td>\n",
       "      <td>European euro</td>\n",
       "      <td>EUR</td>\n",
       "    </tr>\n",
       "    <tr>\n",
       "      <td>3</td>\n",
       "      <td>Aland Islands (Finland)</td>\n",
       "      <td>European euro</td>\n",
       "      <td>EUR</td>\n",
       "    </tr>\n",
       "    <tr>\n",
       "      <td>4</td>\n",
       "      <td>Albania</td>\n",
       "      <td>Albanian lek</td>\n",
       "      <td>ALL</td>\n",
       "    </tr>\n",
       "    <tr>\n",
       "      <td>5</td>\n",
       "      <td>Algeria</td>\n",
       "      <td>Algerian dinar</td>\n",
       "      <td>DZD</td>\n",
       "    </tr>\n",
       "  </tbody>\n",
       "</table>\n",
       "</div>"
      ],
      "text/plain": [
       "                      Country        Currency CurrencyCode\n",
       "1                 Afghanistan  Afghan afghani          AFN\n",
       "2  Akrotiri and Dhekelia (UK)   European euro          EUR\n",
       "3     Aland Islands (Finland)   European euro          EUR\n",
       "4                     Albania    Albanian lek          ALL\n",
       "5                     Algeria  Algerian dinar          DZD"
      ]
     },
     "execution_count": 21,
     "metadata": {},
     "output_type": "execute_result"
    }
   ],
   "source": [
    "CurrencyData.rename(columns={'Country or territory': 'Country', 'ISO-4217':\n",
    "'CurrencyCode'}, inplace=True)\n",
    "CurrencyData.dropna(subset=['Currency'],inplace=True)\n",
    "CurrencyData.head()"
   ]
  },
  {
   "cell_type": "code",
   "execution_count": 22,
   "metadata": {},
   "outputs": [
    {
     "data": {
      "text/plain": [
       "(253, 3)"
      ]
     },
     "execution_count": 22,
     "metadata": {},
     "output_type": "execute_result"
    }
   ],
   "source": [
    "CurrencyData.shape"
   ]
  },
  {
   "cell_type": "code",
   "execution_count": 25,
   "metadata": {},
   "outputs": [],
   "source": [
    "CurrencyData['Country'] = CurrencyData['Country'].map(lambda x: x.strip())\n",
    "CurrencyData['Currency'] = CurrencyData['Currency'].map(lambda x:\n",
    "x.strip())\n",
    "CurrencyData['CurrencyCode'] = CurrencyData['CurrencyCode'].map(lambda x:\n",
    "x.strip())"
   ]
  },
  {
   "cell_type": "code",
   "execution_count": 26,
   "metadata": {},
   "outputs": [
    {
     "name": "stdout",
     "output_type": "stream",
     "text": [
      "                        Country              Currency CurrencyCode\n",
      "1                   Afghanistan        Afghan afghani          AFN\n",
      "2    Akrotiri and Dhekelia (UK)         European euro          EUR\n",
      "3       Aland Islands (Finland)         European euro          EUR\n",
      "4                       Albania          Albanian lek          ALL\n",
      "5                       Algeria        Algerian dinar          DZD\n",
      "..                          ...                   ...          ...\n",
      "271           Wake Island (USA)  United States dollar          USD\n",
      "272  Wallis and Futuna (France)             CFP franc          XPF\n",
      "274                       Yemen           Yemeni rial          YER\n",
      "276                      Zambia        Zambian kwacha          ZMW\n",
      "277                    Zimbabwe  United States dollar          USD\n",
      "\n",
      "[253 rows x 3 columns]\n"
     ]
    }
   ],
   "source": [
    "print(CurrencyData)"
   ]
  },
  {
   "cell_type": "code",
   "execution_count": 27,
   "metadata": {},
   "outputs": [],
   "source": [
    "CurrencyData.to_csv(sOutputFileName, index = False)"
   ]
  }
 ],
 "metadata": {
  "kernelspec": {
   "display_name": "Python 3",
   "language": "python",
   "name": "python3"
  },
  "language_info": {
   "codemirror_mode": {
    "name": "ipython",
    "version": 3
   },
   "file_extension": ".py",
   "mimetype": "text/x-python",
   "name": "python",
   "nbconvert_exporter": "python",
   "pygments_lexer": "ipython3",
   "version": "3.7.4"
  }
 },
 "nbformat": 4,
 "nbformat_minor": 2
}
