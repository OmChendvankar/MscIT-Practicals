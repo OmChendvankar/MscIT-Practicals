{
 "cells": [
  {
   "cell_type": "code",
   "execution_count": 1,
   "id": "6de14672",
   "metadata": {},
   "outputs": [],
   "source": [
    "from scipy.stats import ttest_1samp\n",
    "import numpy as np\n"
   ]
  },
  {
   "cell_type": "code",
   "execution_count": 5,
   "id": "0c7c4343",
   "metadata": {},
   "outputs": [
    {
     "data": {
      "text/plain": [
       "array([20., 30., 25., 13., 16., 17., 34., 35., 38., 42., 43., 45., 48.,\n",
       "       49., 50., 51., 54., 55., 56., 59., 61., 62., 18., 22., 29., 30.,\n",
       "       31., 39., 52., 53., 67., 36., 47., 54., 40., 40., 35., 22., 59.,\n",
       "       58., 30., 43., 22., 45., 21., 59., 51., 47., 25., 58., 50., 23.,\n",
       "       24., 45., 37., 59., 28., 28., 48., 42., 54., 36., 36., 24., 26.,\n",
       "       24., 50., 48., 34., 44., 56., 55., 35., 33., 39., 53., 34., 28.,\n",
       "       56., 24., 21., 29., 28., 58., 35., 57., 26., 25., 59., 56., 22.,\n",
       "       57., 48., 33., 23., 26., 57., 32., 53., 31., 35., 44., 54., 25.,\n",
       "       31., 58., 26., 32., 26., 50., 41., 49., 26., 33., 34., 24., 43.,\n",
       "       42., 51., 36., 38., 38., 40., 38., 56., 39., 23., 33., 53., 30.,\n",
       "       38.])"
      ]
     },
     "execution_count": 5,
     "metadata": {},
     "output_type": "execute_result"
    }
   ],
   "source": [
    "ages = np.genfromtxt('D:\\\\M.Sc.IT\\\\Sem 1\\\\RIC\\\\Practicals\\\\RIC-Pracitcal_Data\\\\Practical-03\\\\ages.csv')\n",
    "ages"
   ]
  },
  {
   "cell_type": "code",
   "execution_count": 6,
   "id": "f7194e12",
   "metadata": {},
   "outputs": [
    {
     "data": {
      "text/plain": [
       "39.47328244274809"
      ]
     },
     "execution_count": 6,
     "metadata": {},
     "output_type": "execute_result"
    }
   ],
   "source": [
    "ages_mean = np.mean(ages)\n",
    "ages_mean"
   ]
  },
  {
   "cell_type": "code",
   "execution_count": 10,
   "id": "070be87d",
   "metadata": {},
   "outputs": [
    {
     "name": "stdout",
     "output_type": "stream",
     "text": [
      "p-values =  5.362905195437013e-14\n"
     ]
    }
   ],
   "source": [
    "tset, pval = ttest_1samp(ages, 30)\n",
    "print('p-values = ',pval)"
   ]
  },
  {
   "cell_type": "code",
   "execution_count": 9,
   "id": "7f474b51",
   "metadata": {},
   "outputs": [
    {
     "name": "stdout",
     "output_type": "stream",
     "text": [
      " we are rejecting null hypothesis\n"
     ]
    }
   ],
   "source": [
    "if pval< 0.05: # alpha value is 0.05\n",
    "\tprint(\" we are rejecting null hypothesis\")\n",
    "else:\n",
    "\tprint(\"we are accepting null hypothesis\")"
   ]
  },
  {
   "cell_type": "code",
   "execution_count": null,
   "id": "222672f9",
   "metadata": {},
   "outputs": [],
   "source": []
  }
 ],
 "metadata": {
  "kernelspec": {
   "display_name": "Python 3 (ipykernel)",
   "language": "python",
   "name": "python3"
  },
  "language_info": {
   "codemirror_mode": {
    "name": "ipython",
    "version": 3
   },
   "file_extension": ".py",
   "mimetype": "text/x-python",
   "name": "python",
   "nbconvert_exporter": "python",
   "pygments_lexer": "ipython3",
   "version": "3.10.0"
  }
 },
 "nbformat": 4,
 "nbformat_minor": 5
}
