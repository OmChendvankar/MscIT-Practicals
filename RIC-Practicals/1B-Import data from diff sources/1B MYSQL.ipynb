{
 "cells": [
  {
   "cell_type": "code",
   "execution_count": 3,
   "id": "0ca50898",
   "metadata": {},
   "outputs": [],
   "source": [
    "import mysql.connector\n",
    "conn = mysql.connector.connect(host='localhost',\n",
    "database='specialshare',\n",
    "user='root',\n",
    "password='')"
   ]
  },
  {
   "cell_type": "code",
   "execution_count": 4,
   "id": "04d7e45e",
   "metadata": {},
   "outputs": [
    {
     "data": {
      "text/plain": [
       "<bound method MySQLConnectionAbstract.connect of <mysql.connector.connection_cext.CMySQLConnection object at 0x000001D469891C90>>"
      ]
     },
     "execution_count": 4,
     "metadata": {},
     "output_type": "execute_result"
    }
   ],
   "source": [
    "conn.connect"
   ]
  },
  {
   "cell_type": "code",
   "execution_count": 6,
   "id": "1d6ed5e6",
   "metadata": {},
   "outputs": [
    {
     "name": "stdout",
     "output_type": "stream",
     "text": [
      "###### Connection With MySql EstablishedSuccessfullly ##### \n"
     ]
    }
   ],
   "source": [
    "if(conn.is_connected):\n",
    "\tprint('###### Connection With MySql Established Successfullly ##### ')\n",
    "else:\n",
    "\tprint('Not Connected -- Check Connection Properites')"
   ]
  },
  {
   "cell_type": "code",
   "execution_count": null,
   "id": "8a5935d0",
   "metadata": {},
   "outputs": [],
   "source": []
  }
 ],
 "metadata": {
  "kernelspec": {
   "display_name": "Python 3 (ipykernel)",
   "language": "python",
   "name": "python3"
  },
  "language_info": {
   "codemirror_mode": {
    "name": "ipython",
    "version": 3
   },
   "file_extension": ".py",
   "mimetype": "text/x-python",
   "name": "python",
   "nbconvert_exporter": "python",
   "pygments_lexer": "ipython3",
   "version": "3.10.0"
  }
 },
 "nbformat": 4,
 "nbformat_minor": 5
}
